{
 "cells": [
  {
   "cell_type": "markdown",
   "metadata": {},
   "source": [
    "#  Pandas 사용법\n",
    "- 더욱 자세한 사용법은 https://pandas.pydata.org/pandas-docs/stable/index.html\n",
    "- 데이터프레임이라는 자료구조를 사용"
   ]
  },
  {
   "cell_type": "markdown",
   "metadata": {},
   "source": [
    "#  Numpy 사용법\n",
    "- 더욱 자세한 사용법은 https://www.numpy.org/ \n",
    "- 수치계산을 위해 만들어진 라이브러리\n",
    "- 배열 개념으로 변수를 사용, 벡터나 행렬 등의 연산을 지원"
   ]
  },
  {
   "cell_type": "markdown",
   "metadata": {},
   "source": [
    "#  Matplotlib 사용법\n",
    "- 더욱 자세한 사용법은 https://matplotlib.org/ 에서 살펴볼 수 있습니다."
   ]
  },
  {
   "cell_type": "code",
   "execution_count": 6,
   "metadata": {},
   "outputs": [],
   "source": [
    "# 현재 실행중인 주피터 노트북에서 그래프를 출력 가능하도록 선언\n",
    "%matplotlib inline"
   ]
  }
 ],
 "metadata": {
  "kernelspec": {
   "display_name": "Python 3",
   "language": "python",
   "name": "python3"
  },
  "language_info": {
   "codemirror_mode": {
    "name": "ipython",
    "version": 3
   },
   "file_extension": ".py",
   "mimetype": "text/x-python",
   "name": "python",
   "nbconvert_exporter": "python",
   "pygments_lexer": "ipython3",
   "version": "3.8.5"
  }
 },
 "nbformat": 4,
 "nbformat_minor": 5
}
