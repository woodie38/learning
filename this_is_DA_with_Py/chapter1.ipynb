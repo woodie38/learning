{
 "cells": [
  {
   "cell_type": "markdown",
   "metadata": {},
   "source": [
    "# 탐색적 데이터 분석의 과정\n",
    "1. 데이터의 출처와 주제,수집 방법 등 조사\n",
    "2. 데이터의 크기 파악(대략적인 양이나 개수를 파악 후 데이터 처리방식 고민)\n",
    "3. 데이터의 피처(구성요소) 파악\n",
    "4. 데이터의 속성 탐색(평균, 통계값 등을 구함)\n",
    "5. 데이터의 피처 간 상관 관계 탐색\n",
    "6. 데이터의 시각화"
   ]
  },
  {
   "cell_type": "markdown",
   "metadata": {},
   "source": [
    "### Feature 형태의 종류\n",
    "- 수치형 피처 (Numerical Feature)\n",
    "1. 연속형 피처(키, 몸무게)\n",
    "2. 비연속형 피처(나이)\n",
    "- 범주형 피처 (Categorical Feature)\n",
    "1. 순서 있음(학점)\n",
    "2. 순서 없음(혈액형)"
   ]
  },
  {
   "cell_type": "markdown",
   "metadata": {},
   "source": [
    "# 프랜차이즈 chipotle의 주문 데이터 분석"
   ]
  },
  {
   "cell_type": "markdown",
   "metadata": {},
   "source": [
    "- [탐색 : 데이터의 기본 정보 탐색](#탐색-:-데이터의-기본-정보-탐색)\n",
    "- [인사이트 발견 : 탐색, 시각화](#인사이트-발견-:-탐색,-시각화)\n",
    "- [탐색적 분석 : 깊이있는 질문 통해 데이터 탐색](#탐색적-분석-:-깊이있는-질문-통해-데이터-탐색)"
   ]
  },
  {
   "cell_type": "markdown",
   "metadata": {},
   "source": [
    "### 탐색 : 데이터의 기본 정보 탐색"
   ]
  },
  {
   "cell_type": "code",
   "execution_count": 4,
   "metadata": {},
   "outputs": [],
   "source": [
    "import pandas as pd\n",
    "\n",
    "file_path = '../python_data_analysis_master/data/chipotle.tsv'\n",
    "chipo = pd.read_csv(file_path, sep = '\\t')"
   ]
  },
  {
   "cell_type": "code",
   "execution_count": 5,
   "metadata": {},
   "outputs": [
    {
     "data": {
      "text/html": [
       "<div>\n",
       "<style scoped>\n",
       "    .dataframe tbody tr th:only-of-type {\n",
       "        vertical-align: middle;\n",
       "    }\n",
       "\n",
       "    .dataframe tbody tr th {\n",
       "        vertical-align: top;\n",
       "    }\n",
       "\n",
       "    .dataframe thead th {\n",
       "        text-align: right;\n",
       "    }\n",
       "</style>\n",
       "<table border=\"1\" class=\"dataframe\">\n",
       "  <thead>\n",
       "    <tr style=\"text-align: right;\">\n",
       "      <th></th>\n",
       "      <th>order_id</th>\n",
       "      <th>quantity</th>\n",
       "      <th>item_name</th>\n",
       "      <th>choice_description</th>\n",
       "      <th>item_price</th>\n",
       "    </tr>\n",
       "  </thead>\n",
       "  <tbody>\n",
       "    <tr>\n",
       "      <th>0</th>\n",
       "      <td>1</td>\n",
       "      <td>1</td>\n",
       "      <td>Chips and Fresh Tomato Salsa</td>\n",
       "      <td>NaN</td>\n",
       "      <td>$2.39</td>\n",
       "    </tr>\n",
       "    <tr>\n",
       "      <th>1</th>\n",
       "      <td>1</td>\n",
       "      <td>1</td>\n",
       "      <td>Izze</td>\n",
       "      <td>[Clementine]</td>\n",
       "      <td>$3.39</td>\n",
       "    </tr>\n",
       "    <tr>\n",
       "      <th>2</th>\n",
       "      <td>1</td>\n",
       "      <td>1</td>\n",
       "      <td>Nantucket Nectar</td>\n",
       "      <td>[Apple]</td>\n",
       "      <td>$3.39</td>\n",
       "    </tr>\n",
       "    <tr>\n",
       "      <th>3</th>\n",
       "      <td>1</td>\n",
       "      <td>1</td>\n",
       "      <td>Chips and Tomatillo-Green Chili Salsa</td>\n",
       "      <td>NaN</td>\n",
       "      <td>$2.39</td>\n",
       "    </tr>\n",
       "    <tr>\n",
       "      <th>4</th>\n",
       "      <td>2</td>\n",
       "      <td>2</td>\n",
       "      <td>Chicken Bowl</td>\n",
       "      <td>[Tomatillo-Red Chili Salsa (Hot), [Black Beans...</td>\n",
       "      <td>$16.98</td>\n",
       "    </tr>\n",
       "  </tbody>\n",
       "</table>\n",
       "</div>"
      ],
      "text/plain": [
       "   order_id  quantity                              item_name  \\\n",
       "0         1         1           Chips and Fresh Tomato Salsa   \n",
       "1         1         1                                   Izze   \n",
       "2         1         1                       Nantucket Nectar   \n",
       "3         1         1  Chips and Tomatillo-Green Chili Salsa   \n",
       "4         2         2                           Chicken Bowl   \n",
       "\n",
       "                                  choice_description item_price  \n",
       "0                                                NaN     $2.39   \n",
       "1                                       [Clementine]     $3.39   \n",
       "2                                            [Apple]     $3.39   \n",
       "3                                                NaN     $2.39   \n",
       "4  [Tomatillo-Red Chili Salsa (Hot), [Black Beans...    $16.98   "
      ]
     },
     "execution_count": 5,
     "metadata": {},
     "output_type": "execute_result"
    }
   ],
   "source": [
    "chipo.head()"
   ]
  },
  {
   "cell_type": "markdown",
   "metadata": {},
   "source": [
    "- order_id : 주문번호\n",
    "- quantity : 주문수량\n",
    "- item_name : 주문메뉴\n",
    "- choice_description : 토핑메뉴\n",
    "- item_price : 메뉴가격"
   ]
  },
  {
   "cell_type": "code",
   "execution_count": 6,
   "metadata": {
    "scrolled": true
   },
   "outputs": [
    {
     "name": "stdout",
     "output_type": "stream",
     "text": [
      "(4622, 5)\n",
      "\n",
      "<class 'pandas.core.frame.DataFrame'>\n",
      "RangeIndex: 4622 entries, 0 to 4621\n",
      "Data columns (total 5 columns):\n",
      " #   Column              Non-Null Count  Dtype \n",
      "---  ------              --------------  ----- \n",
      " 0   order_id            4622 non-null   int64 \n",
      " 1   quantity            4622 non-null   int64 \n",
      " 2   item_name           4622 non-null   object\n",
      " 3   choice_description  3376 non-null   object\n",
      " 4   item_price          4622 non-null   object\n",
      "dtypes: int64(2), object(3)\n",
      "memory usage: 180.7+ KB\n",
      "None\n"
     ]
    }
   ],
   "source": [
    "print(chipo.shape)\n",
    "chipo.head()\n",
    "print(\"\")\n",
    "print(chipo.info())"
   ]
  },
  {
   "cell_type": "markdown",
   "metadata": {},
   "source": [
    "- 총 4622개의 행과 5개의 열(피처)\n",
    "- Dtype 확인\n",
    "- choice_description만 3376개, 결측값 1246개 존재"
   ]
  },
  {
   "cell_type": "code",
   "execution_count": 7,
   "metadata": {},
   "outputs": [
    {
     "name": "stdout",
     "output_type": "stream",
     "text": [
      "          quantity   item_price\n",
      "count  4622.000000  4622.000000\n",
      "mean      1.075725     7.464336\n",
      "std       0.410186     4.245557\n",
      "min       1.000000     1.090000\n",
      "25%       1.000000     3.390000\n",
      "50%       1.000000     8.750000\n",
      "75%       1.000000     9.250000\n",
      "max      15.000000    44.250000\n"
     ]
    }
   ],
   "source": [
    "chipo['order_id'] = chipo['order_id'].astype(str)\n",
    "chipo['item_price'] = chipo['item_price'].apply(lambda x: float(x[1:]))\n",
    "print(chipo.describe())"
   ]
  },
  {
   "cell_type": "markdown",
   "metadata": {},
   "source": [
    "- 주문수량 평균 1.07 = 대부분 메뉴 1개를 1개씩 주문, 한 사람이 같은 메뉴를 많이 구매한 경우는 적다."
   ]
  },
  {
   "cell_type": "code",
   "execution_count": 8,
   "metadata": {},
   "outputs": [
    {
     "name": "stdout",
     "output_type": "stream",
     "text": [
      "1834\n",
      "50\n",
      "Chicken Bowl                    726\n",
      "Chicken Burrito                 553\n",
      "Chips and Guacamole             479\n",
      "Steak Burrito                   368\n",
      "Canned Soft Drink               301\n",
      "Steak Bowl                      211\n",
      "Chips                           211\n",
      "Bottled Water                   162\n",
      "Chicken Soft Tacos              115\n",
      "Chips and Fresh Tomato Salsa    110\n",
      "Name: item_name, dtype: int64\n"
     ]
    }
   ],
   "source": [
    "print(len(chipo['order_id'].unique()))\n",
    "print(len(chipo['item_name'].unique()))\n",
    "print(chipo['item_name'].value_counts()[:10])"
   ]
  },
  {
   "cell_type": "markdown",
   "metadata": {},
   "source": [
    "- 1834개의 주문, 50개의 메뉴\n",
    "- 판매량 많은 10개의 메뉴"
   ]
  },
  {
   "cell_type": "markdown",
   "metadata": {},
   "source": [
    "---"
   ]
  },
  {
   "cell_type": "markdown",
   "metadata": {},
   "source": [
    "### 인사이트 발견 : 탐색, 시각화"
   ]
  },
  {
   "cell_type": "code",
   "execution_count": 9,
   "metadata": {},
   "outputs": [
    {
     "name": "stdout",
     "output_type": "stream",
     "text": [
      "Top 1 : Chicken Bowl 726\n",
      "Top 2 : Chicken Burrito 553\n",
      "Top 3 : Chips and Guacamole 479\n",
      "Top 4 : Steak Burrito 368\n",
      "Top 5 : Canned Soft Drink 301\n",
      "Top 6 : Steak Bowl 211\n",
      "Top 7 : Chips 211\n",
      "Top 8 : Bottled Water 162\n",
      "Top 9 : Chicken Soft Tacos 115\n",
      "Top 10 : Chips and Fresh Tomato Salsa 110\n"
     ]
    }
   ],
   "source": [
    "# 가장 많이 주문한 메뉴 10\n",
    "item_10 = chipo['item_name'].value_counts()[:10]\n",
    "for idx, (val, cnt) in enumerate(item_10.iteritems(), 1):\n",
    "    print(\"Top\", idx, \":\", val, cnt)"
   ]
  },
  {
   "cell_type": "code",
   "execution_count": 10,
   "metadata": {},
   "outputs": [
    {
     "data": {
      "text/plain": [
       "item_name\n",
       "6 Pack Soft Drink         54\n",
       "Barbacoa Bowl             66\n",
       "Barbacoa Burrito          91\n",
       "Barbacoa Crispy Tacos     11\n",
       "Barbacoa Salad Bowl       10\n",
       "Barbacoa Soft Tacos       25\n",
       "Bottled Water            162\n",
       "Bowl                       2\n",
       "Burrito                    6\n",
       "Canned Soda              104\n",
       "Name: order_id, dtype: int64"
      ]
     },
     "execution_count": 10,
     "metadata": {},
     "output_type": "execute_result"
    }
   ],
   "source": [
    "# 메뉴 주문 횟수\n",
    "order_cnt = chipo.groupby('item_name')['order_id'].count()\n",
    "order_cnt[:10]"
   ]
  },
  {
   "cell_type": "code",
   "execution_count": 11,
   "metadata": {},
   "outputs": [
    {
     "data": {
      "text/plain": [
       "item_name\n",
       "6 Pack Soft Drink         55\n",
       "Barbacoa Bowl             66\n",
       "Barbacoa Burrito          91\n",
       "Barbacoa Crispy Tacos     12\n",
       "Barbacoa Salad Bowl       10\n",
       "Barbacoa Soft Tacos       25\n",
       "Bottled Water            211\n",
       "Bowl                       4\n",
       "Burrito                    6\n",
       "Canned Soda              126\n",
       "Name: quantity, dtype: int64"
      ]
     },
     "execution_count": 11,
     "metadata": {},
     "output_type": "execute_result"
    }
   ],
   "source": [
    "# 메뉴 주문 수량\n",
    "item_quantt = chipo.groupby('item_name')['quantity'].sum()\n",
    "item_quantt[:10]"
   ]
  },
  {
   "cell_type": "code",
   "execution_count": 12,
   "metadata": {},
   "outputs": [
    {
     "data": {
      "image/png": "[encoded data removed]",
      "text/plain": [
       "<Figure size 432x288 with 1 Axes>"
      ]
     },
     "metadata": {
      "needs_background": "light"
     },
     "output_type": "display_data"
    }
   ],
   "source": [
    "# 시각화\n",
    "%matplotlib inline\n",
    "import numpy as np\n",
    "import matplotlib.pyplot as plt\n",
    "\n",
    "item_n_list = item_quantt.index.tolist()\n",
    "x_pos = np.arange(len(item_n_list))\n",
    "order_cnt = item_quantt.values.tolist()\n",
    "\n",
    "plt.bar(x_pos, order_cnt, align='center')\n",
    "plt.ylabel('ordered_item_count')\n",
    "plt.title('Distribution of all ordered item')\n",
    "\n",
    "plt.show()"
   ]
  },
  {
   "cell_type": "code",
   "execution_count": 13,
   "metadata": {},
   "outputs": [
    {
     "data": {
      "text/plain": [
       "array([ 55,  66,  91,  12,  10,  25, 211,   4,   6, 126, 351,  71,  60,\n",
       "         8,   1,   6,  40, 761, 591,  50,   9, 123, 120, 230, 130, 506,\n",
       "         1,  23,  18,  45,  50,  33,  25,   2,  20,  29,   2, 110, 221,\n",
       "       386,  36,   4,  31,  56,  87,  97,   1,   6,  18,   8], dtype=int64)"
      ]
     },
     "execution_count": 13,
     "metadata": {},
     "output_type": "execute_result"
    }
   ],
   "source": [
    "item_quantt.index\n",
    "item_quantt.values"
   ]
  },
  {
   "cell_type": "markdown",
   "metadata": {},
   "source": [
    "---"
   ]
  },
  {
   "cell_type": "markdown",
   "metadata": {},
   "source": [
    "### 탐색적 분석 : 깊이있는 질문 통해 데이터 탐색\n",
    "- 주문당 평균 계산금액 출력\n",
    "- 한 주문에 10달러 이상 사용한 주문의 id 출력\n",
    "- 각 메뉴의 가격 출력\n",
    "- 가장 비싼 주문에서 메뉴가 몇 개 팔렸는지 \n",
    "- 'Veggie Salad Bowl'의 주문 횟수\n",
    "- 'Chicken Bowl'을 2개 이상 주문한 횟수"
   ]
  },
  {
   "cell_type": "code",
   "execution_count": 14,
   "metadata": {},
   "outputs": [
    {
     "data": {
      "text/plain": [
       "18.811428571428717"
      ]
     },
     "execution_count": 14,
     "metadata": {},
     "output_type": "execute_result"
    }
   ],
   "source": [
    "# 주문당 평균 계산금액 출력\n",
    "chipo.groupby('order_id')['item_price'].sum().mean()"
   ]
  },
  {
   "cell_type": "code",
   "execution_count": 15,
   "metadata": {},
   "outputs": [
    {
     "data": {
      "text/plain": [
       "count    1834.000000\n",
       "mean       18.811429\n",
       "std        11.652512\n",
       "min        10.080000\n",
       "25%        12.572500\n",
       "50%        16.200000\n",
       "75%        21.960000\n",
       "max       205.250000\n",
       "Name: item_price, dtype: float64"
      ]
     },
     "execution_count": 15,
     "metadata": {},
     "output_type": "execute_result"
    }
   ],
   "source": [
    "chipo.groupby('order_id')['item_price'].sum().describe()"
   ]
  },
  {
   "cell_type": "code",
   "execution_count": 16,
   "metadata": {},
   "outputs": [
    {
     "data": {
      "text/html": [
       "<div>\n",
       "<style scoped>\n",
       "    .dataframe tbody tr th:only-of-type {\n",
       "        vertical-align: middle;\n",
       "    }\n",
       "\n",
       "    .dataframe tbody tr th {\n",
       "        vertical-align: top;\n",
       "    }\n",
       "\n",
       "    .dataframe thead th {\n",
       "        text-align: right;\n",
       "    }\n",
       "</style>\n",
       "<table border=\"1\" class=\"dataframe\">\n",
       "  <thead>\n",
       "    <tr style=\"text-align: right;\">\n",
       "      <th></th>\n",
       "      <th>quantity</th>\n",
       "      <th>item_price</th>\n",
       "    </tr>\n",
       "    <tr>\n",
       "      <th>order_id</th>\n",
       "      <th></th>\n",
       "      <th></th>\n",
       "    </tr>\n",
       "  </thead>\n",
       "  <tbody>\n",
       "    <tr>\n",
       "      <th>1</th>\n",
       "      <td>4</td>\n",
       "      <td>11.56</td>\n",
       "    </tr>\n",
       "    <tr>\n",
       "      <th>10</th>\n",
       "      <td>2</td>\n",
       "      <td>13.20</td>\n",
       "    </tr>\n",
       "    <tr>\n",
       "      <th>100</th>\n",
       "      <td>2</td>\n",
       "      <td>10.08</td>\n",
       "    </tr>\n",
       "    <tr>\n",
       "      <th>1000</th>\n",
       "      <td>2</td>\n",
       "      <td>20.50</td>\n",
       "    </tr>\n",
       "    <tr>\n",
       "      <th>1001</th>\n",
       "      <td>2</td>\n",
       "      <td>10.08</td>\n",
       "    </tr>\n",
       "    <tr>\n",
       "      <th>...</th>\n",
       "      <td>...</td>\n",
       "      <td>...</td>\n",
       "    </tr>\n",
       "    <tr>\n",
       "      <th>995</th>\n",
       "      <td>3</td>\n",
       "      <td>24.95</td>\n",
       "    </tr>\n",
       "    <tr>\n",
       "      <th>996</th>\n",
       "      <td>4</td>\n",
       "      <td>43.00</td>\n",
       "    </tr>\n",
       "    <tr>\n",
       "      <th>997</th>\n",
       "      <td>2</td>\n",
       "      <td>22.50</td>\n",
       "    </tr>\n",
       "    <tr>\n",
       "      <th>998</th>\n",
       "      <td>2</td>\n",
       "      <td>10.88</td>\n",
       "    </tr>\n",
       "    <tr>\n",
       "      <th>999</th>\n",
       "      <td>5</td>\n",
       "      <td>29.25</td>\n",
       "    </tr>\n",
       "  </tbody>\n",
       "</table>\n",
       "<p>1834 rows × 2 columns</p>\n",
       "</div>"
      ],
      "text/plain": [
       "          quantity  item_price\n",
       "order_id                      \n",
       "1                4       11.56\n",
       "10               2       13.20\n",
       "100              2       10.08\n",
       "1000             2       20.50\n",
       "1001             2       10.08\n",
       "...            ...         ...\n",
       "995              3       24.95\n",
       "996              4       43.00\n",
       "997              2       22.50\n",
       "998              2       10.88\n",
       "999              5       29.25\n",
       "\n",
       "[1834 rows x 2 columns]"
      ]
     },
     "execution_count": 16,
     "metadata": {},
     "output_type": "execute_result"
    }
   ],
   "source": [
    "# 한 주문에 10달러 이상 사용한 주문의 id 출력\n",
    "order_10_dol = chipo.groupby('order_id').sum()\n",
    "order_10_dol[order_10_dol.item_price >= 10]"
   ]
  },
  {
   "cell_type": "code",
   "execution_count": 17,
   "metadata": {
    "scrolled": true
   },
   "outputs": [
    {
     "data": {
      "text/html": [
       "<div>\n",
       "<style scoped>\n",
       "    .dataframe tbody tr th:only-of-type {\n",
       "        vertical-align: middle;\n",
       "    }\n",
       "\n",
       "    .dataframe tbody tr th {\n",
       "        vertical-align: top;\n",
       "    }\n",
       "\n",
       "    .dataframe thead th {\n",
       "        text-align: right;\n",
       "    }\n",
       "</style>\n",
       "<table border=\"1\" class=\"dataframe\">\n",
       "  <thead>\n",
       "    <tr style=\"text-align: right;\">\n",
       "      <th></th>\n",
       "      <th>order_id</th>\n",
       "      <th>quantity</th>\n",
       "      <th>choice_description</th>\n",
       "      <th>item_price</th>\n",
       "    </tr>\n",
       "    <tr>\n",
       "      <th>item_name</th>\n",
       "      <th></th>\n",
       "      <th></th>\n",
       "      <th></th>\n",
       "      <th></th>\n",
       "    </tr>\n",
       "  </thead>\n",
       "  <tbody>\n",
       "    <tr>\n",
       "      <th>6 Pack Soft Drink</th>\n",
       "      <td>1076</td>\n",
       "      <td>1</td>\n",
       "      <td>[Coke]</td>\n",
       "      <td>6.49</td>\n",
       "    </tr>\n",
       "    <tr>\n",
       "      <th>Barbacoa Bowl</th>\n",
       "      <td>1000</td>\n",
       "      <td>1</td>\n",
       "      <td>[Fresh Tomato (Mild), [Lettuce, Black Beans, R...</td>\n",
       "      <td>8.69</td>\n",
       "    </tr>\n",
       "    <tr>\n",
       "      <th>Barbacoa Burrito</th>\n",
       "      <td>1002</td>\n",
       "      <td>1</td>\n",
       "      <td>[Fresh Tomato (Mild), [Black Beans, Rice, Sour...</td>\n",
       "      <td>8.69</td>\n",
       "    </tr>\n",
       "    <tr>\n",
       "      <th>Barbacoa Crispy Tacos</th>\n",
       "      <td>110</td>\n",
       "      <td>1</td>\n",
       "      <td>[Fresh Tomato Salsa, Guacamole]</td>\n",
       "      <td>8.99</td>\n",
       "    </tr>\n",
       "    <tr>\n",
       "      <th>Barbacoa Salad Bowl</th>\n",
       "      <td>1283</td>\n",
       "      <td>1</td>\n",
       "      <td>[Fresh Tomato Salsa, Guacamole]</td>\n",
       "      <td>9.39</td>\n",
       "    </tr>\n",
       "  </tbody>\n",
       "</table>\n",
       "</div>"
      ],
      "text/plain": [
       "                      order_id  quantity  \\\n",
       "item_name                                  \n",
       "6 Pack Soft Drink         1076         1   \n",
       "Barbacoa Bowl             1000         1   \n",
       "Barbacoa Burrito          1002         1   \n",
       "Barbacoa Crispy Tacos      110         1   \n",
       "Barbacoa Salad Bowl       1283         1   \n",
       "\n",
       "                                                      choice_description  \\\n",
       "item_name                                                                  \n",
       "6 Pack Soft Drink                                                 [Coke]   \n",
       "Barbacoa Bowl          [Fresh Tomato (Mild), [Lettuce, Black Beans, R...   \n",
       "Barbacoa Burrito       [Fresh Tomato (Mild), [Black Beans, Rice, Sour...   \n",
       "Barbacoa Crispy Tacos                    [Fresh Tomato Salsa, Guacamole]   \n",
       "Barbacoa Salad Bowl                      [Fresh Tomato Salsa, Guacamole]   \n",
       "\n",
       "                       item_price  \n",
       "item_name                          \n",
       "6 Pack Soft Drink            6.49  \n",
       "Barbacoa Bowl                8.69  \n",
       "Barbacoa Burrito             8.69  \n",
       "Barbacoa Crispy Tacos        8.99  \n",
       "Barbacoa Salad Bowl          9.39  "
      ]
     },
     "execution_count": 17,
     "metadata": {},
     "output_type": "execute_result"
    }
   ],
   "source": [
    "# 각 메뉴의 가격 출력\n",
    "chipo_1_item = chipo[chipo.quantity == 1]  # 주문수량이 1인 메뉴\n",
    "chipo_1_item_p = chipo_1_item.groupby('item_name').min()  # 메뉴별 가장 낮은 가격(토핑이 있어 메뉴 가격을 정확히 알 수 없음)\n",
    "chipo_1_item_p.head()"
   ]
  },
  {
   "cell_type": "code",
   "execution_count": 18,
   "metadata": {},
   "outputs": [
    {
     "data": {
      "image/png": "[encoded data removed]",
      "text/plain": [
       "<Figure size 432x288 with 1 Axes>"
      ]
     },
     "metadata": {
      "needs_background": "light"
     },
     "output_type": "display_data"
    }
   ],
   "source": [
    "# 아이템 가격 분포 그래프\n",
    "name_list = chipo_1_item_p.index.tolist()\n",
    "x_pos = np.arange(len(name_list))\n",
    "item_price = chipo_1_item_p['item_price'].tolist()\n",
    "\n",
    "plt.bar(x_pos, item_price, align='center')\n",
    "plt.ylabel('item price($)')\n",
    "plt.title('Distribution of item price')\n",
    "\n",
    "plt.show()"
   ]
  },
  {
   "cell_type": "code",
   "execution_count": 25,
   "metadata": {},
   "outputs": [
    {
     "data": {
      "text/html": [
       "<div>\n",
       "<style scoped>\n",
       "    .dataframe tbody tr th:only-of-type {\n",
       "        vertical-align: middle;\n",
       "    }\n",
       "\n",
       "    .dataframe tbody tr th {\n",
       "        vertical-align: top;\n",
       "    }\n",
       "\n",
       "    .dataframe thead th {\n",
       "        text-align: right;\n",
       "    }\n",
       "</style>\n",
       "<table border=\"1\" class=\"dataframe\">\n",
       "  <thead>\n",
       "    <tr style=\"text-align: right;\">\n",
       "      <th></th>\n",
       "      <th>quantity</th>\n",
       "      <th>item_price</th>\n",
       "    </tr>\n",
       "    <tr>\n",
       "      <th>order_id</th>\n",
       "      <th></th>\n",
       "      <th></th>\n",
       "    </tr>\n",
       "  </thead>\n",
       "  <tbody>\n",
       "    <tr>\n",
       "      <th>926</th>\n",
       "      <td>23</td>\n",
       "      <td>205.25</td>\n",
       "    </tr>\n",
       "  </tbody>\n",
       "</table>\n",
       "</div>"
      ],
      "text/plain": [
       "          quantity  item_price\n",
       "order_id                      \n",
       "926             23      205.25"
      ]
     },
     "execution_count": 25,
     "metadata": {},
     "output_type": "execute_result"
    }
   ],
   "source": [
    "# 가장 비싼 주문에서 메뉴가 몇 개 팔렸는지\n",
    "\n",
    "# item_price의 합이 가장 높은 order_id를 구함(= 926번 주문)\n",
    "chipo.groupby('order_id')['item_price'].sum().sort_values(ascending=False)\n",
    "# order_id = 926 count\n",
    "chipo[chipo['order_id'] == '926'].count()\n",
    "\n",
    "# 정답\n",
    "chipo.groupby('order_id').sum().sort_values(by='item_price', ascending=False)[:1]"
   ]
  },
  {
   "cell_type": "code",
   "execution_count": 43,
   "metadata": {},
   "outputs": [
    {
     "name": "stdout",
     "output_type": "stream",
     "text": [
      "18\n",
      "                   quantity  item_price\n",
      "item_name                              \n",
      "Veggie Salad Bowl        18       182.5\n",
      "18\n"
     ]
    }
   ],
   "source": [
    "# 'Veggie Salad Bowl'의 주문 횟수\n",
    "print(len(chipo[chipo['item_name'] == 'Veggie Salad Bowl']))\n",
    "vsb = chipo.groupby('item_name').sum()\n",
    "print(vsb[vsb.index == 'Veggie Salad Bowl'])\n",
    "\n",
    "# 정답 = 한 주문 내에서 중복 집계된 item_name을 제거\n",
    "vsb_dupli = chipo[chipo['item_name'] == 'Veggie Salad Bowl']\n",
    "vsb_dupli = vsb_dupli.drop_duplicates(['item_name', 'order_id'])\n",
    "print(len(vsb_dupli))"
   ]
  },
  {
   "cell_type": "code",
   "execution_count": 78,
   "metadata": {},
   "outputs": [
    {
     "name": "stdout",
     "output_type": "stream",
     "text": [
      "Chicken Bowl의 quantity가 2 이상 :  33\n",
      "Chicken Bowl을 주문한 order_id가 2개 이상 :  114\n"
     ]
    }
   ],
   "source": [
    "# 'Chicken Bowl'을 2개 이상 주문한 횟수\n",
    "\n",
    "# 'Chicken Bowl'의 'quantity'가 2 이상\n",
    "chi_bo = chipo[chipo['item_name'] == 'Chicken Bowl']\n",
    "print('Chicken Bowl의 quantity가 2 이상 : ', len(chi_bo[chi_bo['quantity'] >= 2]))\n",
    "\n",
    "# Chicken Bowl'을 주문한 'order_id'가 2개 이상\n",
    "chi_bo_ordersum = chi_bo.groupby('order_id').sum()['quantity']\n",
    "chi_bo_ordersum = chi_bo_ordersum[chi_bo_ordersum >= 2]\n",
    "print('Chicken Bowl을 주문한 order_id가 2개 이상 : ', len(chi_bo_ordersum))"
   ]
  },
  {
   "cell_type": "code",
   "execution_count": 190,
   "metadata": {
    "scrolled": true
   },
   "outputs": [
    {
     "name": "stdout",
     "output_type": "stream",
     "text": [
      "가장 인기있는 메뉴 :  Chicken Bowl \n",
      "\n",
      "주문된 메뉴 종류 :  50 \n",
      "\n",
      "top10 주문메뉴 : \n",
      " item_name\n",
      "Chicken Bowl                    761\n",
      "Chicken Burrito                 591\n",
      "Chips and Guacamole             506\n",
      "Steak Burrito                   386\n",
      "Canned Soft Drink               351\n",
      "Chips                           230\n",
      "Steak Bowl                      221\n",
      "Bottled Water                   211\n",
      "Chips and Fresh Tomato Salsa    130\n",
      "Canned Soda                     126\n",
      "Name: quantity, dtype: int64 \n",
      "\n",
      "주문당 평균 계산금액 : \n",
      " count    1834.000000\n",
      "mean       18.811429\n",
      "std        11.652512\n",
      "min        10.080000\n",
      "25%        12.572500\n",
      "50%        16.200000\n",
      "75%        21.960000\n",
      "max       205.250000\n",
      "Name: item_price, dtype: float64 \n",
      "\n",
      "각 메뉴의 대략적인 가격 : \n",
      " count    50.000000\n",
      "mean      6.572200\n",
      "std       2.947196\n",
      "min       1.090000\n",
      "25%       3.097500\n",
      "50%       8.490000\n",
      "75%       8.690000\n",
      "max       9.390000\n",
      "Name: item_price, dtype: float64\n"
     ]
    },
    {
     "data": {
      "text/plain": [
       "(array([ 4.,  5.,  6.,  1.,  0.,  0.,  1.,  4., 10., 19.]),\n",
       " array([1.09, 1.92, 2.75, 3.58, 4.41, 5.24, 6.07, 6.9 , 7.73, 8.56, 9.39]),\n",
       " <BarContainer object of 10 artists>)"
      ]
     },
     "execution_count": 190,
     "metadata": {},
     "output_type": "execute_result"
    },
    {
     "data": {
      "image/png": "[encoded data removed]",
      "text/plain": [
       "<Figure size 432x288 with 1 Axes>"
      ]
     },
     "metadata": {
      "needs_background": "light"
     },
     "output_type": "display_data"
    }
   ],
   "source": [
    "# 인사이트 정리\n",
    "print('가장 인기있는 메뉴 : ', chipo.groupby('item_name').sum().sort_values(by='quantity', ascending=False)[:1].index[0],'\\n')\n",
    "print('주문된 메뉴 종류 : ', len(chipo.groupby('item_name').sum()),'\\n')\n",
    "print('top10 주문메뉴 : \\n', chipo.groupby('item_name').sum().sort_values(by='quantity', ascending=False)[:10]['quantity'],'\\n')\n",
    "print('주문당 평균 계산금액 : \\n', chipo.groupby('order_id')['item_price'].sum().describe(),'\\n')\n",
    "print('각 메뉴의 대략적인 가격 : \\n', chipo[chipo['quantity'] == 1].groupby('item_name').min()['item_price'].describe())\n",
    "plt.hist(chipo[chipo['quantity'] == 1].groupby('item_name').min()['item_price'])"
   ]
  },
  {
   "cell_type": "markdown",
   "metadata": {},
   "source": [
    "- 주문당 평균 계산금액 : 평균 약 18, 표준편차 11, 25%~75%구간 12 ~ 21, 최대값 205, 대부분 주문이 평균 계산금액, 표준편차는 보정값 필요\n",
    "- 메뉴의 대략적인 가격 : 대부분 2-4, 6-8 달러에 형성되어 있음"
   ]
  },
  {
   "cell_type": "markdown",
   "metadata": {},
   "source": [
    "---"
   ]
  },
  {
   "cell_type": "markdown",
   "metadata": {},
   "source": [
    "# 전세계 음주 데이터 분석하기"
   ]
  },
  {
   "cell_type": "markdown",
   "metadata": {},
   "source": [
    "- [탐색 : 데이터의 기본 정보 탐색](#탐색2-:-데이터의-기본-정보-탐색)\n",
    "- [인사이트 발견 : 탐색, 시각화](#인사이트-발견2-:-탐색,-시각화)\n",
    "- [탐색적 분석 : 깊이있는 질문 통해 데이터 탐색](#탐색적-분석2-:-깊이있는-질문-통해-데이터-탐색)\n",
    "- [통계적 분석 : 분석 대상간의 통계적 차이 검정하기](#통계적-분석-:-분석-대상간의-통계적-차이-검정하기)\n",
    "- [대한민국은 얼마나 술을 독하게 마시는 나라일까?](#대한민국은-얼마나-술을-독하게-마시는-나라일까?)\n",
    "- [1장 연습 문제](#1장-연습-문제)"
   ]
  },
  {
   "cell_type": "markdown",
   "metadata": {},
   "source": [
    "### 탐색2 : 데이터의 기본 정보 탐색"
   ]
  },
  {
   "cell_type": "code",
   "execution_count": 192,
   "metadata": {},
   "outputs": [],
   "source": [
    "# -*- coding: utf-8 -*-\n",
    "\n",
    "import pandas as pd\n",
    "import numpy as np\n",
    "import matplotlib.pyplot as plt\n",
    "\n",
    "file_path = '../python_data_analysis_master/data/drinks.csv'\n",
    "drinks = pd.read_csv(file_path)"
   ]
  },
  {
   "cell_type": "code",
   "execution_count": 193,
   "metadata": {},
   "outputs": [
    {
     "name": "stdout",
     "output_type": "stream",
     "text": [
      "<class 'pandas.core.frame.DataFrame'>\n",
      "RangeIndex: 193 entries, 0 to 192\n",
      "Data columns (total 6 columns):\n",
      " #   Column                        Non-Null Count  Dtype  \n",
      "---  ------                        --------------  -----  \n",
      " 0   country                       193 non-null    object \n",
      " 1   beer_servings                 193 non-null    int64  \n",
      " 2   spirit_servings               193 non-null    int64  \n",
      " 3   wine_servings                 193 non-null    int64  \n",
      " 4   total_litres_of_pure_alcohol  193 non-null    float64\n",
      " 5   continent                     170 non-null    object \n",
      "dtypes: float64(1), int64(3), object(2)\n",
      "memory usage: 9.2+ KB\n",
      "None\n"
     ]
    }
   ],
   "source": [
    "print(drinks.info())"
   ]
  },
  {
   "cell_type": "markdown",
   "metadata": {},
   "source": [
    "- 총 193개의 데이터\n",
    "- country, continent 제외한 나머지는 수치형 데이터\n",
    "- continent는 23개의 결측값 존재"
   ]
  },
  {
   "cell_type": "code",
   "execution_count": 194,
   "metadata": {},
   "outputs": [
    {
     "data": {
      "text/html": [
       "<div>\n",
       "<style scoped>\n",
       "    .dataframe tbody tr th:only-of-type {\n",
       "        vertical-align: middle;\n",
       "    }\n",
       "\n",
       "    .dataframe tbody tr th {\n",
       "        vertical-align: top;\n",
       "    }\n",
       "\n",
       "    .dataframe thead th {\n",
       "        text-align: right;\n",
       "    }\n",
       "</style>\n",
       "<table border=\"1\" class=\"dataframe\">\n",
       "  <thead>\n",
       "    <tr style=\"text-align: right;\">\n",
       "      <th></th>\n",
       "      <th>country</th>\n",
       "      <th>beer_servings</th>\n",
       "      <th>spirit_servings</th>\n",
       "      <th>wine_servings</th>\n",
       "      <th>total_litres_of_pure_alcohol</th>\n",
       "      <th>continent</th>\n",
       "    </tr>\n",
       "  </thead>\n",
       "  <tbody>\n",
       "    <tr>\n",
       "      <th>0</th>\n",
       "      <td>Afghanistan</td>\n",
       "      <td>0</td>\n",
       "      <td>0</td>\n",
       "      <td>0</td>\n",
       "      <td>0.0</td>\n",
       "      <td>AS</td>\n",
       "    </tr>\n",
       "    <tr>\n",
       "      <th>1</th>\n",
       "      <td>Albania</td>\n",
       "      <td>89</td>\n",
       "      <td>132</td>\n",
       "      <td>54</td>\n",
       "      <td>4.9</td>\n",
       "      <td>EU</td>\n",
       "    </tr>\n",
       "    <tr>\n",
       "      <th>2</th>\n",
       "      <td>Algeria</td>\n",
       "      <td>25</td>\n",
       "      <td>0</td>\n",
       "      <td>14</td>\n",
       "      <td>0.7</td>\n",
       "      <td>AF</td>\n",
       "    </tr>\n",
       "    <tr>\n",
       "      <th>3</th>\n",
       "      <td>Andorra</td>\n",
       "      <td>245</td>\n",
       "      <td>138</td>\n",
       "      <td>312</td>\n",
       "      <td>12.4</td>\n",
       "      <td>EU</td>\n",
       "    </tr>\n",
       "    <tr>\n",
       "      <th>4</th>\n",
       "      <td>Angola</td>\n",
       "      <td>217</td>\n",
       "      <td>57</td>\n",
       "      <td>45</td>\n",
       "      <td>5.9</td>\n",
       "      <td>AF</td>\n",
       "    </tr>\n",
       "  </tbody>\n",
       "</table>\n",
       "</div>"
      ],
      "text/plain": [
       "       country  beer_servings  spirit_servings  wine_servings  \\\n",
       "0  Afghanistan              0                0              0   \n",
       "1      Albania             89              132             54   \n",
       "2      Algeria             25                0             14   \n",
       "3      Andorra            245              138            312   \n",
       "4       Angola            217               57             45   \n",
       "\n",
       "   total_litres_of_pure_alcohol continent  \n",
       "0                           0.0        AS  \n",
       "1                           4.9        EU  \n",
       "2                           0.7        AF  \n",
       "3                          12.4        EU  \n",
       "4                           5.9        AF  "
      ]
     },
     "execution_count": 194,
     "metadata": {},
     "output_type": "execute_result"
    }
   ],
   "source": [
    "drinks.head()"
   ]
  },
  {
   "cell_type": "code",
   "execution_count": 195,
   "metadata": {},
   "outputs": [
    {
     "data": {
      "text/html": [
       "<div>\n",
       "<style scoped>\n",
       "    .dataframe tbody tr th:only-of-type {\n",
       "        vertical-align: middle;\n",
       "    }\n",
       "\n",
       "    .dataframe tbody tr th {\n",
       "        vertical-align: top;\n",
       "    }\n",
       "\n",
       "    .dataframe thead th {\n",
       "        text-align: right;\n",
       "    }\n",
       "</style>\n",
       "<table border=\"1\" class=\"dataframe\">\n",
       "  <thead>\n",
       "    <tr style=\"text-align: right;\">\n",
       "      <th></th>\n",
       "      <th>beer_servings</th>\n",
       "      <th>spirit_servings</th>\n",
       "      <th>wine_servings</th>\n",
       "      <th>total_litres_of_pure_alcohol</th>\n",
       "    </tr>\n",
       "  </thead>\n",
       "  <tbody>\n",
       "    <tr>\n",
       "      <th>count</th>\n",
       "      <td>193.000000</td>\n",
       "      <td>193.000000</td>\n",
       "      <td>193.000000</td>\n",
       "      <td>193.000000</td>\n",
       "    </tr>\n",
       "    <tr>\n",
       "      <th>mean</th>\n",
       "      <td>106.160622</td>\n",
       "      <td>80.994819</td>\n",
       "      <td>49.450777</td>\n",
       "      <td>4.717098</td>\n",
       "    </tr>\n",
       "    <tr>\n",
       "      <th>std</th>\n",
       "      <td>101.143103</td>\n",
       "      <td>88.284312</td>\n",
       "      <td>79.697598</td>\n",
       "      <td>3.773298</td>\n",
       "    </tr>\n",
       "    <tr>\n",
       "      <th>min</th>\n",
       "      <td>0.000000</td>\n",
       "      <td>0.000000</td>\n",
       "      <td>0.000000</td>\n",
       "      <td>0.000000</td>\n",
       "    </tr>\n",
       "    <tr>\n",
       "      <th>25%</th>\n",
       "      <td>20.000000</td>\n",
       "      <td>4.000000</td>\n",
       "      <td>1.000000</td>\n",
       "      <td>1.300000</td>\n",
       "    </tr>\n",
       "    <tr>\n",
       "      <th>50%</th>\n",
       "      <td>76.000000</td>\n",
       "      <td>56.000000</td>\n",
       "      <td>8.000000</td>\n",
       "      <td>4.200000</td>\n",
       "    </tr>\n",
       "    <tr>\n",
       "      <th>75%</th>\n",
       "      <td>188.000000</td>\n",
       "      <td>128.000000</td>\n",
       "      <td>59.000000</td>\n",
       "      <td>7.200000</td>\n",
       "    </tr>\n",
       "    <tr>\n",
       "      <th>max</th>\n",
       "      <td>376.000000</td>\n",
       "      <td>438.000000</td>\n",
       "      <td>370.000000</td>\n",
       "      <td>14.400000</td>\n",
       "    </tr>\n",
       "  </tbody>\n",
       "</table>\n",
       "</div>"
      ],
      "text/plain": [
       "       beer_servings  spirit_servings  wine_servings  \\\n",
       "count     193.000000       193.000000     193.000000   \n",
       "mean      106.160622        80.994819      49.450777   \n",
       "std       101.143103        88.284312      79.697598   \n",
       "min         0.000000         0.000000       0.000000   \n",
       "25%        20.000000         4.000000       1.000000   \n",
       "50%        76.000000        56.000000       8.000000   \n",
       "75%       188.000000       128.000000      59.000000   \n",
       "max       376.000000       438.000000     370.000000   \n",
       "\n",
       "       total_litres_of_pure_alcohol  \n",
       "count                    193.000000  \n",
       "mean                       4.717098  \n",
       "std                        3.773298  \n",
       "min                        0.000000  \n",
       "25%                        1.300000  \n",
       "50%                        4.200000  \n",
       "75%                        7.200000  \n",
       "max                       14.400000  "
      ]
     },
     "execution_count": 195,
     "metadata": {},
     "output_type": "execute_result"
    }
   ],
   "source": [
    "drinks.describe()"
   ]
  },
  {
   "cell_type": "markdown",
   "metadata": {},
   "source": [
    "---"
   ]
  },
  {
   "cell_type": "markdown",
   "metadata": {},
   "source": [
    "### 인사이트 발견2 : 탐색, 시각화\n",
    "- 피처간의 상관관계 탐색"
   ]
  },
  {
   "cell_type": "code",
   "execution_count": 205,
   "metadata": {},
   "outputs": [
    {
     "name": "stdout",
     "output_type": "stream",
     "text": [
      "               beer_servings  wine_servings\n",
      "beer_servings       1.000000       0.527172\n",
      "wine_servings       0.527172       1.000000\n"
     ]
    }
   ],
   "source": [
    "# 두 피처간의 상관계수\n",
    "corr = drinks[['beer_servings', 'wine_servings']].corr(method='pearson')\n",
    "print(corr)"
   ]
  },
  {
   "cell_type": "code",
   "execution_count": 206,
   "metadata": {},
   "outputs": [
    {
     "name": "stdout",
     "output_type": "stream",
     "text": [
      "                              beer_servings  spirit_servings  wine_servings  \\\n",
      "beer_servings                      1.000000         0.458819       0.527172   \n",
      "spirit_servings                    0.458819         1.000000       0.194797   \n",
      "wine_servings                      0.527172         0.194797       1.000000   \n",
      "total_litres_of_pure_alcohol       0.835839         0.654968       0.667598   \n",
      "\n",
      "                              total_litres_of_pure_alcohol  \n",
      "beer_servings                                     0.835839  \n",
      "spirit_servings                                   0.654968  \n",
      "wine_servings                                     0.667598  \n",
      "total_litres_of_pure_alcohol                      1.000000  \n"
     ]
    }
   ],
   "source": [
    "# 여러 피처간의 상관계수\n",
    "corr = drinks[drinks.columns].corr(method='pearson')\n",
    "print(corr)"
   ]
  },
  {
   "cell_type": "code",
   "execution_count": 226,
   "metadata": {},
   "outputs": [
    {
     "data": {
      "image/png": "[encoded data removed]",
      "text/plain": [
       "<Figure size 432x288 with 2 Axes>"
      ]
     },
     "metadata": {},
     "output_type": "display_data"
    }
   ],
   "source": [
    "import seaborn as sns\n",
    "\n",
    "# corr 행렬 히트맵 시각화\n",
    "cols = ['beer','spirit','wine','alcohol']\n",
    "sns.set(font_scale=1.5)\n",
    "hm = sns.heatmap(corr.values,\n",
    "                cbar=True,    # color bar\n",
    "                annot=True,   # 숫자표시\n",
    "                square=True,  # 정사각형\n",
    "                fmt='.2f',\n",
    "                annot_kws={'size':15},   # 표시된 숫자크기\n",
    "                yticklabels=cols,\n",
    "                xticklabels=cols)\n",
    "plt.show()"
   ]
  },
  {
   "cell_type": "code",
   "execution_count": 227,
   "metadata": {},
   "outputs": [
    {
     "data": {
      "image/png": "[encoded data removed]",
      "text/plain": [
       "<Figure size 720x720 with 20 Axes>"
      ]
     },
     "metadata": {},
     "output_type": "display_data"
    }
   ],
   "source": [
    "# 피처 간 산점도\n",
    "sns.set(style = 'whitegrid', context = 'notebook')\n",
    "sns.pairplot(drinks[drinks.columns], height=2.5)\n",
    "plt.show()"
   ]
  },
  {
   "cell_type": "markdown",
   "metadata": {},
   "source": [
    "---"
   ]
  },
  {
   "cell_type": "markdown",
   "metadata": {},
   "source": [
    "### 탐색적 분석2 : 깊이있는 질문 통해 데이터 탐색"
   ]
  },
  {
   "cell_type": "code",
   "execution_count": 230,
   "metadata": {},
   "outputs": [
    {
     "data": {
      "text/plain": [
       "country                         0\n",
       "beer_servings                   0\n",
       "spirit_servings                 0\n",
       "wine_servings                   0\n",
       "total_litres_of_pure_alcohol    0\n",
       "continent                       0\n",
       "dtype: int64"
      ]
     },
     "execution_count": 230,
     "metadata": {},
     "output_type": "execute_result"
    }
   ],
   "source": [
    "# 결측데이터 확인\n",
    "drinks.isnull().sum()"
   ]
  },
  {
   "cell_type": "code",
   "execution_count": 228,
   "metadata": {},
   "outputs": [
    {
     "data": {
      "text/html": [
       "<div>\n",
       "<style scoped>\n",
       "    .dataframe tbody tr th:only-of-type {\n",
       "        vertical-align: middle;\n",
       "    }\n",
       "\n",
       "    .dataframe tbody tr th {\n",
       "        vertical-align: top;\n",
       "    }\n",
       "\n",
       "    .dataframe thead th {\n",
       "        text-align: right;\n",
       "    }\n",
       "</style>\n",
       "<table border=\"1\" class=\"dataframe\">\n",
       "  <thead>\n",
       "    <tr style=\"text-align: right;\">\n",
       "      <th></th>\n",
       "      <th>country</th>\n",
       "      <th>beer_servings</th>\n",
       "      <th>spirit_servings</th>\n",
       "      <th>wine_servings</th>\n",
       "      <th>total_litres_of_pure_alcohol</th>\n",
       "      <th>continent</th>\n",
       "    </tr>\n",
       "  </thead>\n",
       "  <tbody>\n",
       "    <tr>\n",
       "      <th>0</th>\n",
       "      <td>Afghanistan</td>\n",
       "      <td>0</td>\n",
       "      <td>0</td>\n",
       "      <td>0</td>\n",
       "      <td>0.0</td>\n",
       "      <td>AS</td>\n",
       "    </tr>\n",
       "    <tr>\n",
       "      <th>1</th>\n",
       "      <td>Albania</td>\n",
       "      <td>89</td>\n",
       "      <td>132</td>\n",
       "      <td>54</td>\n",
       "      <td>4.9</td>\n",
       "      <td>EU</td>\n",
       "    </tr>\n",
       "    <tr>\n",
       "      <th>2</th>\n",
       "      <td>Algeria</td>\n",
       "      <td>25</td>\n",
       "      <td>0</td>\n",
       "      <td>14</td>\n",
       "      <td>0.7</td>\n",
       "      <td>AF</td>\n",
       "    </tr>\n",
       "    <tr>\n",
       "      <th>3</th>\n",
       "      <td>Andorra</td>\n",
       "      <td>245</td>\n",
       "      <td>138</td>\n",
       "      <td>312</td>\n",
       "      <td>12.4</td>\n",
       "      <td>EU</td>\n",
       "    </tr>\n",
       "    <tr>\n",
       "      <th>4</th>\n",
       "      <td>Angola</td>\n",
       "      <td>217</td>\n",
       "      <td>57</td>\n",
       "      <td>45</td>\n",
       "      <td>5.9</td>\n",
       "      <td>AF</td>\n",
       "    </tr>\n",
       "    <tr>\n",
       "      <th>5</th>\n",
       "      <td>Antigua &amp; Barbuda</td>\n",
       "      <td>102</td>\n",
       "      <td>128</td>\n",
       "      <td>45</td>\n",
       "      <td>4.9</td>\n",
       "      <td>OT</td>\n",
       "    </tr>\n",
       "    <tr>\n",
       "      <th>6</th>\n",
       "      <td>Argentina</td>\n",
       "      <td>193</td>\n",
       "      <td>25</td>\n",
       "      <td>221</td>\n",
       "      <td>8.3</td>\n",
       "      <td>SA</td>\n",
       "    </tr>\n",
       "    <tr>\n",
       "      <th>7</th>\n",
       "      <td>Armenia</td>\n",
       "      <td>21</td>\n",
       "      <td>179</td>\n",
       "      <td>11</td>\n",
       "      <td>3.8</td>\n",
       "      <td>EU</td>\n",
       "    </tr>\n",
       "    <tr>\n",
       "      <th>8</th>\n",
       "      <td>Australia</td>\n",
       "      <td>261</td>\n",
       "      <td>72</td>\n",
       "      <td>212</td>\n",
       "      <td>10.4</td>\n",
       "      <td>OC</td>\n",
       "    </tr>\n",
       "    <tr>\n",
       "      <th>9</th>\n",
       "      <td>Austria</td>\n",
       "      <td>279</td>\n",
       "      <td>75</td>\n",
       "      <td>191</td>\n",
       "      <td>9.7</td>\n",
       "      <td>EU</td>\n",
       "    </tr>\n",
       "  </tbody>\n",
       "</table>\n",
       "</div>"
      ],
      "text/plain": [
       "             country  beer_servings  spirit_servings  wine_servings  \\\n",
       "0        Afghanistan              0                0              0   \n",
       "1            Albania             89              132             54   \n",
       "2            Algeria             25                0             14   \n",
       "3            Andorra            245              138            312   \n",
       "4             Angola            217               57             45   \n",
       "5  Antigua & Barbuda            102              128             45   \n",
       "6          Argentina            193               25            221   \n",
       "7            Armenia             21              179             11   \n",
       "8          Australia            261               72            212   \n",
       "9            Austria            279               75            191   \n",
       "\n",
       "   total_litres_of_pure_alcohol continent  \n",
       "0                           0.0        AS  \n",
       "1                           4.9        EU  \n",
       "2                           0.7        AF  \n",
       "3                          12.4        EU  \n",
       "4                           5.9        AF  \n",
       "5                           4.9        OT  \n",
       "6                           8.3        SA  \n",
       "7                           3.8        EU  \n",
       "8                          10.4        OC  \n",
       "9                           9.7        EU  "
      ]
     },
     "execution_count": 228,
     "metadata": {},
     "output_type": "execute_result"
    }
   ],
   "source": [
    "# 결측데이터 전처리\n",
    "drinks['continent'] = drinks['continent'].fillna('OT') # Others\n",
    "drinks[:10]"
   ]
  },
  {
   "cell_type": "code",
   "execution_count": 242,
   "metadata": {},
   "outputs": [
    {
     "data": {
      "image/png": "[encoded data removed]",
      "text/plain": [
       "<Figure size 432x288 with 1 Axes>"
      ]
     },
     "metadata": {},
     "output_type": "display_data"
    }
   ],
   "source": [
    "# 전체 데이터에서 OT 비율을 파이차트로 시각화\n",
    "labels = drinks['continent'].value_counts().index.tolist()\n",
    "fracs1 = drinks['continent'].value_counts().values.tolist()\n",
    "explode = (0, 0, 0, 0.25, 0, 0)\n",
    "\n",
    "plt.pie(fracs1, explode=explode, labels=labels, autopct='%.0f%%', shadow=True)\n",
    "plt.show()"
   ]
  },
  {
   "cell_type": "code",
   "execution_count": 251,
   "metadata": {},
   "outputs": [
    {
     "data": {
      "text/html": [
       "<div>\n",
       "<style scoped>\n",
       "    .dataframe tbody tr th:only-of-type {\n",
       "        vertical-align: middle;\n",
       "    }\n",
       "\n",
       "    .dataframe tbody tr th {\n",
       "        vertical-align: top;\n",
       "    }\n",
       "\n",
       "    .dataframe thead th {\n",
       "        text-align: right;\n",
       "    }\n",
       "</style>\n",
       "<table border=\"1\" class=\"dataframe\">\n",
       "  <thead>\n",
       "    <tr style=\"text-align: right;\">\n",
       "      <th></th>\n",
       "      <th>mean</th>\n",
       "      <th>min</th>\n",
       "      <th>max</th>\n",
       "      <th>sum</th>\n",
       "    </tr>\n",
       "    <tr>\n",
       "      <th>continent</th>\n",
       "      <th></th>\n",
       "      <th></th>\n",
       "      <th></th>\n",
       "      <th></th>\n",
       "    </tr>\n",
       "  </thead>\n",
       "  <tbody>\n",
       "    <tr>\n",
       "      <th>AF</th>\n",
       "      <td>16.339623</td>\n",
       "      <td>0</td>\n",
       "      <td>152</td>\n",
       "      <td>866</td>\n",
       "    </tr>\n",
       "    <tr>\n",
       "      <th>AS</th>\n",
       "      <td>60.840909</td>\n",
       "      <td>0</td>\n",
       "      <td>326</td>\n",
       "      <td>2677</td>\n",
       "    </tr>\n",
       "    <tr>\n",
       "      <th>EU</th>\n",
       "      <td>132.555556</td>\n",
       "      <td>0</td>\n",
       "      <td>373</td>\n",
       "      <td>5965</td>\n",
       "    </tr>\n",
       "    <tr>\n",
       "      <th>OC</th>\n",
       "      <td>58.437500</td>\n",
       "      <td>0</td>\n",
       "      <td>254</td>\n",
       "      <td>935</td>\n",
       "    </tr>\n",
       "    <tr>\n",
       "      <th>OT</th>\n",
       "      <td>165.739130</td>\n",
       "      <td>68</td>\n",
       "      <td>438</td>\n",
       "      <td>3812</td>\n",
       "    </tr>\n",
       "  </tbody>\n",
       "</table>\n",
       "</div>"
      ],
      "text/plain": [
       "                 mean  min  max   sum\n",
       "continent                            \n",
       "AF          16.339623    0  152   866\n",
       "AS          60.840909    0  326  2677\n",
       "EU         132.555556    0  373  5965\n",
       "OC          58.437500    0  254   935\n",
       "OT         165.739130   68  438  3812"
      ]
     },
     "execution_count": 251,
     "metadata": {},
     "output_type": "execute_result"
    }
   ],
   "source": [
    "# 대륙별 spirit_servings의 평균, 최소, 최대, 합계 계산**********************************agg()사용************************************\n",
    "coun_sp_serv = drinks.groupby('continent')['spirit_servings']\n",
    "coun_sp_serv.mean()\n",
    "coun_sp_serv.min()\n",
    "coun_sp_serv.max()\n",
    "coun_sp_serv.sum()\n",
    "\n",
    "# 정답\n",
    "result = drinks.groupby('continent').spirit_servings.agg(['mean', 'min', 'max', 'sum'])\n",
    "result.head()"
   ]
  },
  {
   "cell_type": "code",
   "execution_count": 255,
   "metadata": {},
   "outputs": [
    {
     "data": {
      "text/plain": [
       "continent\n",
       "EU    8.617778\n",
       "OT    5.995652\n",
       "SA    6.308333\n",
       "Name: total_litres_of_pure_alcohol, dtype: float64"
      ]
     },
     "execution_count": 255,
     "metadata": {},
     "output_type": "execute_result"
    }
   ],
   "source": [
    "# 전체 평균보다 많은 알코올을 섭취하는 대륙\n",
    "total_mean = drinks.total_litres_of_pure_alcohol.mean()\n",
    "conti_mean = drinks.groupby('continent').total_litres_of_pure_alcohol.mean()\n",
    "conti_over_mean = conti_mean[conti_mean > total_mean]\n",
    "conti_over_mean"
   ]
  },
  {
   "cell_type": "code",
   "execution_count": 267,
   "metadata": {},
   "outputs": [
    {
     "data": {
      "text/plain": [
       "'EU'"
      ]
     },
     "execution_count": 267,
     "metadata": {},
     "output_type": "execute_result"
    }
   ],
   "source": [
    "# 평균 beer_servings이 가장 높은 대륙 (***********************************idxmax()사용***************************************)\n",
    "drinks.groupby('continent').beer_servings.mean().sort_values()[-1:]\n",
    "\n",
    "# 정답\n",
    "drinks.groupby('continent').beer_servings.mean().idxmax()"
   ]
  },
  {
   "cell_type": "code",
   "execution_count": 268,
   "metadata": {},
   "outputs": [
    {
     "data": {
      "image/png": "[encoded data removed]",
      "text/plain": [
       "<Figure size 432x288 with 1 Axes>"
      ]
     },
     "metadata": {},
     "output_type": "display_data"
    }
   ],
   "source": [
    "# 대륙별 spirit_servings의 평균, 최소, 최대, 합계 시각화\n",
    "n_groups = len(result.index)\n",
    "means = result['mean'].tolist()\n",
    "mins = result['min'].tolist()\n",
    "maxs = result['max'].tolist()\n",
    "sums = result['sum'].tolist()\n",
    "\n",
    "index = np.arange(n_groups)\n",
    "bar_width = 0.1\n",
    "\n",
    "rects1 = plt.bar(index, means, bar_width,\n",
    "                 color='r',\n",
    "                 label='Mean')\n",
    " \n",
    "rects2 = plt.bar(index + bar_width, mins, bar_width,\n",
    "                 color='g',\n",
    "                 label='Min')\n",
    "\n",
    "rects3 = plt.bar(index + bar_width * 2, maxs, bar_width,\n",
    "                 color='b',\n",
    "                 label='Max')\n",
    " \n",
    "rects3 = plt.bar(index + bar_width * 3, sums, bar_width,\n",
    "                 color='y',\n",
    "                 label='Sum')\n",
    "\n",
    "plt.xticks(index, result.index.tolist())\n",
    "plt.legend()\n",
    "plt.show()"
   ]
  },
  {
   "cell_type": "code",
   "execution_count": 279,
   "metadata": {},
   "outputs": [
    {
     "data": {
      "image/png": "[encoded data removed]",
      "text/plain": [
       "<Figure size 432x288 with 1 Axes>"
      ]
     },
     "metadata": {},
     "output_type": "display_data"
    }
   ],
   "source": [
    "# 대륙별 알코올 섭취 시각화\n",
    "contins = conti_mean.index.tolist()\n",
    "contins.append('mean')\n",
    "x_pos = np.arange(len(contins))\n",
    "alcohol = conti_mean.tolist()\n",
    "alcohol.append(total_mean)\n",
    "\n",
    "bar_list = plt.bar(x_pos, alcohol, align='center', alpha=0.8)   # alpha : 투명도\n",
    "bar_list[len(contins) - 1].set_color('r')\n",
    "plt.plot([0., 6], [total_mean, total_mean], \"k--\")\n",
    "plt.xticks(x_pos, contins)\n",
    "\n",
    "plt.ylabel('total_litres_of_pure_alcohol')\n",
    "plt.title('total_litres_of_pure_alcohol by Continent')\n",
    "\n",
    "plt.show()"
   ]
  },
  {
   "cell_type": "code",
   "execution_count": 286,
   "metadata": {},
   "outputs": [
    {
     "data": {
      "image/png": "[encoded data removed]",
      "text/plain": [
       "<Figure size 432x288 with 1 Axes>"
      ]
     },
     "metadata": {},
     "output_type": "display_data"
    }
   ],
   "source": [
    "# 대륙별 beer_servings 시각화\n",
    "beer_group = drinks.groupby('continent')['beer_servings'].sum()\n",
    "contins = beer_group.index.tolist()\n",
    "y_pos = np.arange(len(contins))\n",
    "alcohol = beer_group.tolist()\n",
    "\n",
    "bar_list = plt.bar(y_pos, alcohol, align='center', alpha=0.8)\n",
    "bar_list[contins.index(\"EU\")].set_color('r')\n",
    "plt.xticks(y_pos, contins)\n",
    "plt.ylabel('beer_servings')\n",
    "plt.title('beer_servings by Continent')\n",
    "\n",
    "plt.show()"
   ]
  },
  {
   "cell_type": "markdown",
   "metadata": {},
   "source": [
    "### 통계적 분석 : 분석 대상간의 통계적 차이 검정하기\n",
    "- t-test : 모집단의 평균 등과 같이 실제 정보를 모를 때 현재의 데이터만으로 두 집단의 차이에 대해 검정할 수 있는 방법. 단, 두 데이터의 개수가 비슷하면서 정규 분포를 보이는 경우에 신뢰도가 높음"
   ]
  },
  {
   "cell_type": "code",
   "execution_count": 295,
   "metadata": {
    "scrolled": true
   },
   "outputs": [
    {
     "name": "stdout",
     "output_type": "stream",
     "text": [
      "The t-statistic and p-value assuming equal variances is -7.268 and 0.000.\n",
      "The t-statistic and p-value not assuming equal variances is -7.144 and 0.000\n"
     ]
    }
   ],
   "source": [
    "# 아프리카와 유럽간의 맥주 소비량 차이 검정\n",
    "\n",
    "from scipy import stats\n",
    "\n",
    "\n",
    "africa = drinks[drinks['continent'] == 'AF']\n",
    "europe = drinks.loc[drinks['continent']=='EU']\n",
    "\n",
    "tTestResult = stats.ttest_ind(africa['beer_servings'], europe['beer_servings'])\n",
    "tTestResultDiffVar = stats.ttest_ind(africa['beer_servings'], europe['beer_servings'], equal_var=False)\n",
    "\n",
    "print(\"The t-statistic and p-value assuming equal variances is %.3f and %.3f.\" % tTestResult)\n",
    "print(\"The t-statistic and p-value not assuming equal variances is %.3f and %.3f\" % tTestResultDiffVar)"
   ]
  },
  {
   "cell_type": "markdown",
   "metadata": {},
   "source": [
    "- t-test의 귀무가설 : 두 집단의 평균은 같다\n",
    "- p-value = 0, 귀무가설은 기각\n",
    "- 따라서 '아프리카와 유럽 대륙간의 맥주 소비량 차이'는 통계적으로 유의미하다(두 집단의 평균이 다르다)\n",
    "- 하지만 두 데이터의 크기가 다르고, 각각의 크기 또한 크지 않기에 실제로 통계적인 의미를 가지는 검정이라고 보기엔 어려움"
   ]
  },
  {
   "cell_type": "markdown",
   "metadata": {},
   "source": [
    "### 대한민국은 얼마나 술을 독하게 마시는 나라일까?"
   ]
  },
  {
   "cell_type": "code",
   "execution_count": 296,
   "metadata": {},
   "outputs": [],
   "source": [
    "drinks['total_servings'] = drinks['beer_servings'] + drinks['wine_servings'] + drinks['spirit_servings']"
   ]
  },
  {
   "cell_type": "code",
   "execution_count": 300,
   "metadata": {},
   "outputs": [
    {
     "data": {
      "text/plain": [
       "13"
      ]
     },
     "execution_count": 300,
     "metadata": {},
     "output_type": "execute_result"
    }
   ],
   "source": [
    "# 술 소비량 대비 알콜 비율 피처 생성\n",
    "drinks['alcohol_rate'] = drinks['total_litres_of_pure_alcohol'] / drinks['total_servings']\n",
    "drinks['alcohol_rate'].isnull().sum()"
   ]
  },
  {
   "cell_type": "code",
   "execution_count": 301,
   "metadata": {},
   "outputs": [
    {
     "data": {
      "text/plain": [
       "0"
      ]
     },
     "execution_count": 301,
     "metadata": {},
     "output_type": "execute_result"
    }
   ],
   "source": [
    "# 알콜 비율 피처의 결측값을 0으로 채움\n",
    "drinks['alcohol_rate'] = drinks['alcohol_rate'].fillna(0)\n",
    "drinks['alcohol_rate'].isnull().sum()"
   ]
  },
  {
   "cell_type": "code",
   "execution_count": 309,
   "metadata": {},
   "outputs": [
    {
     "data": {
      "text/html": [
       "<div>\n",
       "<style scoped>\n",
       "    .dataframe tbody tr th:only-of-type {\n",
       "        vertical-align: middle;\n",
       "    }\n",
       "\n",
       "    .dataframe tbody tr th {\n",
       "        vertical-align: top;\n",
       "    }\n",
       "\n",
       "    .dataframe thead th {\n",
       "        text-align: right;\n",
       "    }\n",
       "</style>\n",
       "<table border=\"1\" class=\"dataframe\">\n",
       "  <thead>\n",
       "    <tr style=\"text-align: right;\">\n",
       "      <th></th>\n",
       "      <th>country</th>\n",
       "      <th>alcohol_rate</th>\n",
       "    </tr>\n",
       "  </thead>\n",
       "  <tbody>\n",
       "    <tr>\n",
       "      <th>63</th>\n",
       "      <td>Gambia</td>\n",
       "      <td>0.266667</td>\n",
       "    </tr>\n",
       "    <tr>\n",
       "      <th>153</th>\n",
       "      <td>Sierra Leone</td>\n",
       "      <td>0.223333</td>\n",
       "    </tr>\n",
       "    <tr>\n",
       "      <th>124</th>\n",
       "      <td>Nigeria</td>\n",
       "      <td>0.185714</td>\n",
       "    </tr>\n",
       "    <tr>\n",
       "      <th>179</th>\n",
       "      <td>Uganda</td>\n",
       "      <td>0.153704</td>\n",
       "    </tr>\n",
       "    <tr>\n",
       "      <th>142</th>\n",
       "      <td>Rwanda</td>\n",
       "      <td>0.151111</td>\n",
       "    </tr>\n",
       "  </tbody>\n",
       "</table>\n",
       "</div>"
      ],
      "text/plain": [
       "          country  alcohol_rate\n",
       "63         Gambia      0.266667\n",
       "153  Sierra Leone      0.223333\n",
       "124       Nigeria      0.185714\n",
       "179        Uganda      0.153704\n",
       "142        Rwanda      0.151111"
      ]
     },
     "execution_count": 309,
     "metadata": {},
     "output_type": "execute_result"
    }
   ],
   "source": [
    "# 순위 정보\n",
    "country_rank = drinks[['country', 'alcohol_rate']]\n",
    "country_rank = country_rank.sort_values(by='alcohol_rate', ascending=False)\n",
    "country_rank.head(5)"
   ]
  },
  {
   "cell_type": "code",
   "execution_count": 310,
   "metadata": {},
   "outputs": [
    {
     "data": {
      "image/png": "[encoded data removed]",
      "text/plain": [
       "<Figure size 432x288 with 1 Axes>"
      ]
     },
     "metadata": {},
     "output_type": "display_data"
    }
   ],
   "source": [
    "# 순위 정보 시각화\n",
    "country_list = country_rank.country.tolist()\n",
    "x_pos = np.arange(len(country_list))\n",
    "rank = country_rank.alcohol_rate.tolist()\n",
    "\n",
    "bar_list = plt.bar(x_pos, rank)"
   ]
  },
  {
   "cell_type": "code",
   "execution_count": 317,
   "metadata": {},
   "outputs": [
    {
     "data": {
      "text/plain": [
       "(0.0, 200.0, 0.0, 0.3)"
      ]
     },
     "execution_count": 317,
     "metadata": {},
     "output_type": "execute_result"
    },
    {
     "data": {
      "image/png": "[encoded data removed]",
      "text/plain": [
       "<Figure size 432x288 with 1 Axes>"
      ]
     },
     "metadata": {},
     "output_type": "display_data"
    }
   ],
   "source": [
    "bar_list = plt.bar(x_pos, rank)\n",
    "bar_list[country_list.index(\"South Korea\")].set_color('r')\n",
    "plt.ylabel('alcohol rate')\n",
    "plt.title('liquor drink rank by contry')\n",
    "plt.axis([0, 200, 0, 0.3])"
   ]
  },
  {
   "cell_type": "code",
   "execution_count": 323,
   "metadata": {},
   "outputs": [
    {
     "data": {
      "text/plain": [
       "0.0593939393939394"
      ]
     },
     "execution_count": 323,
     "metadata": {},
     "output_type": "execute_result"
    }
   ],
   "source": [
    "korea_rank = country_list.index(\"South Korea\")\n",
    "korea_alc_rate = country_rank[country_rank['country'] == 'South Korea']['alcohol_rate'].values[0]"
   ]
  },
  {
   "cell_type": "code",
   "execution_count": 326,
   "metadata": {},
   "outputs": [
    {
     "data": {
      "image/png": "[encoded data removed]",
      "text/plain": [
       "<Figure size 432x288 with 1 Axes>"
      ]
     },
     "metadata": {},
     "output_type": "display_data"
    }
   ],
   "source": [
    "bar_list = plt.bar(x_pos, rank)\n",
    "bar_list[country_list.index(\"South Korea\")].set_color('r')\n",
    "plt.ylabel('alcohol rate')\n",
    "plt.title('liquor drink rank by contry')\n",
    "plt.axis([0, 200, 0, 0.3])\n",
    "\n",
    "plt.annotate('South Korea : ' + str(korea_rank + 1), \n",
    "             xy=(korea_rank, korea_alc_rate), \n",
    "             xytext=(korea_rank + 10, korea_alc_rate + 0.05),\n",
    "             arrowprops=dict(facecolor='red', shrink=0.05))\n",
    "plt.show()"
   ]
  },
  {
   "cell_type": "markdown",
   "metadata": {},
   "source": [
    "### 1장 연습 문제\n",
    "- total_servings : beer_servings, spirit_servings, wine_servings의 합을 통해 실질적인 소비량을 계산\n",
    "- alcohol_rate : 소비량 대비 알콜 비율을 계산\n",
    "- alcohol_rate_rank, alcohol_rate_continent 등으로 응용."
   ]
  },
  {
   "cell_type": "code",
   "execution_count": 37,
   "metadata": {},
   "outputs": [],
   "source": [
    "# -*- coding: utf-8 -*-\n",
    "\n",
    "import pandas as pd\n",
    "import numpy as np\n",
    "import matplotlib.pyplot as plt\n",
    "\n",
    "file_path = '../python_data_analysis_master/data/drinks.csv'\n",
    "drinks = pd.read_csv(file_path)\n",
    "drinks['continent'] = drinks['continent'].fillna('OT')"
   ]
  },
  {
   "cell_type": "markdown",
   "metadata": {},
   "source": [
    "### [대륙별 평균 wine_servings 탐색]"
   ]
  },
  {
   "cell_type": "code",
   "execution_count": 38,
   "metadata": {},
   "outputs": [
    {
     "data": {
      "text/plain": [
       "continent\n",
       "AF     16.264151\n",
       "AS      9.068182\n",
       "EU    142.222222\n",
       "OC     35.625000\n",
       "OT     24.521739\n",
       "SA     62.416667\n",
       "Name: wine_servings, dtype: float64"
      ]
     },
     "execution_count": 38,
     "metadata": {},
     "output_type": "execute_result"
    }
   ],
   "source": [
    "drinks.groupby('continent').wine_servings.mean()"
   ]
  },
  {
   "cell_type": "code",
   "execution_count": 39,
   "metadata": {
    "scrolled": true
   },
   "outputs": [
    {
     "data": {
      "text/html": [
       "<div>\n",
       "<style scoped>\n",
       "    .dataframe tbody tr th:only-of-type {\n",
       "        vertical-align: middle;\n",
       "    }\n",
       "\n",
       "    .dataframe tbody tr th {\n",
       "        vertical-align: top;\n",
       "    }\n",
       "\n",
       "    .dataframe thead th {\n",
       "        text-align: right;\n",
       "    }\n",
       "</style>\n",
       "<table border=\"1\" class=\"dataframe\">\n",
       "  <thead>\n",
       "    <tr style=\"text-align: right;\">\n",
       "      <th></th>\n",
       "      <th>country</th>\n",
       "      <th>beer_servings</th>\n",
       "      <th>spirit_servings</th>\n",
       "      <th>wine_servings</th>\n",
       "      <th>total_litres_of_pure_alcohol</th>\n",
       "      <th>continent</th>\n",
       "      <th>wine_servings_cont_avg</th>\n",
       "    </tr>\n",
       "  </thead>\n",
       "  <tbody>\n",
       "    <tr>\n",
       "      <th>0</th>\n",
       "      <td>Afghanistan</td>\n",
       "      <td>0</td>\n",
       "      <td>0</td>\n",
       "      <td>0</td>\n",
       "      <td>0.0</td>\n",
       "      <td>AS</td>\n",
       "      <td>9.068182</td>\n",
       "    </tr>\n",
       "    <tr>\n",
       "      <th>1</th>\n",
       "      <td>Bahrain</td>\n",
       "      <td>42</td>\n",
       "      <td>63</td>\n",
       "      <td>7</td>\n",
       "      <td>2.0</td>\n",
       "      <td>AS</td>\n",
       "      <td>9.068182</td>\n",
       "    </tr>\n",
       "    <tr>\n",
       "      <th>2</th>\n",
       "      <td>Bangladesh</td>\n",
       "      <td>0</td>\n",
       "      <td>0</td>\n",
       "      <td>0</td>\n",
       "      <td>0.0</td>\n",
       "      <td>AS</td>\n",
       "      <td>9.068182</td>\n",
       "    </tr>\n",
       "    <tr>\n",
       "      <th>3</th>\n",
       "      <td>Bhutan</td>\n",
       "      <td>23</td>\n",
       "      <td>0</td>\n",
       "      <td>0</td>\n",
       "      <td>0.4</td>\n",
       "      <td>AS</td>\n",
       "      <td>9.068182</td>\n",
       "    </tr>\n",
       "    <tr>\n",
       "      <th>4</th>\n",
       "      <td>Brunei</td>\n",
       "      <td>31</td>\n",
       "      <td>2</td>\n",
       "      <td>1</td>\n",
       "      <td>0.6</td>\n",
       "      <td>AS</td>\n",
       "      <td>9.068182</td>\n",
       "    </tr>\n",
       "    <tr>\n",
       "      <th>...</th>\n",
       "      <td>...</td>\n",
       "      <td>...</td>\n",
       "      <td>...</td>\n",
       "      <td>...</td>\n",
       "      <td>...</td>\n",
       "      <td>...</td>\n",
       "      <td>...</td>\n",
       "    </tr>\n",
       "    <tr>\n",
       "      <th>188</th>\n",
       "      <td>Samoa</td>\n",
       "      <td>105</td>\n",
       "      <td>18</td>\n",
       "      <td>24</td>\n",
       "      <td>2.6</td>\n",
       "      <td>OC</td>\n",
       "      <td>35.625000</td>\n",
       "    </tr>\n",
       "    <tr>\n",
       "      <th>189</th>\n",
       "      <td>Solomon Islands</td>\n",
       "      <td>56</td>\n",
       "      <td>11</td>\n",
       "      <td>1</td>\n",
       "      <td>1.2</td>\n",
       "      <td>OC</td>\n",
       "      <td>35.625000</td>\n",
       "    </tr>\n",
       "    <tr>\n",
       "      <th>190</th>\n",
       "      <td>Tonga</td>\n",
       "      <td>36</td>\n",
       "      <td>21</td>\n",
       "      <td>5</td>\n",
       "      <td>1.1</td>\n",
       "      <td>OC</td>\n",
       "      <td>35.625000</td>\n",
       "    </tr>\n",
       "    <tr>\n",
       "      <th>191</th>\n",
       "      <td>Tuvalu</td>\n",
       "      <td>6</td>\n",
       "      <td>41</td>\n",
       "      <td>9</td>\n",
       "      <td>1.0</td>\n",
       "      <td>OC</td>\n",
       "      <td>35.625000</td>\n",
       "    </tr>\n",
       "    <tr>\n",
       "      <th>192</th>\n",
       "      <td>Vanuatu</td>\n",
       "      <td>21</td>\n",
       "      <td>18</td>\n",
       "      <td>11</td>\n",
       "      <td>0.9</td>\n",
       "      <td>OC</td>\n",
       "      <td>35.625000</td>\n",
       "    </tr>\n",
       "  </tbody>\n",
       "</table>\n",
       "<p>193 rows × 7 columns</p>\n",
       "</div>"
      ],
      "text/plain": [
       "             country  beer_servings  spirit_servings  wine_servings  \\\n",
       "0        Afghanistan              0                0              0   \n",
       "1            Bahrain             42               63              7   \n",
       "2         Bangladesh              0                0              0   \n",
       "3             Bhutan             23                0              0   \n",
       "4             Brunei             31                2              1   \n",
       "..               ...            ...              ...            ...   \n",
       "188            Samoa            105               18             24   \n",
       "189  Solomon Islands             56               11              1   \n",
       "190            Tonga             36               21              5   \n",
       "191           Tuvalu              6               41              9   \n",
       "192          Vanuatu             21               18             11   \n",
       "\n",
       "     total_litres_of_pure_alcohol continent  wine_servings_cont_avg  \n",
       "0                             0.0        AS                9.068182  \n",
       "1                             2.0        AS                9.068182  \n",
       "2                             0.0        AS                9.068182  \n",
       "3                             0.4        AS                9.068182  \n",
       "4                             0.6        AS                9.068182  \n",
       "..                            ...       ...                     ...  \n",
       "188                           2.6        OC               35.625000  \n",
       "189                           1.2        OC               35.625000  \n",
       "190                           1.1        OC               35.625000  \n",
       "191                           1.0        OC               35.625000  \n",
       "192                           0.9        OC               35.625000  \n",
       "\n",
       "[193 rows x 7 columns]"
      ]
     },
     "execution_count": 39,
     "metadata": {},
     "output_type": "execute_result"
    }
   ],
   "source": [
    "df = drinks.groupby('continent').mean()['wine_servings']\n",
    "df = df.to_frame().reset_index()\n",
    "df = df.rename(columns={'wine_servings': 'wine_servings_cont_avg'})\n",
    "drinks = pd.merge(drinks, df, on='continent', how='outer')\n",
    "drinks"
   ]
  },
  {
   "cell_type": "code",
   "execution_count": 40,
   "metadata": {
    "collapsed": true
   },
   "outputs": [
    {
     "data": {
      "text/html": [
       "<div>\n",
       "<style scoped>\n",
       "    .dataframe tbody tr th:only-of-type {\n",
       "        vertical-align: middle;\n",
       "    }\n",
       "\n",
       "    .dataframe tbody tr th {\n",
       "        vertical-align: top;\n",
       "    }\n",
       "\n",
       "    .dataframe thead th {\n",
       "        text-align: right;\n",
       "    }\n",
       "</style>\n",
       "<table border=\"1\" class=\"dataframe\">\n",
       "  <thead>\n",
       "    <tr style=\"text-align: right;\">\n",
       "      <th></th>\n",
       "      <th>country</th>\n",
       "      <th>continent</th>\n",
       "      <th>wine_servings_cont_avg</th>\n",
       "    </tr>\n",
       "  </thead>\n",
       "  <tbody>\n",
       "    <tr>\n",
       "      <th>18</th>\n",
       "      <td>Laos</td>\n",
       "      <td>AS</td>\n",
       "      <td>9.068182</td>\n",
       "    </tr>\n",
       "    <tr>\n",
       "      <th>174</th>\n",
       "      <td>Suriname</td>\n",
       "      <td>SA</td>\n",
       "      <td>62.416667</td>\n",
       "    </tr>\n",
       "    <tr>\n",
       "      <th>151</th>\n",
       "      <td>El Salvador</td>\n",
       "      <td>OT</td>\n",
       "      <td>24.521739</td>\n",
       "    </tr>\n",
       "    <tr>\n",
       "      <th>185</th>\n",
       "      <td>Niue</td>\n",
       "      <td>OC</td>\n",
       "      <td>35.625000</td>\n",
       "    </tr>\n",
       "    <tr>\n",
       "      <th>6</th>\n",
       "      <td>China</td>\n",
       "      <td>AS</td>\n",
       "      <td>9.068182</td>\n",
       "    </tr>\n",
       "  </tbody>\n",
       "</table>\n",
       "</div>"
      ],
      "text/plain": [
       "         country continent  wine_servings_cont_avg\n",
       "18          Laos        AS                9.068182\n",
       "174     Suriname        SA               62.416667\n",
       "151  El Salvador        OT               24.521739\n",
       "185         Niue        OC               35.625000\n",
       "6          China        AS                9.068182"
      ]
     },
     "execution_count": 40,
     "metadata": {},
     "output_type": "execute_result"
    }
   ],
   "source": [
    "drinks[['country', 'continent', 'wine_servings_cont_avg']].sample(5).head()"
   ]
  },
  {
   "cell_type": "code",
   "execution_count": null,
   "metadata": {},
   "outputs": [],
   "source": [
    "# 위와 같은 방법의 코드\n",
    "drinks['wine_servings_cont_avg'] = drinks.groupby('continent')['wine_servings'].transform(np.mean)"
   ]
  },
  {
   "cell_type": "markdown",
   "metadata": {},
   "source": [
    "##### 대륙별 평균 wine_servings 피처 생성 \n",
    "\n",
    "- groupby 연산 결과를 반환하면, 반환 데이터의 타입은 dataframe 타입이 아닙니다. 따라서 to_frame이라는 함수를 사용하여 dataframe 타입으로 변환한 뒤, 다시 이 dataframe의 index를 reset_index라는 함수로 설정하는 과정이 필요합니다. 그리고 이 과정으로 생성된 dataframe을 원래의 dataframe에 합쳐주어야 합니다. 이를 위해서는 merge 라는 함수를 또 새롭게 적용해야 하지요. 하지만 transform 함수가 있다면, 이 모든 과정을 단 한줄의 코드로 수행할 수 있습니다.\n"
   ]
  },
  {
   "cell_type": "markdown",
   "metadata": {},
   "source": [
    "---"
   ]
  },
  {
   "cell_type": "markdown",
   "metadata": {},
   "source": [
    "### [국가별 total_servings 피처 생성]"
   ]
  },
  {
   "cell_type": "code",
   "execution_count": 69,
   "metadata": {},
   "outputs": [],
   "source": [
    "df = drinks.groupby('country').sum()\n",
    "total_serv = df['beer_servings'] + df['spirit_servings'] + df['wine_servings']\n",
    "total_serv = total_serv.to_frame().reset_index().rename(columns={0:'total_serv'})\n",
    "coun_total_serv = pd.merge(drinks, total_serv, on='country', how='outer')"
   ]
  },
  {
   "cell_type": "code",
   "execution_count": 98,
   "metadata": {},
   "outputs": [
    {
     "data": {
      "text/html": [
       "<div>\n",
       "<style scoped>\n",
       "    .dataframe tbody tr th:only-of-type {\n",
       "        vertical-align: middle;\n",
       "    }\n",
       "\n",
       "    .dataframe tbody tr th {\n",
       "        vertical-align: top;\n",
       "    }\n",
       "\n",
       "    .dataframe thead th {\n",
       "        text-align: right;\n",
       "    }\n",
       "</style>\n",
       "<table border=\"1\" class=\"dataframe\">\n",
       "  <thead>\n",
       "    <tr style=\"text-align: right;\">\n",
       "      <th></th>\n",
       "      <th>country</th>\n",
       "      <th>beer_servings</th>\n",
       "      <th>spirit_servings</th>\n",
       "      <th>wine_servings</th>\n",
       "      <th>total_serv</th>\n",
       "    </tr>\n",
       "  </thead>\n",
       "  <tbody>\n",
       "    <tr>\n",
       "      <th>14</th>\n",
       "      <td>Jordan</td>\n",
       "      <td>6</td>\n",
       "      <td>21</td>\n",
       "      <td>1</td>\n",
       "      <td>28</td>\n",
       "    </tr>\n",
       "    <tr>\n",
       "      <th>82</th>\n",
       "      <td>Slovenia</td>\n",
       "      <td>270</td>\n",
       "      <td>51</td>\n",
       "      <td>276</td>\n",
       "      <td>597</td>\n",
       "    </tr>\n",
       "    <tr>\n",
       "      <th>106</th>\n",
       "      <td>Eritrea</td>\n",
       "      <td>18</td>\n",
       "      <td>0</td>\n",
       "      <td>0</td>\n",
       "      <td>18</td>\n",
       "    </tr>\n",
       "    <tr>\n",
       "      <th>40</th>\n",
       "      <td>United Arab Emirates</td>\n",
       "      <td>16</td>\n",
       "      <td>135</td>\n",
       "      <td>5</td>\n",
       "      <td>156</td>\n",
       "    </tr>\n",
       "    <tr>\n",
       "      <th>165</th>\n",
       "      <td>Argentina</td>\n",
       "      <td>193</td>\n",
       "      <td>25</td>\n",
       "      <td>221</td>\n",
       "      <td>439</td>\n",
       "    </tr>\n",
       "  </tbody>\n",
       "</table>\n",
       "</div>"
      ],
      "text/plain": [
       "                  country  beer_servings  spirit_servings  wine_servings  \\\n",
       "14                 Jordan              6               21              1   \n",
       "82               Slovenia            270               51            276   \n",
       "106               Eritrea             18                0              0   \n",
       "40   United Arab Emirates             16              135              5   \n",
       "165             Argentina            193               25            221   \n",
       "\n",
       "     total_serv  \n",
       "14           28  \n",
       "82          597  \n",
       "106          18  \n",
       "40          156  \n",
       "165         439  "
      ]
     },
     "execution_count": 98,
     "metadata": {},
     "output_type": "execute_result"
    }
   ],
   "source": [
    "coun_total_serv[['country','beer_servings','spirit_servings','wine_servings','total_serv']].sample(5)"
   ]
  },
  {
   "cell_type": "code",
   "execution_count": 141,
   "metadata": {},
   "outputs": [
    {
     "data": {
      "text/html": [
       "<div>\n",
       "<style scoped>\n",
       "    .dataframe tbody tr th:only-of-type {\n",
       "        vertical-align: middle;\n",
       "    }\n",
       "\n",
       "    .dataframe tbody tr th {\n",
       "        vertical-align: top;\n",
       "    }\n",
       "\n",
       "    .dataframe thead th {\n",
       "        text-align: right;\n",
       "    }\n",
       "</style>\n",
       "<table border=\"1\" class=\"dataframe\">\n",
       "  <thead>\n",
       "    <tr style=\"text-align: right;\">\n",
       "      <th></th>\n",
       "      <th>country</th>\n",
       "      <th>beer_servings</th>\n",
       "      <th>wine_servings</th>\n",
       "      <th>spirit_servings</th>\n",
       "      <th>total_servings</th>\n",
       "    </tr>\n",
       "  </thead>\n",
       "  <tbody>\n",
       "    <tr>\n",
       "      <th>80</th>\n",
       "      <td>Serbia</td>\n",
       "      <td>283</td>\n",
       "      <td>127</td>\n",
       "      <td>131</td>\n",
       "      <td>541</td>\n",
       "    </tr>\n",
       "    <tr>\n",
       "      <th>21</th>\n",
       "      <td>Maldives</td>\n",
       "      <td>0</td>\n",
       "      <td>0</td>\n",
       "      <td>0</td>\n",
       "      <td>0</td>\n",
       "    </tr>\n",
       "    <tr>\n",
       "      <th>67</th>\n",
       "      <td>Latvia</td>\n",
       "      <td>281</td>\n",
       "      <td>62</td>\n",
       "      <td>216</td>\n",
       "      <td>559</td>\n",
       "    </tr>\n",
       "    <tr>\n",
       "      <th>75</th>\n",
       "      <td>Poland</td>\n",
       "      <td>343</td>\n",
       "      <td>56</td>\n",
       "      <td>215</td>\n",
       "      <td>614</td>\n",
       "    </tr>\n",
       "    <tr>\n",
       "      <th>189</th>\n",
       "      <td>Solomon Islands</td>\n",
       "      <td>56</td>\n",
       "      <td>1</td>\n",
       "      <td>11</td>\n",
       "      <td>68</td>\n",
       "    </tr>\n",
       "  </tbody>\n",
       "</table>\n",
       "</div>"
      ],
      "text/plain": [
       "             country  beer_servings  wine_servings  spirit_servings  \\\n",
       "80            Serbia            283            127              131   \n",
       "21          Maldives              0              0                0   \n",
       "67            Latvia            281             62              216   \n",
       "75            Poland            343             56              215   \n",
       "189  Solomon Islands             56              1               11   \n",
       "\n",
       "     total_servings  \n",
       "80              541  \n",
       "21                0  \n",
       "67              559  \n",
       "75              614  \n",
       "189              68  "
      ]
     },
     "execution_count": 141,
     "metadata": {},
     "output_type": "execute_result"
    }
   ],
   "source": [
    "# 국가별 total_servings 피처를 만들어서 병합합니다.\n",
    "drinks['total_servings'] = drinks['beer_servings'] + drinks['wine_servings'] + drinks['spirit_servings']\n",
    "# 결과를 출력합니다.\n",
    "drinks[['country', 'beer_servings', 'wine_servings', 'spirit_servings', 'total_servings']].sample(5).head()"
   ]
  },
  {
   "cell_type": "markdown",
   "metadata": {},
   "source": [
    "##### 국가별 total_servings 피처 생성 \n",
    "- group 단위 연산이 아닌, 일반 연산의 경우 간단한 사칙연산 기호만으로 피처를 재구성 할 수 있습니다. drinks['beer_servings'] + drinks['wine_servings'] + drinks['spirit_servings'] 처럼 간단한 코드로도, 합계를 계산한 새로운 피처를 만들어 낼 수 있습니다."
   ]
  },
  {
   "cell_type": "markdown",
   "metadata": {},
   "source": [
    "---"
   ]
  },
  {
   "cell_type": "markdown",
   "metadata": {},
   "source": [
    "### [전체 평균보다 적은 알코올을 섭취하는 대륙 중에서, spirit을 가장 많이 마시는 국가 구하기]"
   ]
  },
  {
   "cell_type": "code",
   "execution_count": 136,
   "metadata": {},
   "outputs": [
    {
     "data": {
      "text/html": [
       "<div>\n",
       "<style scoped>\n",
       "    .dataframe tbody tr th:only-of-type {\n",
       "        vertical-align: middle;\n",
       "    }\n",
       "\n",
       "    .dataframe tbody tr th {\n",
       "        vertical-align: top;\n",
       "    }\n",
       "\n",
       "    .dataframe thead th {\n",
       "        text-align: right;\n",
       "    }\n",
       "</style>\n",
       "<table border=\"1\" class=\"dataframe\">\n",
       "  <thead>\n",
       "    <tr style=\"text-align: right;\">\n",
       "      <th></th>\n",
       "      <th>country</th>\n",
       "      <th>spirit_servings</th>\n",
       "    </tr>\n",
       "  </thead>\n",
       "  <tbody>\n",
       "    <tr>\n",
       "      <th>30</th>\n",
       "      <td>Russian Federation</td>\n",
       "      <td>326</td>\n",
       "    </tr>\n",
       "  </tbody>\n",
       "</table>\n",
       "</div>"
      ],
      "text/plain": [
       "               country  spirit_servings\n",
       "30  Russian Federation              326"
      ]
     },
     "execution_count": 136,
     "metadata": {},
     "output_type": "execute_result"
    }
   ],
   "source": [
    "# 전체 평균\n",
    "total_mean = drinks['total_litres_of_pure_alcohol'].mean()\n",
    "# 보다 적은 알코올 섭취 대륙\n",
    "continent_mean = drinks.groupby('continent').total_litres_of_pure_alcohol.mean()\n",
    "conti_under_mean = continent_mean[continent_mean <= total_mean].index.tolist()\n",
    "df_conti_under_mean = drinks.loc[drinks.continent.isin(conti_under_mean)]\n",
    "# spirit을 가장 많이 마시는 국가\n",
    "df_conti_under_mean[['country', 'spirit_servings']].sort_values('spirit_servings', ascending=False).head(1)"
   ]
  },
  {
   "cell_type": "code",
   "execution_count": 138,
   "metadata": {},
   "outputs": [
    {
     "data": {
      "text/plain": [
       "'Russian Federation'"
      ]
     },
     "execution_count": 138,
     "metadata": {},
     "output_type": "execute_result"
    }
   ],
   "source": [
    "# 정답\n",
    "most_spirit_under_mean = df_conti_under_mean.loc[df_conti_under_mean['spirit_servings'].idxmax()]\n",
    "most_spirit_under_mean['country']"
   ]
  },
  {
   "cell_type": "markdown",
   "metadata": {},
   "source": [
    "##### 전체 평균보다 적은 알코올을 섭취하는 대륙 중에서, spirit을 가장 많이 마시는 국가\n",
    "- group 단위 연산을 적용한 결과를 바탕으로, 원하는 조건을 필터링합니다. 여기에 isin 함수와 dataframe.loc 을 이용하여 전체 평균보다 적은 알코올을 섭취하는 대륙들을 구할 수 있습니다. isin 함수의 사용법을 조금 더 설명하자면, 만약 A[A.column_name.isin(B)] 라는 코드가 있다면, 이것은 A라는 데이터 프레임 중, A의 column_name 피처가 B 안에 포함되어 있는 데이터만을 가져온다는 것입니다. 그리고 loc이라는 것은 반환된 데이터의 위치를 나타내는 것입니다. 이제 이 결과에 idxmax() 함수를 사용하면, 특정 value가 가장 높은 데이터의 index를 찾을 수 있습니다. 이 부분의 코드블럭을 잘게 나누어, 한 줄 한 줄 실행해보며 함수의 사용법을 잘 파악해보도록 합시다."
   ]
  },
  {
   "cell_type": "markdown",
   "metadata": {},
   "source": [
    "---"
   ]
  },
  {
   "cell_type": "markdown",
   "metadata": {},
   "source": [
    "### [술 소비량 대비 알콜 비율 구하기]"
   ]
  },
  {
   "cell_type": "code",
   "execution_count": 162,
   "metadata": {},
   "outputs": [
    {
     "data": {
      "text/html": [
       "<div>\n",
       "<style scoped>\n",
       "    .dataframe tbody tr th:only-of-type {\n",
       "        vertical-align: middle;\n",
       "    }\n",
       "\n",
       "    .dataframe tbody tr th {\n",
       "        vertical-align: top;\n",
       "    }\n",
       "\n",
       "    .dataframe thead th {\n",
       "        text-align: right;\n",
       "    }\n",
       "</style>\n",
       "<table border=\"1\" class=\"dataframe\">\n",
       "  <thead>\n",
       "    <tr style=\"text-align: right;\">\n",
       "      <th></th>\n",
       "      <th>country</th>\n",
       "      <th>beer_servings</th>\n",
       "      <th>spirit_servings</th>\n",
       "      <th>wine_servings</th>\n",
       "      <th>total_litres_of_pure_alcohol</th>\n",
       "      <th>continent</th>\n",
       "      <th>wine_servings_cont_avg</th>\n",
       "      <th>total_servings</th>\n",
       "      <th>alcohol_rate</th>\n",
       "      <th>alcoh_rate_rank</th>\n",
       "    </tr>\n",
       "  </thead>\n",
       "  <tbody>\n",
       "    <tr>\n",
       "      <th>0</th>\n",
       "      <td>Afghanistan</td>\n",
       "      <td>0</td>\n",
       "      <td>0</td>\n",
       "      <td>0</td>\n",
       "      <td>0.0</td>\n",
       "      <td>AS</td>\n",
       "      <td>9.068182</td>\n",
       "      <td>0</td>\n",
       "      <td>0.000000</td>\n",
       "      <td>187.0</td>\n",
       "    </tr>\n",
       "    <tr>\n",
       "      <th>1</th>\n",
       "      <td>Bahrain</td>\n",
       "      <td>42</td>\n",
       "      <td>63</td>\n",
       "      <td>7</td>\n",
       "      <td>2.0</td>\n",
       "      <td>AS</td>\n",
       "      <td>9.068182</td>\n",
       "      <td>112</td>\n",
       "      <td>0.017857</td>\n",
       "      <td>106.0</td>\n",
       "    </tr>\n",
       "    <tr>\n",
       "      <th>2</th>\n",
       "      <td>Bangladesh</td>\n",
       "      <td>0</td>\n",
       "      <td>0</td>\n",
       "      <td>0</td>\n",
       "      <td>0.0</td>\n",
       "      <td>AS</td>\n",
       "      <td>9.068182</td>\n",
       "      <td>0</td>\n",
       "      <td>0.000000</td>\n",
       "      <td>187.0</td>\n",
       "    </tr>\n",
       "    <tr>\n",
       "      <th>3</th>\n",
       "      <td>Bhutan</td>\n",
       "      <td>23</td>\n",
       "      <td>0</td>\n",
       "      <td>0</td>\n",
       "      <td>0.4</td>\n",
       "      <td>AS</td>\n",
       "      <td>9.068182</td>\n",
       "      <td>23</td>\n",
       "      <td>0.017391</td>\n",
       "      <td>174.0</td>\n",
       "    </tr>\n",
       "    <tr>\n",
       "      <th>4</th>\n",
       "      <td>Brunei</td>\n",
       "      <td>31</td>\n",
       "      <td>2</td>\n",
       "      <td>1</td>\n",
       "      <td>0.6</td>\n",
       "      <td>AS</td>\n",
       "      <td>9.068182</td>\n",
       "      <td>34</td>\n",
       "      <td>0.017647</td>\n",
       "      <td>162.0</td>\n",
       "    </tr>\n",
       "  </tbody>\n",
       "</table>\n",
       "</div>"
      ],
      "text/plain": [
       "       country  beer_servings  spirit_servings  wine_servings  \\\n",
       "0  Afghanistan              0                0              0   \n",
       "1      Bahrain             42               63              7   \n",
       "2   Bangladesh              0                0              0   \n",
       "3       Bhutan             23                0              0   \n",
       "4       Brunei             31                2              1   \n",
       "\n",
       "   total_litres_of_pure_alcohol continent  wine_servings_cont_avg  \\\n",
       "0                           0.0        AS                9.068182   \n",
       "1                           2.0        AS                9.068182   \n",
       "2                           0.0        AS                9.068182   \n",
       "3                           0.4        AS                9.068182   \n",
       "4                           0.6        AS                9.068182   \n",
       "\n",
       "   total_servings  alcohol_rate  alcoh_rate_rank  \n",
       "0               0      0.000000            187.0  \n",
       "1             112      0.017857            106.0  \n",
       "2               0      0.000000            187.0  \n",
       "3              23      0.017391            174.0  \n",
       "4              34      0.017647            162.0  "
      ]
     },
     "execution_count": 162,
     "metadata": {},
     "output_type": "execute_result"
    }
   ],
   "source": [
    "drinks.head()"
   ]
  },
  {
   "cell_type": "code",
   "execution_count": 145,
   "metadata": {},
   "outputs": [],
   "source": [
    "# 술 소비량 대비 알콜 비율\n",
    "drinks['alcohol_rate'] = drinks['total_litres_of_pure_alcohol'] / drinks['total_servings']\n",
    "drinks['alcohol_rate'] = drinks['alcohol_rate'].fillna(0)"
   ]
  },
  {
   "cell_type": "code",
   "execution_count": 160,
   "metadata": {},
   "outputs": [
    {
     "data": {
      "text/plain": [
       "<ufunc 'floor'>"
      ]
     },
     "execution_count": 160,
     "metadata": {},
     "output_type": "execute_result"
    }
   ],
   "source": []
  },
  {
   "cell_type": "code",
   "execution_count": 163,
   "metadata": {},
   "outputs": [
    {
     "data": {
      "text/plain": [
       "29    15.0\n",
       "Name: alcoh_rate_rank, dtype: float64"
      ]
     },
     "execution_count": 163,
     "metadata": {},
     "output_type": "execute_result"
    }
   ],
   "source": [
    "# 전체 중 한국 순위\n",
    "# 전체 랭킹 컬럼 생성\n",
    "drinks['alcoh_rate_rank'] = drinks['alcohol_rate'].rank(ascending=False).apply(np.floor)\n",
    "drinks.loc[drinks['country'] == 'South Korea']['alcoh_rate_rank']"
   ]
  },
  {
   "cell_type": "markdown",
   "metadata": {},
   "source": [
    "##### 술 소비량 대비 알콜 비율에 대한 피처 생성\n",
    "- 위의 다른 예제들과 동일한 방법을 통해 새로 만들어진 'alcohol_rate' 피처를 기준으로 rank 함수를 적용합니다. 이를 통해 한국(South Korea)이 술 소비량 대비 알콜 비율이 전체 순위 중 몇위인지 찾아봅시다. rank 함수는 특정 column 내에서의 순위값을 반환해주는 함수입니다. 실행 결과, 자랑스럽게도 한국의 술 소비량 대비 알콜 비율은 전체에서 15등을 차지하였습니다."
   ]
  },
  {
   "cell_type": "markdown",
   "metadata": {},
   "source": [
    "---"
   ]
  },
  {
   "cell_type": "markdown",
   "metadata": {},
   "source": [
    "### [대륙별 술 소비량 대비 알콜 비율 구하기]"
   ]
  },
  {
   "cell_type": "code",
   "execution_count": 171,
   "metadata": {},
   "outputs": [],
   "source": [
    "# 대륙별 술 소비량\n",
    "conti_sum = drinks.groupby('continent').sum()\n",
    "conti_sum['alcohol_rate_conti'] = conti_sum['total_litres_of_pure_alcohol'] / conti_sum['total_servings']\n",
    "conti_sum = conti_sum.reset_index()\n",
    "conti_sum = conti_sum[['continent', 'alcohol_rate_conti']]\n",
    "drinks = pd.merge(drinks, conti_sum, on='continent', how='outer')"
   ]
  },
  {
   "cell_type": "code",
   "execution_count": 173,
   "metadata": {},
   "outputs": [
    {
     "data": {
      "text/html": [
       "<div>\n",
       "<style scoped>\n",
       "    .dataframe tbody tr th:only-of-type {\n",
       "        vertical-align: middle;\n",
       "    }\n",
       "\n",
       "    .dataframe tbody tr th {\n",
       "        vertical-align: top;\n",
       "    }\n",
       "\n",
       "    .dataframe thead th {\n",
       "        text-align: right;\n",
       "    }\n",
       "</style>\n",
       "<table border=\"1\" class=\"dataframe\">\n",
       "  <thead>\n",
       "    <tr style=\"text-align: right;\">\n",
       "      <th></th>\n",
       "      <th>country</th>\n",
       "      <th>continent</th>\n",
       "      <th>alcohol_rate_conti</th>\n",
       "    </tr>\n",
       "  </thead>\n",
       "  <tbody>\n",
       "    <tr>\n",
       "      <th>169</th>\n",
       "      <td>Colombia</td>\n",
       "      <td>SA</td>\n",
       "      <td>0.017909</td>\n",
       "    </tr>\n",
       "    <tr>\n",
       "      <th>103</th>\n",
       "      <td>Djibouti</td>\n",
       "      <td>AF</td>\n",
       "      <td>0.031970</td>\n",
       "    </tr>\n",
       "    <tr>\n",
       "      <th>175</th>\n",
       "      <td>Uruguay</td>\n",
       "      <td>SA</td>\n",
       "      <td>0.017909</td>\n",
       "    </tr>\n",
       "    <tr>\n",
       "      <th>36</th>\n",
       "      <td>Thailand</td>\n",
       "      <td>AS</td>\n",
       "      <td>0.020293</td>\n",
       "    </tr>\n",
       "    <tr>\n",
       "      <th>154</th>\n",
       "      <td>Haiti</td>\n",
       "      <td>OT</td>\n",
       "      <td>0.017860</td>\n",
       "    </tr>\n",
       "  </tbody>\n",
       "</table>\n",
       "</div>"
      ],
      "text/plain": [
       "      country continent  alcohol_rate_conti\n",
       "169  Colombia        SA            0.017909\n",
       "103  Djibouti        AF            0.031970\n",
       "175   Uruguay        SA            0.017909\n",
       "36   Thailand        AS            0.020293\n",
       "154     Haiti        OT            0.017860"
      ]
     },
     "execution_count": 173,
     "metadata": {},
     "output_type": "execute_result"
    }
   ],
   "source": [
    "# 결과\n",
    "drinks[['country', 'continent', 'alcohol_rate_conti']].sample(5).head()"
   ]
  },
  {
   "cell_type": "markdown",
   "metadata": {},
   "source": [
    "##### 대륙별 술 소비량 대비 알콜 비율 피처 생성\n",
    "- 대륙별 술 소비량 대비 알콜 비율이라는 또 다른 피처를 재구성하였습니다. 이 피처는 위의 예제들의 모든 함수를 골고루 사용하여 생성된 피처입니다. 만약 여러분이 이러한 피처를 자유자재로 생성할 수 있다면, 파이썬을 활용한 데이터 처리 그리고 탐색적 데이터 분석을 어느정도 능숙하게 할 수 있게 된 것입니다."
   ]
  }
 ],
 "metadata": {
  "kernelspec": {
   "display_name": "Python 3",
   "language": "python",
   "name": "python3"
  },
  "language_info": {
   "codemirror_mode": {
    "name": "ipython",
    "version": 3
   },
   "file_extension": ".py",
   "mimetype": "text/x-python",
   "name": "python",
   "nbconvert_exporter": "python",
   "pygments_lexer": "ipython3",
   "version": "3.10.4"
  }
 },
 "nbformat": 4,
 "nbformat_minor": 4
}
