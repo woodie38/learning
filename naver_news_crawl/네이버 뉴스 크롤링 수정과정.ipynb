{
 "cells": [
  {
   "cell_type": "code",
   "execution_count": 1,
   "id": "961940f0",
   "metadata": {},
   "outputs": [],
   "source": [
    "import sys    # 시스템\n",
    "import os     # 시스템\n",
    "import pandas as pd    # 판다스 : 데이터분석 라이브러리\n",
    "import numpy as np     # 넘파이 : 숫자, 행렬 데이터 라이브러리\n",
    "from bs4 import BeautifulSoup     # html 데이터 전처리\n",
    "import requests                   # http 요청 라이브러리\n",
    "import time                       # 시간 지연\n",
    "from tqdm import tqdm_notebook    # 진행상황 표시"
   ]
  },
  {
   "cell_type": "code",
   "execution_count": 2,
   "id": "9591ae79",
   "metadata": {},
   "outputs": [
    {
     "data": {
      "text/html": [
       "<div>\n",
       "<style scoped>\n",
       "    .dataframe tbody tr th:only-of-type {\n",
       "        vertical-align: middle;\n",
       "    }\n",
       "\n",
       "    .dataframe tbody tr th {\n",
       "        vertical-align: top;\n",
       "    }\n",
       "\n",
       "    .dataframe thead th {\n",
       "        text-align: right;\n",
       "    }\n",
       "</style>\n",
       "<table border=\"1\" class=\"dataframe\">\n",
       "  <thead>\n",
       "    <tr style=\"text-align: right;\">\n",
       "      <th></th>\n",
       "      <th>제목</th>\n",
       "    </tr>\n",
       "  </thead>\n",
       "  <tbody>\n",
       "    <tr>\n",
       "      <th>0</th>\n",
       "      <td>기초연금법 소상공인법 등 법제처, 문재인 정부 입법성과 발표</td>\n",
       "    </tr>\n",
       "    <tr>\n",
       "      <th>1</th>\n",
       "      <td>법제처, 문재인 정부 내 포용적 복지 K-방역 등 입법으로 견인했다</td>\n",
       "    </tr>\n",
       "    <tr>\n",
       "      <th>2</th>\n",
       "      <td>부동산 투기 물의 'LH', 청렴도 최하위</td>\n",
       "    </tr>\n",
       "    <tr>\n",
       "      <th>3</th>\n",
       "      <td>“근로자인 조부모도 손자녀 육아휴직 근거 마련해야”</td>\n",
       "    </tr>\n",
       "    <tr>\n",
       "      <th>4</th>\n",
       "      <td>요소수, 월평균 판매량 10% 초과 보관시 매점매석(종합)</td>\n",
       "    </tr>\n",
       "    <tr>\n",
       "      <th>...</th>\n",
       "      <td>...</td>\n",
       "    </tr>\n",
       "    <tr>\n",
       "      <th>112</th>\n",
       "      <td>[단독] 청, 1조원대 공무원 복지포인트 과세 검토, 헌재 정부는 비과세 고수</td>\n",
       "    </tr>\n",
       "    <tr>\n",
       "      <th>113</th>\n",
       "      <td>프랜차이즈 본부 ‘갑질’ 집중조사</td>\n",
       "    </tr>\n",
       "    <tr>\n",
       "      <th>114</th>\n",
       "      <td>[불붙는 프랜차이즈 개혁]공정위, ‘가맹본부 갑질’ 조사 강화 가맹거래조사팀 신설</td>\n",
       "    </tr>\n",
       "    <tr>\n",
       "      <th>115</th>\n",
       "      <td>통일부 등 12개 부처 '우수' 평가 받아 \"한반도 평화체제 기반 마련\"</td>\n",
       "    </tr>\n",
       "    <tr>\n",
       "      <th>116</th>\n",
       "      <td>'가계소득조사 개편 논란' 통계청, 업무평가 최하점</td>\n",
       "    </tr>\n",
       "  </tbody>\n",
       "</table>\n",
       "<p>117 rows × 1 columns</p>\n",
       "</div>"
      ],
      "text/plain": [
       "                                                제목\n",
       "0                기초연금법 소상공인법 등 법제처, 문재인 정부 입법성과 발표\n",
       "1            법제처, 문재인 정부 내 포용적 복지 K-방역 등 입법으로 견인했다\n",
       "2                          부동산 투기 물의 'LH', 청렴도 최하위\n",
       "3                     “근로자인 조부모도 손자녀 육아휴직 근거 마련해야”\n",
       "4                 요소수, 월평균 판매량 10% 초과 보관시 매점매석(종합)\n",
       "..                                             ...\n",
       "112    [단독] 청, 1조원대 공무원 복지포인트 과세 검토, 헌재 정부는 비과세 고수\n",
       "113                             프랜차이즈 본부 ‘갑질’ 집중조사\n",
       "114  [불붙는 프랜차이즈 개혁]공정위, ‘가맹본부 갑질’ 조사 강화 가맹거래조사팀 신설\n",
       "115       통일부 등 12개 부처 '우수' 평가 받아 \"한반도 평화체제 기반 마련\"\n",
       "116                   '가계소득조사 개편 논란' 통계청, 업무평가 최하점\n",
       "\n",
       "[117 rows x 1 columns]"
      ]
     },
     "execution_count": 2,
     "metadata": {},
     "output_type": "execute_result"
    }
   ],
   "source": [
    "# CSV 파일 불러오기\n",
    "\n",
    "keyword = pd.read_csv('C:/Users/socsoft/Downloads/internship_kwj/socsoft/법제처키워드/(v)불공정_키워드(117).csv', encoding='utf-8')\n",
    "keyword"
   ]
  },
  {
   "cell_type": "code",
   "execution_count": 3,
   "id": "4237cc94",
   "metadata": {},
   "outputs": [],
   "source": [
    "# 데이터 프레임 열에 이름 없을 경우 이름달아 주기\n",
    "\n",
    "keyword=keyword.rename(columns={'Unnamed: 0':'순번','0':'제목'})"
   ]
  },
  {
   "cell_type": "code",
   "execution_count": 6,
   "id": "517b32f6",
   "metadata": {},
   "outputs": [
    {
     "data": {
      "text/plain": [
       "'성동구 ‘공정무역도시’ 공식 인증'"
      ]
     },
     "execution_count": 6,
     "metadata": {},
     "output_type": "execute_result"
    }
   ],
   "source": [
    "# 데이터 프레임에서 key 값으로 쓸 열을 리스트 형태로 가져오기\n",
    " \n",
    "key = keyword[\"제목\"][7]\n",
    "\n",
    "key"
   ]
  },
  {
   "cell_type": "code",
   "execution_count": 75,
   "id": "ec964d55",
   "metadata": {},
   "outputs": [],
   "source": [
    "# 네이버 인링크 추출\n",
    "inlink_url = []\n",
    "\n",
    "url = 'https://search.naver.com/search.naver?where=news&sm=tab_jum&query={}'.format(key)\n",
    "headers = {'user-agent' : 'Mozilla/5.0 (Windows NT 10.0; Win64; x64) AppleWebKit/537.36 (KHTML, like Gecko) Chrome/105.0.0.0 Safari/537.36'}\n",
    "resp = requests.get(url, headers=headers)\n",
    "soup = BeautifulSoup(resp.text)\n",
    "\n",
    "# 뉴스 전체 정보\n",
    "n_info = soup.find('a', class_='news_tit')\n",
    "\n",
    "# 네이버 인링크 정보\n",
    "onlink_info_1 = n_info['onclick'].split('&')[3]\n",
    "onlink_info_2 = onlink_info_1.split('=')[1]\n",
    "onlink_info = onlink_info_2.split('.')\n",
    "\n",
    "# 네이버 인링크 URL 리스트에 저장\n",
    "onlink_url = 'https://n.news.naver.com/mnews/article/{}/{}'.format(onlink_info[0], onlink_info[1])\n",
    "inlink_url.append(onlink_url)"
   ]
  },
  {
   "cell_type": "code",
   "execution_count": 78,
   "id": "32d724d8",
   "metadata": {},
   "outputs": [],
   "source": [
    "# 네이버 인링크 추출\n",
    "inlink_url = []\n",
    "\n",
    "url = 'https://search.naver.com/search.naver?where=news&sm=tab_jum&query={}'.format(key)\n",
    "headers = {'user-agent' : 'Mozilla/5.0 (Windows NT 10.0; Win64; x64) AppleWebKit/537.36 (KHTML, like Gecko) Chrome/105.0.0.0 Safari/537.36'}\n",
    "resp = requests.get(url, headers=headers)\n",
    "soup = BeautifulSoup(resp.text)\n",
    "\n",
    "# 뉴스 전체 정보\n",
    "n_info = soup.find('ul', class_='list_news')\n",
    "\n"
   ]
  },
  {
   "cell_type": "code",
   "execution_count": 111,
   "id": "5c5ea5f8",
   "metadata": {},
   "outputs": [
    {
     "name": "stdout",
     "output_type": "stream",
     "text": [
      "https://n.news.naver.com/mnews/article/032/0003097881?sid=102\n"
     ]
    }
   ],
   "source": [
    "for i in n_info.find_all('a'):\n",
    "    if 'https://n.news.naver.com/' in i['href']:\n",
    "        print(i['href'])\n",
    "        break"
   ]
  },
  {
   "cell_type": "code",
   "execution_count": 110,
   "id": "ce711121",
   "metadata": {
    "scrolled": false
   },
   "outputs": [
    {
     "data": {
      "text/plain": [
       "True"
      ]
     },
     "execution_count": 110,
     "metadata": {},
     "output_type": "execute_result"
    }
   ],
   "source": [
    "'https://n.news.naver.com/' in n_info.find_all('a')[2]['href'] "
   ]
  },
  {
   "cell_type": "code",
   "execution_count": 44,
   "id": "8ac1e9e3",
   "metadata": {},
   "outputs": [],
   "source": [
    "for i in soup.find('div', class_='group_news').find_all('a'):\n",
    "    if i.:\n",
    "        print(i)\n",
    "        break"
   ]
  },
  {
   "cell_type": "code",
   "execution_count": 49,
   "id": "21bfbcae",
   "metadata": {},
   "outputs": [
    {
     "data": {
      "text/plain": [
       "<a class=\"banner_nmessage\" href=\"https://help.naver.com/alias/news/news_21.naver\" onclick=\"return goOtherCR(this, 'a=nws.noti&amp;u='+urlencode(this.href));\" target=\"_blank\"> <div class=\"info\">뉴스 기사와 댓글로 인한 문제 발생시 <span class=\"txt\">24시간 센터로 접수해주세요.</span><i class=\"spnew api_ico_help\"></i></div> </a>"
      ]
     },
     "execution_count": 49,
     "metadata": {},
     "output_type": "execute_result"
    }
   ],
   "source": [
    "i"
   ]
  },
  {
   "cell_type": "code",
   "execution_count": 87,
   "id": "1e66b578",
   "metadata": {
    "scrolled": true
   },
   "outputs": [
    {
     "data": {
      "text/plain": [
       "<div class=\"api_subject_bx\"> <div class=\"news_pick_area\"> <a class=\"spnew_af pick_link\" href=\"https://news.naver.com/main/static/channelPromotion.html\" onclick=\"return goOtherCR(this, 'a=upr.pick&amp;u='+urlencode(this.href));\" target=\"_blank\"> <i class=\"spnew ico_pick\">언론사 선정</i>언론사가 선정한 주요기사 혹은 심층기획 기사입니다. </a> </div><div class=\"group_news\"> <ul class=\"list_news\"> <li class=\"bx\" id=\"sp_nws1\"> <div class=\"news_wrap api_ani_send\"> <div class=\"news_area\"> <div class=\"news_info\"> <div class=\"api_save_group _keep_wrap\"> <a aria-pressed=\"false\" class=\"btn_save _keep_trigger\" data-url=\"http://www.hg-times.com/news/articleView.html?idxno=232786\" href=\"#\" onclick=\"tCR('a=nws*f.kep&amp;r=1&amp;i=8813C2D6_000000000000000000151925&amp;u=javascript'); return false;\" role=\"button\"><i class=\"spnew ico_save\">문서 저장하기</i></a> <div class=\"api_ly_save _keep_save_layer\"> <a class=\"spnew_af item item_save _keep_save\" data-cr-off=\"a=nws*f.kepoff&amp;r=1&amp;i=8813C2D6_000000000000000000151925&amp;u=javascript\" data-cr-on=\"a=nws*f.kepon&amp;r=1&amp;i=8813C2D6_000000000000000000151925&amp;u=javascript\" href=\"#\" role=\"button\">Keep에 저장</a> <a class=\"spnew_af item item_quick\" href=\"https://keep.naver.com/\" onclick=\"return goOtherCR(this,'a=nws*f.kephome&amp;r=1&amp;i=8813C2D6_000000000000000000151925&amp;u='+urlencode(this.href));\" target=\"_blank\">Keep 바로가기</a> </div></div><div class=\"info_group\"> <a class=\"info press\" href=\"http://www.hg-times.com\" onclick=\"return goOtherCR(this, 'a=nws*f.prof&amp;r=1&amp;i=8813C2D6_000000000000000000151925&amp;g=5290.0000151925&amp;u='+urlencode(this.href));\" target=\"_blank\"><span class=\"thumb_box\"><img alt=\"\" class=\"thumb\" height=\"20\" onerror=\"this.src='data:image/gif;base64,R0lGODlhAQABAIAAAAAAAP///yH5BAEAAAAALAAAAAABAAEAAAIBRAA7';this.className='thumb bg_default_press'\" src=\"https://search.pstatic.net/common/?src=http%3A%2F%2Fwww.hg-times.com%2Fimage%2Flogo%2Ffavicon_20171201054728.ico&amp;type=f54_54&amp;expire=24&amp;refresh=true\" width=\"20\"/></span>한강타임즈</a><span class=\"info\">2021.09.13.</span> </div></div><a class=\"news_tit\" href=\"http://www.hg-times.com/news/articleView.html?idxno=232786\" onclick=\"return goOtherCR(this, 'a=nws*f.tit&amp;r=1&amp;i=8813C2D6_000000000000000000151925&amp;g=5290.0000151925&amp;u='+urlencode(this.href));\" target=\"_blank\" title=\"성동구, 2년 노력 끝 '공정무역도시' 공식 인증\"><mark>성동구</mark>, 2년 노력 끝 '<mark>공정무역도시</mark>' <mark>공식 인증</mark></a> <div class=\"news_dsc\"> <div class=\"dsc_wrap\"> <a class=\"api_txt_lines dsc_txt_wrap\" href=\"http://www.hg-times.com/news/articleView.html?idxno=232786\" onclick=\"return goOtherCR(this, 'a=nws*f.body&amp;r=1&amp;i=8813C2D6_000000000000000000151925&amp;g=5290.0000151925&amp;u='+urlencode(this.href));\" target=\"_blank\"><mark>성동구</mark>(구청장 정원오)가 지난 2년여의 노력 끝에 '<mark>공정무역도시</mark>'로 <mark>공식 인증</mark>을 받았다. 현재 <mark>성동구</mark>에는 인구 대비 목표치(인구 2만5000명 당 1개소의 판매처 확보)인 12개를 훨씬 넘어선 무려 180여 개(프랜차이즈 매장...</a> </div></div></div><a class=\"dsc_thumb\" href=\"http://www.hg-times.com/news/articleView.html?idxno=232786\" onclick=\"return goOtherCR(this, 'a=nws*f.img&amp;r=1&amp;i=8813C2D6_000000000000000000151925&amp;g=5290.0000151925&amp;u='+urlencode(this.href));\" target=\"_blank\"><img alt=\"성동구, 2년 노력 끝 \" class=\"thumb api_get\" height=\"90\" onerror=\"this.parentNode.style.display='none';\" src=\"https://search.pstatic.net/common/?src=https%3A%2F%2Fimgnews.pstatic.net%2Fimage%2Forigin%2F5290%2F2021%2F09%2F13%2F151925.jpg&amp;type=ofullfill264_180_gray&amp;expire=2&amp;refresh=true\" width=\"132\"/></a> </div></li> <li class=\"bx\" id=\"sp_nws2\"> <div class=\"news_wrap api_ani_send\"> <div class=\"news_area\"> <div class=\"news_info\"> <div class=\"api_save_group _keep_wrap\"> <a aria-pressed=\"false\" class=\"btn_save _keep_trigger\" data-url=\"https://www.khan.co.kr/local/Seoul/article/202109131018001\" href=\"#\" onclick=\"tCR('a=nws*e.kep&amp;r=2&amp;i=8800006B_000000000000000003097881&amp;u=javascript'); return false;\" role=\"button\"><i class=\"spnew ico_save\">문서 저장하기</i></a> <div class=\"api_ly_save _keep_save_layer\"> <a class=\"spnew_af item item_save _keep_save\" data-cr-off=\"a=nws*e.kepoff&amp;r=2&amp;i=8800006B_000000000000000003097881&amp;u=javascript\" data-cr-on=\"a=nws*e.kepon&amp;r=2&amp;i=8800006B_000000000000000003097881&amp;u=javascript\" href=\"#\" role=\"button\">Keep에 저장</a> <a class=\"spnew_af item item_quick\" href=\"https://keep.naver.com/\" onclick=\"return goOtherCR(this,'a=nws*e.kephome&amp;r=2&amp;i=8800006B_000000000000000003097881&amp;u='+urlencode(this.href));\" target=\"_blank\">Keep 바로가기</a> </div></div><div class=\"info_group\"> <a class=\"info press\" href=\"http://www.khan.co.kr/\" onclick=\"return goOtherCR(this, 'a=nws*e.prof&amp;r=2&amp;i=8800006B_000000000000000003097881&amp;g=032.0003097881&amp;u='+urlencode(this.href));\" target=\"_blank\"><span class=\"thumb_box\"><img alt=\"\" class=\"thumb\" height=\"20\" onerror=\"this.src='data:image/gif;base64,R0lGODlhAQABAIAAAAAAAP///yH5BAEAAAAALAAAAAABAAEAAAIBRAA7';this.className='thumb bg_default_press'\" src=\"https://search.pstatic.net/common/?src=https%3A%2F%2Fmimgnews.pstatic.net%2Fimage%2Fupload%2Foffice_logo%2F032%2F2018%2F10%2F11%2Flogo_032_18_20181011174611.png&amp;type=f54_54&amp;expire=24&amp;refresh=true\" width=\"20\"/></span>경향신문</a><span class=\"info\">2021.09.13.</span><a class=\"info\" href=\"https://n.news.naver.com/mnews/article/032/0003097881?sid=102\" onclick=\"return goOtherCR(this, 'a=nws*e.nav&amp;r=2&amp;i=8800006B_000000000000000003097881&amp;u='+urlencode(this.href));\" target=\"_blank\">네이버뉴스</a> </div></div><a class=\"news_tit\" href=\"https://www.khan.co.kr/local/Seoul/article/202109131018001\" onclick=\"return goOtherCR(this, 'a=nws*e.tit&amp;r=2&amp;i=8800006B_000000000000000003097881&amp;g=032.0003097881&amp;u='+urlencode(this.href));\" target=\"_blank\" title=\"성동구 ‘착한 소비’ 활성화로 공정무역도시 공식 인증 [서울25]\"><mark>성동구 ‘</mark>착한 소비’ 활성화로 <mark>공정무역도시</mark> <mark>공식 인증</mark> [서울25]</a> <div class=\"news_dsc\"> <div class=\"dsc_wrap\"> <a class=\"api_txt_lines dsc_txt_wrap\" href=\"https://www.khan.co.kr/local/Seoul/article/202109131018001\" onclick=\"return goOtherCR(this, 'a=nws*e.body&amp;r=2&amp;i=8800006B_000000000000000003097881&amp;g=032.0003097881&amp;u='+urlencode(this.href));\" target=\"_blank\">서울 <mark>성동구</mark>는 지난달 (사)한국<mark>공정무역</mark>마을위원회로부터 <mark>공정무역도시</mark> <mark>인증</mark>을 받아 이달 9일 <mark>성동구</mark>청 청사 외부에서 <mark>공정무역도시</mark> <mark>인증</mark> 현판식을 개최했다고 13일 밝혔다. <mark>공정무역</mark>은 생산자에게 정당한 대가를...</a> </div></div></div><a class=\"dsc_thumb\" href=\"https://www.khan.co.kr/local/Seoul/article/202109131018001\" onclick=\"return goOtherCR(this, 'a=nws*e.img&amp;r=2&amp;i=8800006B_000000000000000003097881&amp;g=032.0003097881&amp;u='+urlencode(this.href));\" target=\"_blank\"><img alt=\"성동구 ‘착한 소비’\" class=\"thumb api_get\" height=\"90\" onerror=\"this.parentNode.style.display='none';\" src=\"https://search.pstatic.net/common/?src=https%3A%2F%2Fimgnews.pstatic.net%2Fimage%2Forigin%2F032%2F2021%2F09%2F13%2F3097881.jpg&amp;type=ff264_180&amp;expire=2&amp;refresh=true\" width=\"132\"/></a> </div></li> <li class=\"bx\" id=\"sp_nws3\"> <div class=\"news_wrap api_ani_send\"> <div class=\"news_area\"> <div class=\"news_info\"> <div class=\"api_save_group _keep_wrap\"> <a aria-pressed=\"false\" class=\"btn_save _keep_trigger\" data-url=\"https://www.asiatoday.co.kr/view.php?key=20210913010007332\" href=\"#\" onclick=\"tCR('a=nws*f.kep&amp;r=3&amp;i=8813C2E8_000000000000000001531594&amp;u=javascript'); return false;\" role=\"button\"><i class=\"spnew ico_save\">문서 저장하기</i></a> <div class=\"api_ly_save _keep_save_layer\"> <a class=\"spnew_af item item_save _keep_save\" data-cr-off=\"a=nws*f.kepoff&amp;r=3&amp;i=8813C2E8_000000000000000001531594&amp;u=javascript\" data-cr-on=\"a=nws*f.kepon&amp;r=3&amp;i=8813C2E8_000000000000000001531594&amp;u=javascript\" href=\"#\" role=\"button\">Keep에 저장</a> <a class=\"spnew_af item item_quick\" href=\"https://keep.naver.com/\" onclick=\"return goOtherCR(this,'a=nws*f.kephome&amp;r=3&amp;i=8813C2E8_000000000000000001531594&amp;u='+urlencode(this.href));\" target=\"_blank\">Keep 바로가기</a> </div></div><div class=\"info_group\"> <a class=\"info press\" href=\"http://www.asiatoday.co.kr\" onclick=\"return goOtherCR(this, 'a=nws*f.prof&amp;r=3&amp;i=8813C2E8_000000000000000001531594&amp;g=5268.0001531594&amp;u='+urlencode(this.href));\" target=\"_blank\"><span class=\"thumb_box\"><img alt=\"\" class=\"thumb\" height=\"20\" onerror=\"this.src='data:image/gif;base64,R0lGODlhAQABAIAAAAAAAP///yH5BAEAAAAALAAAAAABAAEAAAIBRAA7';this.className='thumb bg_default_press'\" src=\"https://search.pstatic.net/common/?src=http%3A%2F%2Fimg.asiatoday.co.kr%2Finc%2Ffavicon.ico&amp;type=f54_54&amp;expire=24&amp;refresh=true\" width=\"20\"/></span>아시아투데이</a><span class=\"info\">2021.09.13.</span> </div></div><a class=\"news_tit\" href=\"https://www.asiatoday.co.kr/view.php?key=20210913010007332\" onclick=\"return goOtherCR(this, 'a=nws*f.tit&amp;r=3&amp;i=8813C2E8_000000000000000001531594&amp;g=5268.0001531594&amp;u='+urlencode(this.href));\" target=\"_blank\" title=\"성동구, 착한 소비로 '공정무역도시' 공식 인증\"><mark>성동구</mark>, 착한 소비로 '<mark>공정무역도시</mark>' <mark>공식 인증</mark></a> <div class=\"news_dsc\"> <div class=\"dsc_wrap\"> <a class=\"api_txt_lines dsc_txt_wrap\" href=\"https://www.asiatoday.co.kr/view.php?key=20210913010007332\" onclick=\"return goOtherCR(this, 'a=nws*f.body&amp;r=3&amp;i=8813C2E8_000000000000000001531594&amp;g=5268.0001531594&amp;u='+urlencode(this.href));\" target=\"_blank\">한국<mark>공정무역</mark>마을위원회 <mark>공정무역도시</mark> <mark>인증</mark>…착한소비 모범실천 인정받아 서울 <mark>성동구</mark>는 지난달 한국<mark>공정무역</mark>마을위원회로부터 <mark>공정무역도시</mark> <mark>인증</mark>을 받아 지난 9일 <mark>성동구</mark>청 청사 외부에서 <mark>공정무역도시</mark> <mark>인증</mark>...</a> </div></div></div><a class=\"dsc_thumb\" href=\"https://www.asiatoday.co.kr/view.php?key=20210913010007332\" onclick=\"return goOtherCR(this, 'a=nws*f.img&amp;r=3&amp;i=8813C2E8_000000000000000001531594&amp;g=5268.0001531594&amp;u='+urlencode(this.href));\" target=\"_blank\"><img alt=\"성동구, 착한 소비로 \" class=\"thumb api_get\" height=\"90\" onerror=\"this.parentNode.style.display='none';\" src=\"https://search.pstatic.net/common/?src=https%3A%2F%2Fimgnews.pstatic.net%2Fimage%2Forigin%2F5268%2F2021%2F09%2F13%2F1531594.jpg&amp;type=ff264_180&amp;expire=2&amp;refresh=true\" width=\"132\"/></a> </div></li> <li class=\"bx\" id=\"sp_nws4\"> <div class=\"news_wrap api_ani_send\"> <div class=\"news_area\"> <div class=\"news_info\"> <div class=\"api_save_group _keep_wrap\"> <a aria-pressed=\"false\" class=\"btn_save _keep_trigger\" data-url=\"https://view.asiae.co.kr/article/2021091308014063602\" href=\"#\" onclick=\"tCR('a=nws*e.kep&amp;r=4&amp;i=88000385_000000000000000004968248&amp;u=javascript'); return false;\" role=\"button\"><i class=\"spnew ico_save\">문서 저장하기</i></a> <div class=\"api_ly_save _keep_save_layer\"> <a class=\"spnew_af item item_save _keep_save\" data-cr-off=\"a=nws*e.kepoff&amp;r=4&amp;i=88000385_000000000000000004968248&amp;u=javascript\" data-cr-on=\"a=nws*e.kepon&amp;r=4&amp;i=88000385_000000000000000004968248&amp;u=javascript\" href=\"#\" role=\"button\">Keep에 저장</a> <a class=\"spnew_af item item_quick\" href=\"https://keep.naver.com/\" onclick=\"return goOtherCR(this,'a=nws*e.kephome&amp;r=4&amp;i=88000385_000000000000000004968248&amp;u='+urlencode(this.href));\" target=\"_blank\">Keep 바로가기</a> </div></div><div class=\"info_group\"> <a class=\"info press\" href=\"https://www.asiae.co.kr/\" onclick=\"return goOtherCR(this, 'a=nws*e.prof&amp;r=4&amp;i=88000385_000000000000000004968248&amp;g=277.0004968248&amp;u='+urlencode(this.href));\" target=\"_blank\"><span class=\"thumb_box\"><img alt=\"\" class=\"thumb\" height=\"20\" onerror=\"this.src='data:image/gif;base64,R0lGODlhAQABAIAAAAAAAP///yH5BAEAAAAALAAAAAABAAEAAAIBRAA7';this.className='thumb bg_default_press'\" src=\"https://search.pstatic.net/common/?src=https%3A%2F%2Fmimgnews.pstatic.net%2Fimage%2Fupload%2Foffice_logo%2F277%2F2020%2F07%2F27%2Flogo_277_18_20200727103757.png&amp;type=f54_54&amp;expire=24&amp;refresh=true\" width=\"20\"/></span>아시아경제</a><span class=\"info\">2021.09.13.</span><a class=\"info\" href=\"https://n.news.naver.com/mnews/article/277/0004968248?sid=102\" onclick=\"return goOtherCR(this, 'a=nws*e.nav&amp;r=4&amp;i=88000385_000000000000000004968248&amp;u='+urlencode(this.href));\" target=\"_blank\">네이버뉴스</a> </div></div><a class=\"news_tit\" href=\"https://view.asiae.co.kr/article/2021091308014063602\" onclick=\"return goOtherCR(this, 'a=nws*e.tit&amp;r=4&amp;i=88000385_000000000000000004968248&amp;g=277.0004968248&amp;u='+urlencode(this.href));\" target=\"_blank\" title=\"금천구 ‘청소년문화의집’ 개관\">금천구 ‘청소년문화의집’ 개관</a> <div class=\"news_dsc\"> <div class=\"dsc_wrap\"> <a class=\"api_txt_lines dsc_txt_wrap\" href=\"https://view.asiae.co.kr/article/2021091308014063602\" onclick=\"return goOtherCR(this, 'a=nws*e.body&amp;r=4&amp;i=88000385_000000000000000004968248&amp;g=277.0004968248&amp;u='+urlencode(this.href));\" target=\"_blank\"><mark>성동구</mark>(구청장 정원오)가 지난달 (사)한국<mark>공정무역</mark>마을위원회로부터 <mark>공정무역도시</mark> <mark>인증</mark>(<mark>인증</mark>기간: ’21.8.17~‘23.8.16)을 받아 이달 9일 <mark>성동구</mark>청 청사 외부에서 <mark>공정무역도시</mark> <mark>인증</mark> 현판식을 개최했다. <mark>공정무역</mark>은...</a> </div></div></div><a class=\"dsc_thumb\" href=\"https://view.asiae.co.kr/article/2021091308014063602\" onclick=\"return goOtherCR(this, 'a=nws*e.img&amp;r=4&amp;i=88000385_000000000000000004968248&amp;g=277.0004968248&amp;u='+urlencode(this.href));\" target=\"_blank\"><img alt=\"금천구 ‘청소년문화의\" class=\"thumb api_get\" height=\"90\" onerror=\"this.parentNode.style.display='none';\" src=\"https://search.pstatic.net/common/?src=https%3A%2F%2Fimgnews.pstatic.net%2Fimage%2Forigin%2F277%2F2021%2F09%2F13%2F4968248.jpg&amp;type=ff264_180&amp;expire=2&amp;refresh=true\" width=\"132\"/></a> </div></li> <li class=\"bx\" id=\"sp_nws5\"> <div class=\"news_wrap api_ani_send\"> <div class=\"news_area\"> <div class=\"news_info\"> <div class=\"api_save_group _keep_wrap\"> <a aria-pressed=\"false\" class=\"btn_save _keep_trigger\" data-url=\"http://www.eroun.net/news/articleView.html?idxno=6171\" href=\"#\" onclick=\"tCR('a=nws*f.kep&amp;r=5&amp;i=88194848_000000000000000000000679&amp;u=javascript'); return false;\" role=\"button\"><i class=\"spnew ico_save\">문서 저장하기</i></a> <div class=\"api_ly_save _keep_save_layer\"> <a class=\"spnew_af item item_save _keep_save\" data-cr-off=\"a=nws*f.kepoff&amp;r=5&amp;i=88194848_000000000000000000000679&amp;u=javascript\" data-cr-on=\"a=nws*f.kepon&amp;r=5&amp;i=88194848_000000000000000000000679&amp;u=javascript\" href=\"#\" role=\"button\">Keep에 저장</a> <a class=\"spnew_af item item_quick\" href=\"https://keep.naver.com/\" onclick=\"return goOtherCR(this,'a=nws*f.kephome&amp;r=5&amp;i=88194848_000000000000000000000679&amp;u='+urlencode(this.href));\" target=\"_blank\">Keep 바로가기</a> </div></div><div class=\"info_group\"> <a class=\"info press\" href=\"http://www.eroun.net\" onclick=\"return goOtherCR(this, 'a=nws*f.prof&amp;r=5&amp;i=88194848_000000000000000000000679&amp;g=5738.0000000679&amp;u='+urlencode(this.href));\" target=\"_blank\"><span class=\"thumb_box\"><img alt=\"\" class=\"thumb\" height=\"20\" onerror=\"this.src='data:image/gif;base64,R0lGODlhAQABAIAAAAAAAP///yH5BAEAAAAALAAAAAABAAEAAAIBRAA7';this.className='thumb bg_default_press'\" src=\"https://search.pstatic.net/common/?src=https%3A%2F%2Fcms.eroun.net%2Fimage%2Flogo%2Ffavicon.ico&amp;type=f54_54&amp;expire=24&amp;refresh=true\" width=\"20\"/></span>이로운넷</a><span class=\"info\">2019.06.25.</span> </div></div><a class=\"news_tit\" href=\"http://www.eroun.net/news/articleView.html?idxno=6171\" onclick=\"return goOtherCR(this, 'a=nws*f.tit&amp;r=5&amp;i=88194848_000000000000000000000679&amp;g=5738.0000000679&amp;u='+urlencode(this.href));\" target=\"_blank\" title=\"휴 잭맨‧엠마 왓슨 동참한 공정무역…사람‧환경 아끼는 '개념소비'\">휴 잭맨‧엠마 왓슨 동참한 <mark>공정무역</mark>…사람‧환경 아끼는 '개념소비'</a> <div class=\"news_dsc\"> <div class=\"dsc_wrap\"> <a class=\"api_txt_lines dsc_txt_wrap\" href=\"http://www.eroun.net/news/articleView.html?idxno=6171\" onclick=\"return goOtherCR(this, 'a=nws*f.body&amp;r=5&amp;i=88194848_000000000000000000000679&amp;g=5738.0000000679&amp;u='+urlencode(this.href));\" target=\"_blank\">큰 <mark>공정무역도시</mark>로 <mark>인증</mark> 받았습니다. 10월에는 경기 화성시도 <mark>공식 인증</mark>을 받았으며, 경기도 역시 여러 단계들을 밟고 있다고 하네요. 이밖에 서울 중구‧<mark>성동구</mark>, 인천 계양구, 전북 전주시, 경남 진주시 등도 동참해...</a> </div></div></div><a class=\"dsc_thumb\" href=\"http://www.eroun.net/news/articleView.html?idxno=6171\" onclick=\"return goOtherCR(this, 'a=nws*f.img&amp;r=5&amp;i=88194848_000000000000000000000679&amp;g=5738.0000000679&amp;u='+urlencode(this.href));\" target=\"_blank\"><img alt=\"휴 잭맨‧엠마 왓슨 동\" class=\"thumb api_get\" height=\"90\" onerror=\"this.parentNode.style.display='none';\" src=\"https://search.pstatic.net/common/?src=https%3A%2F%2Fimgnews.pstatic.net%2Fimage%2Forigin%2F5738%2F2019%2F06%2F25%2F679.jpg&amp;type=ofullfill264_180_gray&amp;expire=2&amp;refresh=true\" width=\"132\"/></a> </div></li> <li class=\"bx\" id=\"sp_nws6\"> <div class=\"news_wrap api_ani_send\"> <div class=\"news_area\"> <div class=\"news_info\"> <div class=\"api_save_group _keep_wrap\"> <a aria-pressed=\"false\" class=\"btn_save _keep_trigger\" data-url=\"http://www.eroun.net/news/articleView.html?idxno=5632\" href=\"#\" onclick=\"tCR('a=nws*f.kep&amp;r=6&amp;i=88194848_000000000000000000000322&amp;u=javascript'); return false;\" role=\"button\"><i class=\"spnew ico_save\">문서 저장하기</i></a> <div class=\"api_ly_save _keep_save_layer\"> <a class=\"spnew_af item item_save _keep_save\" data-cr-off=\"a=nws*f.kepoff&amp;r=6&amp;i=88194848_000000000000000000000322&amp;u=javascript\" data-cr-on=\"a=nws*f.kepon&amp;r=6&amp;i=88194848_000000000000000000000322&amp;u=javascript\" href=\"#\" role=\"button\">Keep에 저장</a> <a class=\"spnew_af item item_quick\" href=\"https://keep.naver.com/\" onclick=\"return goOtherCR(this,'a=nws*f.kephome&amp;r=6&amp;i=88194848_000000000000000000000322&amp;u='+urlencode(this.href));\" target=\"_blank\">Keep 바로가기</a> </div></div><div class=\"info_group\"> <a class=\"info press\" href=\"http://www.eroun.net\" onclick=\"return goOtherCR(this, 'a=nws*f.prof&amp;r=6&amp;i=88194848_000000000000000000000322&amp;g=5738.0000000322&amp;u='+urlencode(this.href));\" target=\"_blank\"><span class=\"thumb_box\"><img alt=\"\" class=\"thumb\" height=\"20\" onerror=\"this.src='data:image/gif;base64,R0lGODlhAQABAIAAAAAAAP///yH5BAEAAAAALAAAAAABAAEAAAIBRAA7';this.className='thumb bg_default_press'\" src=\"https://search.pstatic.net/common/?src=https%3A%2F%2Fcms.eroun.net%2Fimage%2Flogo%2Ffavicon.ico&amp;type=f54_54&amp;expire=24&amp;refresh=true\" width=\"20\"/></span>이로운넷</a><span class=\"info\">2019.05.15.</span> </div></div><a class=\"news_tit\" href=\"http://www.eroun.net/news/articleView.html?idxno=5632\" onclick=\"return goOtherCR(this, 'a=nws*f.tit&amp;r=6&amp;i=88194848_000000000000000000000322&amp;g=5738.0000000322&amp;u='+urlencode(this.href));\" target=\"_blank\" title=\"[이강백의 공정무역 이야기] 9. 마을운동으로 이동하는 공정무역\">[이강백의 <mark>공정무역</mark> 이야기] 9. 마을운동으로 이동하는 <mark>공정무역</mark></a> <div class=\"news_dsc\"> <div class=\"dsc_wrap\"> <a class=\"api_txt_lines dsc_txt_wrap\" href=\"http://www.eroun.net/news/articleView.html?idxno=5632\" onclick=\"return goOtherCR(this, 'a=nws*f.body&amp;r=6&amp;i=88194848_000000000000000000000322&amp;g=5738.0000000322&amp;u='+urlencode(this.href));\" target=\"_blank\">등이 <mark>공식 인증</mark>을 받았으며, 올해 경기도는 민관 협업으로 15개 <mark>도시</mark>에서 <mark>공정무역</mark> 운동 및 인식확산 사업을... 세계 <mark>공정무역</mark>의 날을 기념해 <mark>성동구</mark>, 인천 계양구, 신용보증기금 등이 새롭게 <mark>공정무역</mark>마을로 참여하는 것은...</a> </div></div></div><a class=\"dsc_thumb\" href=\"http://www.eroun.net/news/articleView.html?idxno=5632\" onclick=\"return goOtherCR(this, 'a=nws*f.img&amp;r=6&amp;i=88194848_000000000000000000000322&amp;g=5738.0000000322&amp;u='+urlencode(this.href));\" target=\"_blank\"><img alt=\"[이강백의 공정무역 이\" class=\"thumb api_get\" height=\"90\" onerror=\"this.parentNode.style.display='none';\" src=\"https://search.pstatic.net/common/?src=https%3A%2F%2Fimgnews.pstatic.net%2Fimage%2Forigin%2F5738%2F2019%2F05%2F15%2F322.jpg&amp;type=ofullfill264_180_gray&amp;expire=2&amp;refresh=true\" width=\"132\"/></a> </div></li> <li class=\"bx\" id=\"sp_nws7\"> <div class=\"news_wrap api_ani_send\"> <div class=\"news_area\"> <div class=\"news_info\"> <div class=\"api_save_group _keep_wrap\"> <a aria-pressed=\"false\" class=\"btn_save _keep_trigger\" data-url=\"https://view.asiae.co.kr/article/2021102206571070005\" href=\"#\" onclick=\"tCR('a=nws*e.kep&amp;r=7&amp;i=88000385_000000000000000004987130&amp;u=javascript'); return false;\" role=\"button\"><i class=\"spnew ico_save\">문서 저장하기</i></a> <div class=\"api_ly_save _keep_save_layer\"> <a class=\"spnew_af item item_save _keep_save\" data-cr-off=\"a=nws*e.kepoff&amp;r=7&amp;i=88000385_000000000000000004987130&amp;u=javascript\" data-cr-on=\"a=nws*e.kepon&amp;r=7&amp;i=88000385_000000000000000004987130&amp;u=javascript\" href=\"#\" role=\"button\">Keep에 저장</a> <a class=\"spnew_af item item_quick\" href=\"https://keep.naver.com/\" onclick=\"return goOtherCR(this,'a=nws*e.kephome&amp;r=7&amp;i=88000385_000000000000000004987130&amp;u='+urlencode(this.href));\" target=\"_blank\">Keep 바로가기</a> </div></div><div class=\"info_group\"> <a class=\"info press\" href=\"https://www.asiae.co.kr/\" onclick=\"return goOtherCR(this, 'a=nws*e.prof&amp;r=7&amp;i=88000385_000000000000000004987130&amp;g=277.0004987130&amp;u='+urlencode(this.href));\" target=\"_blank\"><span class=\"thumb_box\"><img alt=\"\" class=\"thumb\" height=\"20\" onerror=\"this.src='data:image/gif;base64,R0lGODlhAQABAIAAAAAAAP///yH5BAEAAAAALAAAAAABAAEAAAIBRAA7';this.className='thumb bg_default_press'\" src=\"https://search.pstatic.net/common/?src=https%3A%2F%2Fmimgnews.pstatic.net%2Fimage%2Fupload%2Foffice_logo%2F277%2F2020%2F07%2F27%2Flogo_277_18_20200727103757.png&amp;type=f54_54&amp;expire=24&amp;refresh=true\" width=\"20\"/></span>아시아경제</a><span class=\"info\">2021.10.22.</span><a class=\"info\" href=\"https://n.news.naver.com/mnews/article/277/0004987130?sid=102\" onclick=\"return goOtherCR(this, 'a=nws*e.nav&amp;r=7&amp;i=88000385_000000000000000004987130&amp;u='+urlencode(this.href));\" target=\"_blank\">네이버뉴스</a> </div></div><a class=\"news_tit\" href=\"https://view.asiae.co.kr/article/2021102206571070005\" onclick=\"return goOtherCR(this, 'a=nws*e.tit&amp;r=7&amp;i=88000385_000000000000000004987130&amp;g=277.0004987130&amp;u='+urlencode(this.href));\" target=\"_blank\" title=\"서대문구 '디지털 부엉이 감시단' 출범...온라인 성범죄 게시물 모니터링\">서대문구 '디지털 부엉이 감시단' 출범...온라인 성범죄 게시물 모니터링</a> <div class=\"news_dsc\"> <div class=\"dsc_wrap\"> <a class=\"api_txt_lines dsc_txt_wrap\" href=\"https://view.asiae.co.kr/article/2021102206571070005\" onclick=\"return goOtherCR(this, 'a=nws*e.body&amp;r=7&amp;i=88000385_000000000000000004987130&amp;g=277.0004987130&amp;u='+urlencode(this.href));\" target=\"_blank\"><mark>성동구</mark>(구청장 정원오)가 이달 22일부터 다음달 12일까지 주민들과 함께 ‘찾아가는 <mark>공정무역</mark>’ 프로그램을... (사)한국<mark>공정무역</mark>마을위원회로부터 <mark>공정무역도시</mark> <mark>인증</mark>을 받았다. <mark>공정무역</mark> 토크 콘서트, <mark>공정</mark>여행, 캠페인을...</a> </div></div></div><a class=\"dsc_thumb\" href=\"https://view.asiae.co.kr/article/2021102206571070005\" onclick=\"return goOtherCR(this, 'a=nws*e.img&amp;r=7&amp;i=88000385_000000000000000004987130&amp;g=277.0004987130&amp;u='+urlencode(this.href));\" target=\"_blank\"><img alt=\"서대문구 ‘디지털 부엉\" class=\"thumb api_get\" height=\"90\" onerror=\"this.parentNode.style.display='none';\" src=\"https://search.pstatic.net/common/?src=https%3A%2F%2Fimgnews.pstatic.net%2Fimage%2Forigin%2F277%2F2021%2F10%2F22%2F4987130.jpg&amp;type=ff264_180&amp;expire=2&amp;refresh=true\" width=\"132\"/></a> </div></li> <li class=\"bx\" id=\"sp_nws8\"> <div class=\"news_wrap api_ani_send\"> <div class=\"news_area\"> <div class=\"news_info\"> <div class=\"api_save_group _keep_wrap\"> <a aria-pressed=\"false\" class=\"btn_save _keep_trigger\" data-url=\"http://news.mt.co.kr/mtview.php?no=2018073109235233146\" href=\"#\" onclick=\"tCR('a=nws*e.kep&amp;r=8&amp;i=880000C2_000000000000000004086977&amp;u=javascript'); return false;\" role=\"button\"><i class=\"spnew ico_save\">문서 저장하기</i></a> <div class=\"api_ly_save _keep_save_layer\"> <a class=\"spnew_af item item_save _keep_save\" data-cr-off=\"a=nws*e.kepoff&amp;r=8&amp;i=880000C2_000000000000000004086977&amp;u=javascript\" data-cr-on=\"a=nws*e.kepon&amp;r=8&amp;i=880000C2_000000000000000004086977&amp;u=javascript\" href=\"#\" role=\"button\">Keep에 저장</a> <a class=\"spnew_af item item_quick\" href=\"https://keep.naver.com/\" onclick=\"return goOtherCR(this,'a=nws*e.kephome&amp;r=8&amp;i=880000C2_000000000000000004086977&amp;u='+urlencode(this.href));\" target=\"_blank\">Keep 바로가기</a> </div></div><div class=\"info_group\"> <a class=\"info press\" href=\"http://www.mt.co.kr/\" onclick=\"return goOtherCR(this, 'a=nws*e.prof&amp;r=8&amp;i=880000C2_000000000000000004086977&amp;g=008.0004086977&amp;u='+urlencode(this.href));\" target=\"_blank\"><span class=\"thumb_box\"><img alt=\"\" class=\"thumb\" height=\"20\" onerror=\"this.src='data:image/gif;base64,R0lGODlhAQABAIAAAAAAAP///yH5BAEAAAAALAAAAAABAAEAAAIBRAA7';this.className='thumb bg_default_press'\" src=\"https://search.pstatic.net/common/?src=https%3A%2F%2Fmimgnews.pstatic.net%2Fimage%2Fupload%2Foffice_logo%2F008%2F2018%2F09%2F13%2Flogo_008_18_20180913140113.png&amp;type=f54_54&amp;expire=24&amp;refresh=true\" width=\"20\"/></span>머니투데이</a><span class=\"info\"><i class=\"spnew ico_paper\"></i>18면 TOP</span><span class=\"info\">2018.08.03.</span><a class=\"info\" href=\"https://n.news.naver.com/mnews/article/008/0004086977?sid=103\" onclick=\"return goOtherCR(this, 'a=nws*e.nav&amp;r=8&amp;i=880000C2_000000000000000004086977&amp;u='+urlencode(this.href));\" target=\"_blank\">네이버뉴스</a> </div></div><a class=\"news_tit\" href=\"http://news.mt.co.kr/mtview.php?no=2018073109235233146\" onclick=\"return goOtherCR(this, 'a=nws*e.tit&amp;r=8&amp;i=880000C2_000000000000000004086977&amp;g=008.0004086977&amp;u='+urlencode(this.href));\" target=\"_blank\" title=\"[쿨머니]#여름휴가_色다른 휴가…#사회적경제 테마로 즐겨보자\">[쿨머니]#여름휴가_色다른 휴가…#사회적경제 테마로 즐겨보자</a> <div class=\"news_dsc\"> <div class=\"dsc_wrap\"> <a class=\"api_txt_lines dsc_txt_wrap\" href=\"http://news.mt.co.kr/mtview.php?no=2018073109235233146\" onclick=\"return goOtherCR(this, 'a=nws*e.body&amp;r=8&amp;i=880000C2_000000000000000004086977&amp;g=008.0004086977&amp;u='+urlencode(this.href));\" target=\"_blank\"><mark>성동구</mark> 새활용플라자에는 다양한 업사이클링 기업들이 입주해있다. /사진=서울새활용플라자 업 사이클링의... <mark>공정무역</mark> 단체 ‘페어트레이드 인터내셔널(Fairtrade International)’이 <mark>인증</mark>한 <mark>공정무역</mark>제품이다. 커피, 초콜릿 등...</a> </div></div></div><a class=\"dsc_thumb\" href=\"http://news.mt.co.kr/mtview.php?no=2018073109235233146\" onclick=\"return goOtherCR(this, 'a=nws*e.img&amp;r=8&amp;i=880000C2_000000000000000004086977&amp;g=008.0004086977&amp;u='+urlencode(this.href));\" target=\"_blank\"><img alt=\"[쿨머니]#여름휴가_色\" class=\"thumb api_get\" height=\"90\" onerror=\"this.parentNode.style.display='none';\" src=\"https://search.pstatic.net/common/?src=https%3A%2F%2Fimgnews.pstatic.net%2Fimage%2Forigin%2F008%2F2018%2F08%2F03%2F4086977.jpg&amp;type=ff264_180&amp;expire=2&amp;refresh=true\" width=\"132\"/></a> </div></li> </ul> </div><div class=\"banner_area\"> <a class=\"banner_nmessage\" href=\"https://help.naver.com/alias/news/news_21.naver\" onclick=\"return goOtherCR(this, 'a=nws.noti&amp;u='+urlencode(this.href));\" target=\"_blank\"> <div class=\"info\">뉴스 기사와 댓글로 인한 문제 발생시 <span class=\"txt\">24시간 센터로 접수해주세요.</span><i class=\"spnew api_ico_help\"></i></div> </a> </div></div>"
      ]
     },
     "execution_count": 87,
     "metadata": {},
     "output_type": "execute_result"
    }
   ],
   "source": [
    "soup.find('div', class_='api_subject_bx')"
   ]
  }
 ],
 "metadata": {
  "kernelspec": {
   "display_name": "Python 3 (ipykernel)",
   "language": "python",
   "name": "python3"
  },
  "language_info": {
   "codemirror_mode": {
    "name": "ipython",
    "version": 3
   },
   "file_extension": ".py",
   "mimetype": "text/x-python",
   "name": "python",
   "nbconvert_exporter": "python",
   "pygments_lexer": "ipython3",
   "version": "3.10.4"
  }
 },
 "nbformat": 4,
 "nbformat_minor": 5
}
