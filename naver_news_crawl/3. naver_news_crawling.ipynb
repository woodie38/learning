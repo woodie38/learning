{
 "cells": [
  {
   "cell_type": "code",
   "execution_count": 1,
   "id": "71fad3b8",
   "metadata": {},
   "outputs": [],
   "source": [
    "import sys    # 시스템\n",
    "import os     # 시스템\n",
    "import pandas as pd    # 판다스 : 데이터분석 라이브러리\n",
    "import numpy as np     # 넘파이 : 숫자, 행렬 데이터 라이브러리\n",
    "from bs4 import BeautifulSoup     # html 데이터 전처리\n",
    "import requests                   # http 요청 라이브러리\n",
    "import time                       # 시간 지연\n",
    "from tqdm import tqdm_notebook    # 진행상황 표시"
   ]
  },
  {
   "cell_type": "code",
   "execution_count": 15,
   "id": "89f33033",
   "metadata": {},
   "outputs": [
    {
     "data": {
      "text/html": [
       "<div>\n",
       "<style scoped>\n",
       "    .dataframe tbody tr th:only-of-type {\n",
       "        vertical-align: middle;\n",
       "    }\n",
       "\n",
       "    .dataframe tbody tr th {\n",
       "        vertical-align: top;\n",
       "    }\n",
       "\n",
       "    .dataframe thead th {\n",
       "        text-align: right;\n",
       "    }\n",
       "</style>\n",
       "<table border=\"1\" class=\"dataframe\">\n",
       "  <thead>\n",
       "    <tr style=\"text-align: right;\">\n",
       "      <th></th>\n",
       "      <th>제목</th>\n",
       "    </tr>\n",
       "  </thead>\n",
       "  <tbody>\n",
       "    <tr>\n",
       "      <th>0</th>\n",
       "      <td>기초연금법 소상공인법 등 법제처, 문재인 정부 입법성과 발표</td>\n",
       "    </tr>\n",
       "    <tr>\n",
       "      <th>1</th>\n",
       "      <td>법제처, 문재인 정부 내 포용적 복지 K-방역 등 입법으로 견인했다</td>\n",
       "    </tr>\n",
       "    <tr>\n",
       "      <th>2</th>\n",
       "      <td>부동산 투기 물의 'LH', 청렴도 최하위</td>\n",
       "    </tr>\n",
       "    <tr>\n",
       "      <th>3</th>\n",
       "      <td>“근로자인 조부모도 손자녀 육아휴직 근거 마련해야”</td>\n",
       "    </tr>\n",
       "    <tr>\n",
       "      <th>4</th>\n",
       "      <td>요소수, 월평균 판매량 10% 초과 보관시 매점매석(종합)</td>\n",
       "    </tr>\n",
       "    <tr>\n",
       "      <th>...</th>\n",
       "      <td>...</td>\n",
       "    </tr>\n",
       "    <tr>\n",
       "      <th>112</th>\n",
       "      <td>[단독] 청, 1조원대 공무원 복지포인트 과세 검토, 헌재 정부는 비과세 고수</td>\n",
       "    </tr>\n",
       "    <tr>\n",
       "      <th>113</th>\n",
       "      <td>프랜차이즈 본부 ‘갑질’ 집중조사</td>\n",
       "    </tr>\n",
       "    <tr>\n",
       "      <th>114</th>\n",
       "      <td>[불붙는 프랜차이즈 개혁]공정위, ‘가맹본부 갑질’ 조사 강화 가맹거래조사팀 신설</td>\n",
       "    </tr>\n",
       "    <tr>\n",
       "      <th>115</th>\n",
       "      <td>통일부 등 12개 부처 '우수' 평가 받아 \"한반도 평화체제 기반 마련\"</td>\n",
       "    </tr>\n",
       "    <tr>\n",
       "      <th>116</th>\n",
       "      <td>'가계소득조사 개편 논란' 통계청, 업무평가 최하점</td>\n",
       "    </tr>\n",
       "  </tbody>\n",
       "</table>\n",
       "<p>117 rows × 1 columns</p>\n",
       "</div>"
      ],
      "text/plain": [
       "                                                제목\n",
       "0                기초연금법 소상공인법 등 법제처, 문재인 정부 입법성과 발표\n",
       "1            법제처, 문재인 정부 내 포용적 복지 K-방역 등 입법으로 견인했다\n",
       "2                          부동산 투기 물의 'LH', 청렴도 최하위\n",
       "3                     “근로자인 조부모도 손자녀 육아휴직 근거 마련해야”\n",
       "4                 요소수, 월평균 판매량 10% 초과 보관시 매점매석(종합)\n",
       "..                                             ...\n",
       "112    [단독] 청, 1조원대 공무원 복지포인트 과세 검토, 헌재 정부는 비과세 고수\n",
       "113                             프랜차이즈 본부 ‘갑질’ 집중조사\n",
       "114  [불붙는 프랜차이즈 개혁]공정위, ‘가맹본부 갑질’ 조사 강화 가맹거래조사팀 신설\n",
       "115       통일부 등 12개 부처 '우수' 평가 받아 \"한반도 평화체제 기반 마련\"\n",
       "116                   '가계소득조사 개편 논란' 통계청, 업무평가 최하점\n",
       "\n",
       "[117 rows x 1 columns]"
      ]
     },
     "execution_count": 15,
     "metadata": {},
     "output_type": "execute_result"
    }
   ],
   "source": [
    "# CSV 파일 불러오기\n",
    "\n",
    "keyword = pd.read_csv('C:/Users/socsoft/Downloads/internship_kwj/socsoft/법제처키워드/(v)불공정_키워드(117).csv', encoding='utf-8')\n",
    "keyword"
   ]
  },
  {
   "cell_type": "code",
   "execution_count": 16,
   "id": "a4a8a679",
   "metadata": {},
   "outputs": [],
   "source": [
    "# 데이터 프레임 열에 이름 없을 경우 이름달아 주기\n",
    "\n",
    "keyword=keyword.rename(columns={'Unnamed: 0':'순번','0':'제목'})"
   ]
  },
  {
   "cell_type": "code",
   "execution_count": 17,
   "id": "e8cbc33b",
   "metadata": {},
   "outputs": [
    {
     "data": {
      "text/plain": [
       "0                  기초연금법 소상공인법 등 법제처, 문재인 정부 입법성과 발표\n",
       "1              법제처, 문재인 정부 내 포용적 복지 K-방역 등 입법으로 견인했다\n",
       "2                            부동산 투기 물의 'LH', 청렴도 최하위\n",
       "3                       “근로자인 조부모도 손자녀 육아휴직 근거 마련해야”\n",
       "4                   요소수, 월평균 판매량 10% 초과 보관시 매점매석(종합)\n",
       "                           ...                      \n",
       "112      [단독] 청, 1조원대 공무원 복지포인트 과세 검토, 헌재 정부는 비과세 고수\n",
       "113                               프랜차이즈 본부 ‘갑질’ 집중조사\n",
       "114    [불붙는 프랜차이즈 개혁]공정위, ‘가맹본부 갑질’ 조사 강화 가맹거래조사팀 신설\n",
       "115         통일부 등 12개 부처 '우수' 평가 받아 \"한반도 평화체제 기반 마련\"\n",
       "116                     '가계소득조사 개편 논란' 통계청, 업무평가 최하점\n",
       "Name: 제목, Length: 117, dtype: object"
      ]
     },
     "execution_count": 17,
     "metadata": {},
     "output_type": "execute_result"
    }
   ],
   "source": [
    "# 데이터 프레임에서 key 값으로 쓸 열을 리스트 형태로 가져오기\n",
    " \n",
    "key = keyword[\"제목\"]\n",
    "\n",
    "key"
   ]
  },
  {
   "cell_type": "code",
   "execution_count": 19,
   "id": "0a5f94d8",
   "metadata": {
    "scrolled": true
   },
   "outputs": [
    {
     "name": "stdout",
     "output_type": "stream",
     "text": [
      "네이버 뉴스 인링크 수집중...\n"
     ]
    },
    {
     "name": "stderr",
     "output_type": "stream",
     "text": [
      "C:\\Users\\socsoft\\AppData\\Local\\Temp\\ipykernel_11628\\1943654342.py:10: TqdmDeprecationWarning: This function will be removed in tqdm==5.0.0\n",
      "Please use `tqdm.notebook.tqdm` instead of `tqdm.tqdm_notebook`\n",
      "  for i in tqdm_notebook(range(0, len(key))):\n"
     ]
    },
    {
     "data": {
      "application/vnd.jupyter.widget-view+json": {
       "model_id": "fbfb391a683a42198b92324e99df3829",
       "version_major": 2,
       "version_minor": 0
      },
      "text/plain": [
       "  0%|          | 0/117 [00:00<?, ?it/s]"
      ]
     },
     "metadata": {},
     "output_type": "display_data"
    },
    {
     "name": "stdout",
     "output_type": "stream",
     "text": [
      "117 개 완료\n",
      "\n",
      "\n",
      "인링크 뉴스데이터 수집중...\n"
     ]
    },
    {
     "name": "stderr",
     "output_type": "stream",
     "text": [
      "C:\\Users\\socsoft\\AppData\\Local\\Temp\\ipykernel_11628\\1943654342.py:35: TqdmDeprecationWarning: This function will be removed in tqdm==5.0.0\n",
      "Please use `tqdm.notebook.tqdm` instead of `tqdm.tqdm_notebook`\n",
      "  for i in tqdm_notebook(range(0, len(key))):\n"
     ]
    },
    {
     "data": {
      "application/vnd.jupyter.widget-view+json": {
       "model_id": "6701e37e8df04c0ebc449210a136550e",
       "version_major": 2,
       "version_minor": 0
      },
      "text/plain": [
       "  0%|          | 0/117 [00:00<?, ?it/s]"
      ]
     },
     "metadata": {},
     "output_type": "display_data"
    },
    {
     "name": "stdout",
     "output_type": "stream",
     "text": [
      "16 법제처 \"文정부 4년간 행정기본법 제정 등 성과\"\n",
      "34 정부·여당발 '플랫폼 규제법' 봇물…\"反신산업법 될 수도\"\n",
      "49 이강섭 법제처장 “정부기관 법령입안 선제적으로 지원”\n",
      "61 〔ANN의 뉴스 포커스〕15개 학·협회 단체가 모여 펼친 국가계약법 개정을 위한 담론의 장\n",
      "79 대리점 단체 구성으로 협상력 제고… 본사 보복시 최대 3배 배상\n",
      "95 양대노총 “공동 행정소송 제기”… ‘특별연장근로 확대 저지’ 나서\n",
      "110 \"취직했으니 대출금리 낮춰주세요\"…'금리인하요구권' 입법예고\n",
      "수집한 글 갯수:  76\n"
     ]
    }
   ],
   "source": [
    "# 결과 저장 코드\n",
    "\n",
    "news_data = {}    # 전체 크롤링 데이터를 담을 그릇\n",
    "\n",
    "# 네이버 인링크 추출\n",
    "inlink_url = []\n",
    "\n",
    "# 사이트 주소\n",
    "print('네이버 뉴스 인링크 수집중...')\n",
    "for i in tqdm_notebook(range(0, len(key))):\n",
    "    try:\n",
    "        url = 'https://search.naver.com/search.naver?where=news&sm=tab_jum&query={}'.format(key[i])\n",
    "        headers = {'user-agent' : 'Mozilla/5.0 (Windows NT 10.0; Win64; x64) AppleWebKit/537.36 (KHTML, like Gecko) Chrome/105.0.0.0 Safari/537.36'}\n",
    "        resp = requests.get(url, headers=headers)\n",
    "        soup = BeautifulSoup(resp.text)\n",
    "        \n",
    "        # 뉴스 전체 정보\n",
    "        n_info = soup.find('a', class_='news_tit')\n",
    "\n",
    "        # 네이버 인링크 정보\n",
    "        onlink_info_1 = n_info['onclick'].split('&')[3]\n",
    "        onlink_info_2 = onlink_info_1.split('=')[1]\n",
    "        onlink_info = onlink_info_2.split('.')\n",
    "\n",
    "        # 네이버 인링크 URL 리스트에 저장\n",
    "        onlink_url = 'https://n.news.naver.com/mnews/article/{}/{}'.format(onlink_info[0], onlink_info[1])\n",
    "        inlink_url.append(onlink_url)\n",
    "    except:\n",
    "        inlink_url.append('키워드: {}'.format(key[i]))        \n",
    "print(len(inlink_url), '개 완료')\n",
    "print('\\n')\n",
    "\n",
    "# 가져온 네이버 인링크 URL로 네이버뉴스 검색\n",
    "print('인링크 뉴스데이터 수집중...')\n",
    "for i in tqdm_notebook(range(0, len(key))):\n",
    "    try:\n",
    "        url = inlink_url[i]\n",
    "        headers = {'user-agent' : 'Mozilla/5.0 (Windows NT 10.0; Win64; x64) AppleWebKit/537.36 (KHTML, like Gecko) Chrome/105.0.0.0 Safari/537.36'}\n",
    "        resp = requests.get(url, headers=headers)       \n",
    "        soup = BeautifulSoup(resp.text)\n",
    "        \n",
    "        target_info = {}  # 개별 뉴스 내용을 담을 딕셔너리 생성\n",
    "        \n",
    "        # 네이버 인링크 뉴스 정보\n",
    "        news_info = soup.find('div', class_='newsct')\n",
    "\n",
    "        # 제목 크롤링\n",
    "        title = news_info.find('h2', 'media_end_head_headline').text\n",
    "\n",
    "        # 글쓴이 크롤링\n",
    "        try:\n",
    "            nickname = news_info.find('em', class_='media_end_head_journalist_name').text\n",
    "        except:\n",
    "            nickname = 'None'\n",
    "        # 날짜 크롤링\n",
    "        datetime = news_info.find('span', class_='media_end_head_info_datestamp_time _ARTICLE_DATE_TIME').text\n",
    "\n",
    "        # 내용 크롤링\n",
    "        contents = news_info.find('div', class_='newsct_article _article_body')\n",
    "        content1 = contents.find(class_='go_trans _article_content')\n",
    "        content = content1.text.replace('\\n','')\n",
    "        \n",
    "        # 언론사 이름 크롤링\n",
    "        company = news_info.find('img')['title']\n",
    "\n",
    "        # 크롤링한 글은 target_info라는 딕셔너리에 담음\n",
    "        target_info['제목'] = title\n",
    "        target_info['기자명'] = nickname\n",
    "        target_info['작성일'] = datetime\n",
    "        target_info['본문'] = content\n",
    "        target_info['언론사'] = company\n",
    "        target_info['url'] = inlink_url[i]\n",
    "        \n",
    "        # 각각의 글은 dict라는 딕셔너리에 담음\n",
    "        news_data[i] = target_info\n",
    "        \n",
    "    # 에러날 경우 예외 처리\n",
    "    except:\n",
    "        #!time.sleep(0.5)\n",
    "        continue\n",
    "        \n",
    "    if len(news_data) % 10 == 0:\n",
    "        print(i, title)\n",
    "        \n",
    "print('수집한 글 갯수: ', len(news_data))\n",
    "\n",
    "# 크롤링 결과 데이터 프레임으로 만들기\n",
    "result_df = pd.DataFrame.from_dict(news_data, 'index')\n",
    "\n",
    "# 데이터 프레임을 엑셀로 저장\n",
    "result_df.to_excel(\"naver_news_content.xlsx\", encoding='utf-8-sig')"
   ]
  },
  {
   "cell_type": "code",
   "execution_count": null,
   "id": "da77bfd6",
   "metadata": {},
   "outputs": [],
   "source": [
    "5290.0000151925&u='+urlencode(this.href));\""
   ]
  },
  {
   "cell_type": "code",
   "execution_count": null,
   "id": "3e8390b7",
   "metadata": {},
   "outputs": [],
   "source": [
    "032.0003097881&u='+urlencode(this.href));\""
   ]
  },
  {
   "cell_type": "code",
   "execution_count": null,
   "id": "79c5ff68",
   "metadata": {},
   "outputs": [],
   "source": []
  },
  {
   "cell_type": "code",
   "execution_count": 29,
   "id": "d23e573c",
   "metadata": {},
   "outputs": [
    {
     "data": {
      "text/plain": [
       "0             기초연금법 소상공인법 등 법제처, 문재인 정부 입법성과 발표\n",
       "1         법제처, 문재인 정부 내 포용적 복지 K-방역 등 입법으로 견인했다\n",
       "2                       부동산 투기 물의 'LH', 청렴도 최하위\n",
       "3                  “근로자인 조부모도 손자녀 육아휴직 근거 마련해야”\n",
       "4              요소수, 월평균 판매량 10% 초과 보관시 매점매석(종합)\n",
       "5         \"연말까지 요소수 매점매석 금지\" 어기면 '최대 3년' 징역 때린다\n",
       "6                        ‘재난지원금 역풍’ 수습 나선 경북교육청\n",
       "7                            성동구 ‘공정무역도시’ 공식 인증\n",
       "8    \"작전 막자\" 전환가액 '상향 리픽싱' 도입 앞두고 CB 발행 1.8조 급증\n",
       "9               중기부, 중소기업 권리구제 나선다 \"기술유출 수사 강화\"\n",
       "Name: 제목, dtype: object"
      ]
     },
     "execution_count": 29,
     "metadata": {},
     "output_type": "execute_result"
    }
   ],
   "source": [
    "key[0:10]"
   ]
  }
 ],
 "metadata": {
  "kernelspec": {
   "display_name": "Python 3 (ipykernel)",
   "language": "python",
   "name": "python3"
  },
  "language_info": {
   "codemirror_mode": {
    "name": "ipython",
    "version": 3
   },
   "file_extension": ".py",
   "mimetype": "text/x-python",
   "name": "python",
   "nbconvert_exporter": "python",
   "pygments_lexer": "ipython3",
   "version": "3.10.4"
  }
 },
 "nbformat": 4,
 "nbformat_minor": 5
}
