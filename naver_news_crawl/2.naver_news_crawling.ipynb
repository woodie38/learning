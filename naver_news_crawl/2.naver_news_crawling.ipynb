{
 "cells": [
  {
   "cell_type": "code",
   "execution_count": 1,
   "id": "9e208fe9",
   "metadata": {},
   "outputs": [],
   "source": [
    "import sys    # 시스템\n",
    "import os     # 시스템\n",
    "\n",
    "import pandas as pd    # 판다스 : 데이터분석 라이브러리\n",
    "import numpy as np     # 넘파이 : 숫자, 행렬 데이터 라이브러리\n",
    "\n",
    "from bs4 import BeautifulSoup     # html 데이터 전처리\n",
    "import requests\n",
    "#from selenium import webdriver    # 웹 브라우저 자동화\n",
    "import time                       # 시간 지연\n",
    "from tqdm import tqdm_notebook    # 진행상황 표시\n",
    "#from selenium.webdriver.common.by import By"
   ]
  },
  {
   "cell_type": "code",
   "execution_count": 2,
   "id": "94a91650",
   "metadata": {},
   "outputs": [
    {
     "data": {
      "text/html": [
       "<div>\n",
       "<style scoped>\n",
       "    .dataframe tbody tr th:only-of-type {\n",
       "        vertical-align: middle;\n",
       "    }\n",
       "\n",
       "    .dataframe tbody tr th {\n",
       "        vertical-align: top;\n",
       "    }\n",
       "\n",
       "    .dataframe thead th {\n",
       "        text-align: right;\n",
       "    }\n",
       "</style>\n",
       "<table border=\"1\" class=\"dataframe\">\n",
       "  <thead>\n",
       "    <tr style=\"text-align: right;\">\n",
       "      <th></th>\n",
       "      <th>제목</th>\n",
       "    </tr>\n",
       "  </thead>\n",
       "  <tbody>\n",
       "    <tr>\n",
       "      <th>0</th>\n",
       "      <td>“근로자인 조부모도 손자녀 육아휴직 근거 마련해야”</td>\n",
       "    </tr>\n",
       "    <tr>\n",
       "      <th>1</th>\n",
       "      <td>노무사 등 손해보험 가입의무 위반기간 따라 과태료 부과</td>\n",
       "    </tr>\n",
       "    <tr>\n",
       "      <th>2</th>\n",
       "      <td>‘한의사도 보건소장 우선임용’ 법안 발의 한의협 “조속한 개정 필요”</td>\n",
       "    </tr>\n",
       "    <tr>\n",
       "      <th>3</th>\n",
       "      <td>인앱결제 강제 매출액 2% 과징금 구글 애플 `꼼수` 제동</td>\n",
       "    </tr>\n",
       "    <tr>\n",
       "      <th>4</th>\n",
       "      <td>인앱결제 강제 때 매출액 2% 과징금 부과 방통위 시행령 마련</td>\n",
       "    </tr>\n",
       "    <tr>\n",
       "      <th>...</th>\n",
       "      <td>...</td>\n",
       "    </tr>\n",
       "    <tr>\n",
       "      <th>103</th>\n",
       "      <td>법제처, 지자체 교육청 규칙 중 불합리한 규정 고친다</td>\n",
       "    </tr>\n",
       "    <tr>\n",
       "      <th>104</th>\n",
       "      <td>미추홀구 노력으로 기초지자체 자율권 보장</td>\n",
       "    </tr>\n",
       "    <tr>\n",
       "      <th>105</th>\n",
       "      <td>'특허' 일감몰아주기 과세 축소 '없던 일'로(종합)</td>\n",
       "    </tr>\n",
       "    <tr>\n",
       "      <th>106</th>\n",
       "      <td>법제처, 보호소년 수용자 등 기본 인권 확대 행정규칙 7건 정비</td>\n",
       "    </tr>\n",
       "    <tr>\n",
       "      <th>107</th>\n",
       "      <td>특허 거래, 일감몰아주기 과세 제외 '없던 일'로</td>\n",
       "    </tr>\n",
       "  </tbody>\n",
       "</table>\n",
       "<p>108 rows × 1 columns</p>\n",
       "</div>"
      ],
      "text/plain": [
       "                                         제목\n",
       "0              “근로자인 조부모도 손자녀 육아휴직 근거 마련해야”\n",
       "1            노무사 등 손해보험 가입의무 위반기간 따라 과태료 부과\n",
       "2    ‘한의사도 보건소장 우선임용’ 법안 발의 한의협 “조속한 개정 필요”\n",
       "3          인앱결제 강제 매출액 2% 과징금 구글 애플 `꼼수` 제동\n",
       "4        인앱결제 강제 때 매출액 2% 과징금 부과 방통위 시행령 마련\n",
       "..                                      ...\n",
       "103           법제처, 지자체 교육청 규칙 중 불합리한 규정 고친다\n",
       "104                  미추홀구 노력으로 기초지자체 자율권 보장\n",
       "105           '특허' 일감몰아주기 과세 축소 '없던 일'로(종합)\n",
       "106     법제처, 보호소년 수용자 등 기본 인권 확대 행정규칙 7건 정비\n",
       "107             특허 거래, 일감몰아주기 과세 제외 '없던 일'로\n",
       "\n",
       "[108 rows x 1 columns]"
      ]
     },
     "execution_count": 2,
     "metadata": {},
     "output_type": "execute_result"
    }
   ],
   "source": [
    "# CSV 파일 불러오기\n",
    "\n",
    "keyword = pd.read_csv('C:/Users/socsoft/Downloads/internship_kwj/socsoft/법제처키워드/(v)불합리 규정(108)_키워드.csv', encoding='utf-8')\n",
    "keyword"
   ]
  },
  {
   "cell_type": "code",
   "execution_count": 3,
   "id": "10ab8321",
   "metadata": {},
   "outputs": [],
   "source": [
    "# 데이터 프레임 열에 이름 없을 경우 이름달아 주기\n",
    "\n",
    "keyword=keyword.rename(columns={'Unnamed: 0':'순번','0':'제목'})"
   ]
  },
  {
   "cell_type": "code",
   "execution_count": 4,
   "id": "855b0bd3",
   "metadata": {},
   "outputs": [
    {
     "data": {
      "text/plain": [
       "0                “근로자인 조부모도 손자녀 육아휴직 근거 마련해야”\n",
       "1              노무사 등 손해보험 가입의무 위반기간 따라 과태료 부과\n",
       "2      ‘한의사도 보건소장 우선임용’ 법안 발의 한의협 “조속한 개정 필요”\n",
       "3            인앱결제 강제 매출액 2% 과징금 구글 애플 `꼼수` 제동\n",
       "4          인앱결제 강제 때 매출액 2% 과징금 부과 방통위 시행령 마련\n",
       "                        ...                  \n",
       "103             법제처, 지자체 교육청 규칙 중 불합리한 규정 고친다\n",
       "104                    미추홀구 노력으로 기초지자체 자율권 보장\n",
       "105             '특허' 일감몰아주기 과세 축소 '없던 일'로(종합)\n",
       "106       법제처, 보호소년 수용자 등 기본 인권 확대 행정규칙 7건 정비\n",
       "107               특허 거래, 일감몰아주기 과세 제외 '없던 일'로\n",
       "Name: 제목, Length: 108, dtype: object"
      ]
     },
     "execution_count": 4,
     "metadata": {},
     "output_type": "execute_result"
    }
   ],
   "source": [
    "# 데이터 프레임에서 key 값으로 쓸 열을 리스트 형태로 가져오기\n",
    " \n",
    "key = keyword[\"제목\"]\n",
    "\n",
    "key"
   ]
  },
  {
   "cell_type": "code",
   "execution_count": 5,
   "id": "45e29f53",
   "metadata": {},
   "outputs": [
    {
     "ename": "NameError",
     "evalue": "name 'inlink_url' is not defined",
     "output_type": "error",
     "traceback": [
      "\u001b[1;31m---------------------------------------------------------------------------\u001b[0m",
      "\u001b[1;31mNameError\u001b[0m                                 Traceback (most recent call last)",
      "Input \u001b[1;32mIn [5]\u001b[0m, in \u001b[0;36m<cell line: 1>\u001b[1;34m()\u001b[0m\n\u001b[1;32m----> 1\u001b[0m \u001b[38;5;28mprint\u001b[39m(\u001b[38;5;28mlen\u001b[39m(key), \u001b[38;5;28mlen\u001b[39m(\u001b[43minlink_url\u001b[49m))\n",
      "\u001b[1;31mNameError\u001b[0m: name 'inlink_url' is not defined"
     ]
    }
   ],
   "source": [
    "print(len(key), len(inlink_url))"
   ]
  },
  {
   "cell_type": "code",
   "execution_count": 13,
   "id": "57a55a3d",
   "metadata": {
    "collapsed": true
   },
   "outputs": [
    {
     "data": {
      "text/plain": [
       "['https://n.news.naver.com/mnews/article/082/0001129210',\n",
       " 'https://n.news.naver.com/mnews/article/277/0005003919',\n",
       " 'https://n.news.naver.com/mnews/article/025/0003151633',\n",
       " 'https://n.news.naver.com/mnews/article/029/0002706672',\n",
       " 'https://n.news.naver.com/mnews/article/028/0002568222',\n",
       " 'https://n.news.naver.com/mnews/article/008/0004671637',\n",
       " 'https://n.news.naver.com/mnews/article/277/0005001001',\n",
       " 'https://n.news.naver.com/mnews/article/008/0004671616',\n",
       " 'https://n.news.naver.com/mnews/article/082/0001125194',\n",
       " 'https://n.news.naver.com/mnews/article/469/0000696491',\n",
       " 'https://n.news.naver.com/mnews/article/277/0004972285',\n",
       " 'https://n.news.naver.com/mnews/article/5312/0000195547',\n",
       " 'https://n.news.naver.com/mnews/article/008/0004639917',\n",
       " 'https://n.news.naver.com/mnews/article/021/0002481085',\n",
       " 'https://n.news.naver.com/mnews/article/081/0003187663',\n",
       " 'https://n.news.naver.com/mnews/article/082/0001090359',\n",
       " 'https://n.news.naver.com/mnews/article/277/0004901541',\n",
       " '키워드: [아주초대석] 이강섭 법제처장 \"행정기본법 제정 행정심판 기능 회복으로 국민 권익 향상\"',\n",
       " 'https://n.news.naver.com/mnews/article/5090/0002009062',\n",
       " 'https://n.news.naver.com/mnews/article/015/0004524378',\n",
       " 'https://n.news.naver.com/mnews/article/052/0001568883',\n",
       " '키워드: “데이터 AI 기본법 필요하다” 지능정보사회원, 법제처에 건의',\n",
       " 'https://n.news.naver.com/mnews/article/5251/0000018015',\n",
       " 'https://n.news.naver.com/mnews/article/021/0002461915',\n",
       " 'https://n.news.naver.com/mnews/article/015/0004497736',\n",
       " 'https://n.news.naver.com/mnews/article/014/0004580388',\n",
       " 'https://n.news.naver.com/mnews/article/082/0001065563',\n",
       " 'https://n.news.naver.com/mnews/article/277/0004842849',\n",
       " 'https://n.news.naver.com/mnews/article/016/0001774428',\n",
       " 'https://n.news.naver.com/mnews/article/277/0004822668',\n",
       " 'https://n.news.naver.com/mnews/article/082/0001055757',\n",
       " 'https://n.news.naver.com/mnews/article/022/0003537219',\n",
       " 'https://n.news.naver.com/mnews/article/009/0004694156',\n",
       " 'https://n.news.naver.com/mnews/article/5090/0001945107',\n",
       " 'https://n.news.naver.com/mnews/article/5298/0000137075',\n",
       " 'https://n.news.naver.com/mnews/article/016/0001743745',\n",
       " '키워드: 여성계 “낙태죄 전면 폐지” vs 종교계“생명권 박탈 안돼”',\n",
       " 'https://n.news.naver.com/mnews/article/028/0002514578',\n",
       " 'https://n.news.naver.com/mnews/article/001/0011888011',\n",
       " 'https://n.news.naver.com/mnews/article/5090/0001927874',\n",
       " 'https://n.news.naver.com/mnews/article/082/0001027355',\n",
       " 'https://n.news.naver.com/mnews/article/030/0002901954',\n",
       " 'https://n.news.naver.com/mnews/article/003/0010064133',\n",
       " 'https://n.news.naver.com/mnews/article/032/0003031209',\n",
       " 'https://n.news.naver.com/mnews/article/277/0004751374',\n",
       " 'https://n.news.naver.com/mnews/article/022/0003500331',\n",
       " 'https://n.news.naver.com/mnews/article/277/0004749344',\n",
       " 'https://n.news.naver.com/mnews/article/028/0002510470',\n",
       " 'https://n.news.naver.com/mnews/article/081/0003117325',\n",
       " 'https://n.news.naver.com/mnews/article/014/0004480413',\n",
       " 'https://n.news.naver.com/mnews/article/5276/0000287030',\n",
       " 'https://n.news.naver.com/mnews/article/022/0003495438',\n",
       " 'https://n.news.naver.com/mnews/article/030/0002898906',\n",
       " 'https://n.news.naver.com/mnews/article/011/0003785680',\n",
       " 'https://n.news.naver.com/mnews/article/5312/0000167761',\n",
       " 'https://n.news.naver.com/mnews/article/011/0003784317',\n",
       " 'https://n.news.naver.com/mnews/article/011/0003784317',\n",
       " 'https://n.news.naver.com/mnews/article/014/0004475502',\n",
       " 'https://n.news.naver.com/mnews/article/011/0003781575',\n",
       " 'https://n.news.naver.com/mnews/article/016/0001710871',\n",
       " 'https://n.news.naver.com/mnews/article/5276/0000283905',\n",
       " 'https://n.news.naver.com/mnews/article/009/0004623997',\n",
       " 'https://n.news.naver.com/mnews/article/277/0004726308',\n",
       " 'https://n.news.naver.com/mnews/article/015/0004388384',\n",
       " 'https://n.news.naver.com/mnews/article/5165/0000494282',\n",
       " 'https://n.news.naver.com/mnews/article/5385/0000409740',\n",
       " 'https://n.news.naver.com/mnews/article/5165/0000494079',\n",
       " 'https://n.news.naver.com/mnews/article/005/0001335555',\n",
       " 'https://n.news.naver.com/mnews/article/469/0000509583',\n",
       " 'https://n.news.naver.com/mnews/article/022/0003478445',\n",
       " 'https://n.news.naver.com/mnews/article/5090/0001900617',\n",
       " 'https://n.news.naver.com/mnews/article/081/0003102106',\n",
       " 'https://n.news.naver.com/mnews/article/5090/0002164970',\n",
       " 'https://n.news.naver.com/mnews/article/008/0004413480',\n",
       " 'https://n.news.naver.com/mnews/article/008/0004413048',\n",
       " 'https://n.news.naver.com/mnews/article/5281/0000387807',\n",
       " 'https://n.news.naver.com/mnews/article/5122/0000835005',\n",
       " 'https://n.news.naver.com/mnews/article/022/0003454701',\n",
       " 'https://n.news.naver.com/mnews/article/277/0004654971',\n",
       " 'https://n.news.naver.com/mnews/article/5090/0001859759',\n",
       " 'https://n.news.naver.com/mnews/article/5090/0001843666',\n",
       " 'https://n.news.naver.com/mnews/article/277/0004615420',\n",
       " 'https://n.news.naver.com/mnews/article/016/0001624637',\n",
       " 'https://n.news.naver.com/mnews/article/082/0000963098',\n",
       " 'https://n.news.naver.com/mnews/article/008/0004316314',\n",
       " 'https://n.news.naver.com/mnews/article/081/0003041450',\n",
       " '키워드: 충북도 \"못줘\"-교육청 \"달라\" 학교 용지 매입비 두고 \\'마찰\\'',\n",
       " '키워드: 파산자 재기 막는 ‘이중제재’ 해소 앞장',\n",
       " 'https://n.news.naver.com/mnews/article/5312/0000145324',\n",
       " 'https://n.news.naver.com/mnews/article/469/0000428302',\n",
       " 'https://n.news.naver.com/mnews/article/5160/0000431051',\n",
       " 'https://n.news.naver.com/mnews/article/5232/0000122815',\n",
       " 'https://n.news.naver.com/mnews/article/5090/0001773228',\n",
       " 'https://n.news.naver.com/mnews/article/5283/0000253878',\n",
       " 'https://n.news.naver.com/mnews/article/5161/0000202455',\n",
       " 'https://n.news.naver.com/mnews/article/5673/0000017600',\n",
       " 'https://n.news.naver.com/mnews/article/021/0002397813',\n",
       " 'https://n.news.naver.com/mnews/article/022/0003379155',\n",
       " 'https://n.news.naver.com/mnews/article/011/0003583179',\n",
       " 'https://n.news.naver.com/mnews/article/5374/0000273294',\n",
       " 'https://n.news.naver.com/mnews/article/5259/0000211163',\n",
       " 'https://n.news.naver.com/mnews/article/277/0004481987',\n",
       " 'https://n.news.naver.com/mnews/article/081/0002989455',\n",
       " 'https://n.news.naver.com/mnews/article/082/0000880257',\n",
       " 'https://n.news.naver.com/mnews/article/5122/0000721622',\n",
       " 'https://n.news.naver.com/mnews/article/008/0004170796',\n",
       " 'https://n.news.naver.com/mnews/article/082/0000876821',\n",
       " 'https://n.news.naver.com/mnews/article/008/0004170516']"
      ]
     },
     "execution_count": 13,
     "metadata": {},
     "output_type": "execute_result"
    }
   ],
   "source": [
    "inlink_url"
   ]
  },
  {
   "cell_type": "code",
   "execution_count": 6,
   "id": "1245b95d",
   "metadata": {
    "scrolled": true
   },
   "outputs": [
    {
     "name": "stderr",
     "output_type": "stream",
     "text": [
      "C:\\Users\\socsoft\\AppData\\Local\\Temp\\ipykernel_22704\\3230889363.py:31: TqdmDeprecationWarning: This function will be removed in tqdm==5.0.0\n",
      "Please use `tqdm.notebook.tqdm` instead of `tqdm.tqdm_notebook`\n",
      "  for _ in tqdm_notebook(range(0, len(key))):\n"
     ]
    },
    {
     "data": {
      "application/vnd.jupyter.widget-view+json": {
       "model_id": "bf1608cdc302410eb62282eb0ed96944",
       "version_major": 2,
       "version_minor": 0
      },
      "text/plain": [
       "  0%|          | 0/108 [00:00<?, ?it/s]"
      ]
     },
     "metadata": {},
     "output_type": "display_data"
    },
    {
     "name": "stdout",
     "output_type": "stream",
     "text": [
      "수집한 글 갯수:  11\n"
     ]
    }
   ],
   "source": [
    "# 결과 저장 코드\n",
    "\n",
    "dict = {}    # 전체 크롤링 데이터를 담을 그릇\n",
    "\n",
    "# 네이버 인링크 추출\n",
    "inlink_url = []\n",
    "\n",
    "# 사이트 주소\n",
    "for j in key:\n",
    "    try:\n",
    "        url = 'https://search.naver.com/search.naver?where=news&sm=tab_jum&query={}'.format(j)\n",
    "        headers = {'user-agent' : 'Mozilla/5.0 (Windows NT 10.0; Win64; x64) AppleWebKit/537.36 (KHTML, like Gecko) Chrome/105.0.0.0 Safari/537.36'}\n",
    "        resp = requests.get(url, headers=headers)\n",
    "        soup = BeautifulSoup(resp.text)\n",
    "\n",
    "        # 네이버 뉴스 검색 후 제목 가져오기\n",
    "        n_info = soup.find('a', class_='news_tit')\n",
    "\n",
    "        # 네이버 인링크 정보\n",
    "        onlink_info_1 = n_info['onclick'].split('&')[3]\n",
    "        onlink_info_2 = onlink_info_1.split('=')[1]\n",
    "        onlink_info = onlink_info_2.split('.')\n",
    "\n",
    "        # 네이버 인링크 URL 리스트에 저장\n",
    "        onlink_url = 'https://n.news.naver.com/mnews/article/{}/{}'.format(onlink_info[0], onlink_info[1])\n",
    "        inlink_url.append(onlink_url)\n",
    "    except:\n",
    "        inlink_url.append('키워드: {}'.format(j))\n",
    "\n",
    "# 가져온 네이버 인링크 URL로 네이버뉴스 검색            \n",
    "for i in tqdm_notebook(range(0, len(key))):\n",
    "    try:\n",
    "        url2 = inlink_url[i]\n",
    "\n",
    "        headers = {'user-agent' : 'Mozilla/5.0 (Windows NT 10.0; Win64; x64) AppleWebKit/537.36 (KHTML, like Gecko) Chrome/105.0.0.0 Safari/537.36'}\n",
    "        resp = requests.get(url2, headers=headers)\n",
    "        #time.sleep(1)\n",
    "        #print(resp)\n",
    "        soup = BeautifulSoup(resp.text)\n",
    "        time.sleep(0.5)\n",
    "        target_info = {}  # 개별 뉴스 내용을 담을 딕셔너리 생성\n",
    "\n",
    "        # 네이버 인링크 뉴스 정보\n",
    "        news_info = soup.find('div', class_='newsct')\n",
    "\n",
    "        # 제목 크롤링\n",
    "        title = news_info.find('h2', 'media_end_head_headline').text\n",
    "\n",
    "        # 글쓴이 크롤링\n",
    "        try:\n",
    "            nickname = news_info.find('em', class_='media_end_head_journalist_name').text\n",
    "        except:\n",
    "            nickname = 'None'\n",
    "        # 날짜 크롤링\n",
    "        datetime = news_info.find('span', class_='media_end_head_info_datestamp_time _ARTICLE_DATE_TIME').text\n",
    "\n",
    "        # 내용 크롤링\n",
    "        contents = news_info.find('div', class_='newsct_article _article_body')\n",
    "        content1 = contents.find(class_='go_trans _article_content')\n",
    "        content = content1.text.replace('\\n','')\n",
    "\n",
    "        # 언론사 이름 크롤링\n",
    "        company = news_info.find('img')['title']\n",
    "\n",
    "        # 크롤링한 글은 target_info라는 딕셔너리에 담음\n",
    "        target_info['제목'] = title\n",
    "        target_info['기자명'] = nickname\n",
    "        target_info['작성일'] = datetime\n",
    "        target_info['본문'] = content\n",
    "        target_info['언론사'] = company\n",
    "        target_info['url'] = inlink_url[x] \n",
    "\n",
    "        # 각각의 글은 dict라는 딕셔너리에 담음\n",
    "        dict[x] = target_info\n",
    "        time.sleep(0.5)\n",
    "    # 에러날 경우 예외 처리\n",
    "    except:\n",
    "        time.sleep(0.5)\n",
    "        continue\n",
    "\n",
    "print('수집한 글 갯수: ', len(dict))\n",
    "\n",
    "# 크롤링 결과 데이터 프레임으로 만들기\n",
    "result_df = pd.DataFrame.from_dict(dict, 'index')\n",
    "\n",
    "# 데이터 프레임을 엑셀로 저장\n",
    "result_df.to_excel(\"naver_news_content.xlsx\", encoding='utf-8-sig')"
   ]
  },
  {
   "cell_type": "code",
   "execution_count": 14,
   "id": "93c57e42",
   "metadata": {},
   "outputs": [
    {
     "name": "stderr",
     "output_type": "stream",
     "text": [
      "C:\\Users\\socsoft\\AppData\\Local\\Temp\\ipykernel_7264\\1990896523.py:2: TqdmDeprecationWarning: This function will be removed in tqdm==5.0.0\n",
      "Please use `tqdm.notebook.tqdm` instead of `tqdm.tqdm_notebook`\n",
      "  for _ in tqdm_notebook(range(0, len(key[:20]))):\n"
     ]
    },
    {
     "data": {
      "application/vnd.jupyter.widget-view+json": {
       "model_id": "d2beaade067f4dd3a80155ede7d82e87",
       "version_major": 2,
       "version_minor": 0
      },
      "text/plain": [
       "  0%|          | 0/20 [00:00<?, ?it/s]"
      ]
     },
     "metadata": {},
     "output_type": "display_data"
    },
    {
     "name": "stdout",
     "output_type": "stream",
     "text": [
      "수집한 글 갯수:  11\n"
     ]
    }
   ],
   "source": [
    "# 가져온 네이버 인링크 URL로 네이버뉴스 검색            \n",
    "for _ in tqdm_notebook(range(0, len(key[:20]))):\n",
    "    try:\n",
    "        for x in range(0, len(inlink_url[:20])):\n",
    "            url2 = inlink_url[x]\n",
    "\n",
    "            headers = {'user-agent' : 'Mozilla/5.0 (Windows NT 10.0; Win64; x64) AppleWebKit/537.36 (KHTML, like Gecko) Chrome/105.0.0.0 Safari/537.36'}\n",
    "            resp = requests.get(url2, headers=headers)\n",
    "            #time.sleep(1)\n",
    "            #print(resp)\n",
    "            soup = BeautifulSoup(resp.text)\n",
    "            \n",
    "            target_info = {}  # 개별 뉴스 내용을 담을 딕셔너리 생성\n",
    "            \n",
    "            # 네이버 인링크 뉴스 정보\n",
    "            news_info = soup.find('div', class_='newsct')\n",
    "\n",
    "            # 제목 크롤링\n",
    "            title = news_info.find('h2', 'media_end_head_headline').text\n",
    "\n",
    "            # 글쓴이 크롤링\n",
    "            try:\n",
    "                nickname = news_info.find('em', class_='media_end_head_journalist_name').text\n",
    "            except:\n",
    "                nickname = 'None'\n",
    "            # 날짜 크롤링\n",
    "            datetime = news_info.find('span', class_='media_end_head_info_datestamp_time _ARTICLE_DATE_TIME').text\n",
    "\n",
    "            # 내용 크롤링\n",
    "            contents = news_info.find('div', class_='newsct_article _article_body')\n",
    "            content1 = contents.find(class_='go_trans _article_content')\n",
    "            content = content1.text.replace('\\n','')\n",
    "\n",
    "            # 언론사 이름 크롤링\n",
    "            company = news_info.find('img')['title']\n",
    "\n",
    "            # 크롤링한 글은 target_info라는 딕셔너리에 담음\n",
    "            target_info['제목'] = title\n",
    "            target_info['기자명'] = nickname\n",
    "            target_info['작성일'] = datetime\n",
    "            target_info['본문'] = content\n",
    "            target_info['언론사'] = company\n",
    "            target_info['url'] = inlink_url[x] \n",
    "\n",
    "            # 각각의 글은 dict라는 딕셔너리에 담음\n",
    "            dict[x] = target_info\n",
    "\n",
    "    # 에러날 경우 예외 처리\n",
    "    except:\n",
    "        continue\n",
    "\n",
    "print('수집한 글 갯수: ', len(dict))\n",
    "\n",
    "# 크롤링 결과 데이터 프레임으로 만들기\n",
    "result_df = pd.DataFrame.from_dict(dict, 'index')\n",
    "\n",
    "# 데이터 프레임을 엑셀로 저장\n",
    "result_df.to_excel(\"naver_news_content.xlsx\", encoding='utf-8-sig')"
   ]
  },
  {
   "cell_type": "markdown",
   "id": "7739e94d",
   "metadata": {},
   "source": [
    "- 키워드 108개 : 10개 수집 (time.slepp(0.5), 28분소요)\n",
    "- 키워드 20개 : 11개 수집\n",
    "\n",
    "수정 필요.."
   ]
  },
  {
   "cell_type": "code",
   "execution_count": 5,
   "id": "547c3fcf",
   "metadata": {},
   "outputs": [],
   "source": [
    "dict = {}    # 전체 크롤링 데이터를 담을 그릇\n",
    "\n"
   ]
  },
  {
   "cell_type": "code",
   "execution_count": 23,
   "id": "5a0b95c5",
   "metadata": {
    "scrolled": true
   },
   "outputs": [
    {
     "name": "stderr",
     "output_type": "stream",
     "text": [
      "C:\\Users\\socsoft\\AppData\\Local\\Temp\\ipykernel_5460\\4050581883.py:5: TqdmDeprecationWarning: This function will be removed in tqdm==5.0.0\n",
      "Please use `tqdm.notebook.tqdm` instead of `tqdm.tqdm_notebook`\n",
      "  for i in tqdm_notebook(range(0, len(key[:12]))):\n"
     ]
    },
    {
     "data": {
      "application/vnd.jupyter.widget-view+json": {
       "model_id": "bcffcd68605941528eaa113eced488da",
       "version_major": 2,
       "version_minor": 0
      },
      "text/plain": [
       "  0%|          | 0/12 [00:00<?, ?it/s]"
      ]
     },
     "metadata": {},
     "output_type": "display_data"
    },
    {
     "name": "stdout",
     "output_type": "stream",
     "text": [
      "10개 완료\n",
      "12 개 수집완료\n"
     ]
    }
   ],
   "source": [
    "# 네이버 인링크 추출\n",
    "inlink_url = []\n",
    "\n",
    "# 사이트 주소\n",
    "for i in tqdm_notebook(range(0, len(key[:12]))):\n",
    "    try:\n",
    "        url = 'https://search.naver.com/search.naver?where=news&sm=tab_jum&query={}'.format(key[i])\n",
    "        headers = {'user-agent' : 'Mozilla/5.0 (Windows NT 10.0; Win64; x64) AppleWebKit/537.36 (KHTML, like Gecko) Chrome/105.0.0.0 Safari/537.36'}\n",
    "        resp = requests.get(url, headers=headers)\n",
    "        soup = BeautifulSoup(resp.text)\n",
    "\n",
    "        # 네이버 뉴스 검색 후 제목 가져오기\n",
    "        n_info = soup.find('a', class_='news_tit')\n",
    "\n",
    "        # 네이버 인링크 정보\n",
    "        onlink_info_1 = n_info['onclick'].split('&')[3]\n",
    "        onlink_info_2 = onlink_info_1.split('=')[1]\n",
    "        onlink_info = onlink_info_2.split('.')\n",
    "\n",
    "        # 네이버 인링크 URL 리스트에 저장\n",
    "        onlink_url = 'https://n.news.naver.com/mnews/article/{}/{}'.format(onlink_info[0], onlink_info[1])\n",
    "        inlink_url.append(onlink_url)\n",
    "    except:\n",
    "        inlink_url.append('키워드: {}'.format(key[i]))\n",
    "    if len(inlink_url) % 10 == 0:\n",
    "        print('{}개 완료'.format(len(inlink_url)))\n",
    "print(len(inlink_url), '개 수집완료')"
   ]
  },
  {
   "cell_type": "code",
   "execution_count": 21,
   "id": "04311d46",
   "metadata": {},
   "outputs": [
    {
     "data": {
      "text/plain": [
       "12"
      ]
     },
     "execution_count": 21,
     "metadata": {},
     "output_type": "execute_result"
    }
   ],
   "source": [
    "len(inlink_url)"
   ]
  },
  {
   "cell_type": "code",
   "execution_count": 22,
   "id": "ca96ce0c",
   "metadata": {},
   "outputs": [
    {
     "data": {
      "text/plain": [
       "['https://n.news.naver.com/mnews/article/082/0001129210',\n",
       " 'https://n.news.naver.com/mnews/article/277/0005003919',\n",
       " 'https://n.news.naver.com/mnews/article/025/0003151633',\n",
       " 'https://n.news.naver.com/mnews/article/029/0002706672',\n",
       " 'https://n.news.naver.com/mnews/article/028/0002568222',\n",
       " 'https://n.news.naver.com/mnews/article/008/0004671637',\n",
       " 'https://n.news.naver.com/mnews/article/277/0005001001',\n",
       " 'https://n.news.naver.com/mnews/article/008/0004671616',\n",
       " 'https://n.news.naver.com/mnews/article/082/0001125194',\n",
       " 'https://n.news.naver.com/mnews/article/469/0000696491',\n",
       " 'https://n.news.naver.com/mnews/article/277/0004972285',\n",
       " 'https://n.news.naver.com/mnews/article/5312/0000195547']"
      ]
     },
     "execution_count": 22,
     "metadata": {},
     "output_type": "execute_result"
    }
   ],
   "source": [
    "inlink_url"
   ]
  }
 ],
 "metadata": {
  "kernelspec": {
   "display_name": "Python 3 (ipykernel)",
   "language": "python",
   "name": "python3"
  },
  "language_info": {
   "codemirror_mode": {
    "name": "ipython",
    "version": 3
   },
   "file_extension": ".py",
   "mimetype": "text/x-python",
   "name": "python",
   "nbconvert_exporter": "python",
   "pygments_lexer": "ipython3",
   "version": "3.10.4"
  }
 },
 "nbformat": 4,
 "nbformat_minor": 5
}
