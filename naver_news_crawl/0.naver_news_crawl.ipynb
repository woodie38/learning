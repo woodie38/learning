{
 "cells": [
  {
   "cell_type": "code",
   "execution_count": 6,
   "id": "f9906be9",
   "metadata": {},
   "outputs": [],
   "source": [
    "import sys    # 시스템\n",
    "import os     # 시스템\n",
    "\n",
    "import pandas as pd    # 판다스 : 데이터분석 라이브러리\n",
    "import numpy as np     # 넘파이 : 숫자, 행렬 데이터 라이브러리\n",
    "\n",
    "from bs4 import BeautifulSoup     # html 데이터 전처리\n",
    "import requests\n",
    "#from selenium import webdriver    # 웹 브라우저 자동화\n",
    "import time                       # 시간 지연\n",
    "from tqdm import tqdm_notebook    # 진행상황 표시\n",
    "#from selenium.webdriver.common.by import By"
   ]
  },
  {
   "cell_type": "code",
   "execution_count": 2,
   "id": "b6c82546",
   "metadata": {},
   "outputs": [
    {
     "data": {
      "text/html": [
       "<div>\n",
       "<style scoped>\n",
       "    .dataframe tbody tr th:only-of-type {\n",
       "        vertical-align: middle;\n",
       "    }\n",
       "\n",
       "    .dataframe tbody tr th {\n",
       "        vertical-align: top;\n",
       "    }\n",
       "\n",
       "    .dataframe thead th {\n",
       "        text-align: right;\n",
       "    }\n",
       "</style>\n",
       "<table border=\"1\" class=\"dataframe\">\n",
       "  <thead>\n",
       "    <tr style=\"text-align: right;\">\n",
       "      <th></th>\n",
       "      <th>제목</th>\n",
       "    </tr>\n",
       "  </thead>\n",
       "  <tbody>\n",
       "    <tr>\n",
       "      <th>0</th>\n",
       "      <td>“근로자인 조부모도 손자녀 육아휴직 근거 마련해야”</td>\n",
       "    </tr>\n",
       "    <tr>\n",
       "      <th>1</th>\n",
       "      <td>노무사 등 손해보험 가입의무 위반기간 따라 과태료 부과</td>\n",
       "    </tr>\n",
       "    <tr>\n",
       "      <th>2</th>\n",
       "      <td>‘한의사도 보건소장 우선임용’ 법안 발의 한의협 “조속한 개정 필요”</td>\n",
       "    </tr>\n",
       "    <tr>\n",
       "      <th>3</th>\n",
       "      <td>인앱결제 강제 매출액 2% 과징금 구글 애플 `꼼수` 제동</td>\n",
       "    </tr>\n",
       "    <tr>\n",
       "      <th>4</th>\n",
       "      <td>인앱결제 강제 때 매출액 2% 과징금 부과 방통위 시행령 마련</td>\n",
       "    </tr>\n",
       "    <tr>\n",
       "      <th>...</th>\n",
       "      <td>...</td>\n",
       "    </tr>\n",
       "    <tr>\n",
       "      <th>103</th>\n",
       "      <td>법제처, 지자체 교육청 규칙 중 불합리한 규정 고친다</td>\n",
       "    </tr>\n",
       "    <tr>\n",
       "      <th>104</th>\n",
       "      <td>미추홀구 노력으로 기초지자체 자율권 보장</td>\n",
       "    </tr>\n",
       "    <tr>\n",
       "      <th>105</th>\n",
       "      <td>'특허' 일감몰아주기 과세 축소 '없던 일'로(종합)</td>\n",
       "    </tr>\n",
       "    <tr>\n",
       "      <th>106</th>\n",
       "      <td>법제처, 보호소년 수용자 등 기본 인권 확대 행정규칙 7건 정비</td>\n",
       "    </tr>\n",
       "    <tr>\n",
       "      <th>107</th>\n",
       "      <td>특허 거래, 일감몰아주기 과세 제외 '없던 일'로</td>\n",
       "    </tr>\n",
       "  </tbody>\n",
       "</table>\n",
       "<p>108 rows × 1 columns</p>\n",
       "</div>"
      ],
      "text/plain": [
       "                                         제목\n",
       "0              “근로자인 조부모도 손자녀 육아휴직 근거 마련해야”\n",
       "1            노무사 등 손해보험 가입의무 위반기간 따라 과태료 부과\n",
       "2    ‘한의사도 보건소장 우선임용’ 법안 발의 한의협 “조속한 개정 필요”\n",
       "3          인앱결제 강제 매출액 2% 과징금 구글 애플 `꼼수` 제동\n",
       "4        인앱결제 강제 때 매출액 2% 과징금 부과 방통위 시행령 마련\n",
       "..                                      ...\n",
       "103           법제처, 지자체 교육청 규칙 중 불합리한 규정 고친다\n",
       "104                  미추홀구 노력으로 기초지자체 자율권 보장\n",
       "105           '특허' 일감몰아주기 과세 축소 '없던 일'로(종합)\n",
       "106     법제처, 보호소년 수용자 등 기본 인권 확대 행정규칙 7건 정비\n",
       "107             특허 거래, 일감몰아주기 과세 제외 '없던 일'로\n",
       "\n",
       "[108 rows x 1 columns]"
      ]
     },
     "execution_count": 2,
     "metadata": {},
     "output_type": "execute_result"
    }
   ],
   "source": [
    "# CSV 파일 불러오기\n",
    "\n",
    "keyword = pd.read_csv('C:/Users/socsoft/Downloads/internship_kwj/socsoft/법제처키워드/(v)불합리 규정(108)_키워드.csv', encoding='utf-8')\n",
    "keyword"
   ]
  },
  {
   "cell_type": "code",
   "execution_count": 3,
   "id": "662dac3b",
   "metadata": {},
   "outputs": [],
   "source": [
    "# 데이터 프레임 열에 이름 없을 경우 이름달아 주기\n",
    "\n",
    "keyword=keyword.rename(columns={'Unnamed: 0':'순번','0':'제목'})"
   ]
  },
  {
   "cell_type": "code",
   "execution_count": 4,
   "id": "2c8318c5",
   "metadata": {},
   "outputs": [
    {
     "data": {
      "text/plain": [
       "0                “근로자인 조부모도 손자녀 육아휴직 근거 마련해야”\n",
       "1              노무사 등 손해보험 가입의무 위반기간 따라 과태료 부과\n",
       "2      ‘한의사도 보건소장 우선임용’ 법안 발의 한의협 “조속한 개정 필요”\n",
       "3            인앱결제 강제 매출액 2% 과징금 구글 애플 `꼼수` 제동\n",
       "4          인앱결제 강제 때 매출액 2% 과징금 부과 방통위 시행령 마련\n",
       "                        ...                  \n",
       "103             법제처, 지자체 교육청 규칙 중 불합리한 규정 고친다\n",
       "104                    미추홀구 노력으로 기초지자체 자율권 보장\n",
       "105             '특허' 일감몰아주기 과세 축소 '없던 일'로(종합)\n",
       "106       법제처, 보호소년 수용자 등 기본 인권 확대 행정규칙 7건 정비\n",
       "107               특허 거래, 일감몰아주기 과세 제외 '없던 일'로\n",
       "Name: 제목, Length: 108, dtype: object"
      ]
     },
     "execution_count": 4,
     "metadata": {},
     "output_type": "execute_result"
    }
   ],
   "source": [
    "# 데이터 프레임에서 key 값으로 쓸 열을 리스트 형태로 가져오기\n",
    " \n",
    "key = keyword[\"제목\"]\n",
    "key"
   ]
  },
  {
   "cell_type": "code",
   "execution_count": null,
   "id": "8ca24a23",
   "metadata": {},
   "outputs": [],
   "source": [
    "def get_naver_news_title(news_title):\n",
    "    url = 'https://search.naver.com/search.naver?where=news&sm=tab_jum&query={}'.format(news_title)\n",
    "    resp = requests.get(url)\n",
    "    \n",
    "    soup = BeautifulSoup(resp.text)\n",
    "    \n",
    "    title_tag = soup.select_one('h3.tit_view')\n",
    "    if title_tag:\n",
    "        return title_tag.get_text()\n",
    "    return \"\""
   ]
  },
  {
   "cell_type": "code",
   "execution_count": 17,
   "id": "d8ce57f9",
   "metadata": {},
   "outputs": [
    {
     "name": "stdout",
     "output_type": "stream",
     "text": [
      "<Response [200]>\n"
     ]
    }
   ],
   "source": [
    "url = 'https://search.naver.com/search.naver?where=news&sm=tab_jum&query={}'.format(key[0])\n",
    "\n",
    "headers = {'user-agent' : 'Mozilla/5.0 (Windows NT 10.0; Win64; x64) AppleWebKit/537.36 (KHTML, like Gecko) Chrome/105.0.0.0 Safari/537.36'}\n",
    "resp = requests.get(url, headers=headers)\n",
    "print(resp)\n",
    "soup = BeautifulSoup(resp.text)\n",
    "\n",
    "n_info = soup.find('a', class_='news_tit')"
   ]
  },
  {
   "cell_type": "code",
   "execution_count": 18,
   "id": "5cec8341",
   "metadata": {},
   "outputs": [
    {
     "data": {
      "text/plain": [
       "'“근로자인 조부모도 손자녀 육아휴직 근거 마련해야”'"
      ]
     },
     "execution_count": 18,
     "metadata": {},
     "output_type": "execute_result"
    }
   ],
   "source": [
    "n_title = n_info.text\n",
    "n_title"
   ]
  },
  {
   "cell_type": "code",
   "execution_count": 14,
   "id": "01aa465a",
   "metadata": {},
   "outputs": [
    {
     "data": {
      "text/plain": [
       "'https://n.news.naver.com/mnews/article/082/0001129210?sid=101'"
      ]
     },
     "execution_count": 14,
     "metadata": {},
     "output_type": "execute_result"
    }
   ],
   "source": [
    "'https://n.news.naver.com/mnews/article/082/0001129210?sid=101'"
   ]
  },
  {
   "cell_type": "code",
   "execution_count": 19,
   "id": "9791d62a",
   "metadata": {},
   "outputs": [],
   "source": [
    "onlink_info_1 = n_info['onclick'].split('&')[3]\n",
    "onlink_info_2 = onlink_info_1.split('=')[1]\n",
    "onlink_info = onlink_info_2.split('.')"
   ]
  },
  {
   "cell_type": "code",
   "execution_count": 20,
   "id": "16bed375",
   "metadata": {},
   "outputs": [],
   "source": [
    "onlink_url = 'https://n.news.naver.com/mnews/article/{}/{}'.format(onlink_info[0], onlink_info[1])"
   ]
  },
  {
   "cell_type": "code",
   "execution_count": 24,
   "id": "95b2fbb3",
   "metadata": {},
   "outputs": [
    {
     "data": {
      "text/plain": [
       "'https://n.news.naver.com/mnews/article/082/0001129210'"
      ]
     },
     "execution_count": 24,
     "metadata": {},
     "output_type": "execute_result"
    }
   ],
   "source": [
    "onlink_url"
   ]
  },
  {
   "cell_type": "code",
   "execution_count": 25,
   "id": "d13c03c0",
   "metadata": {},
   "outputs": [
    {
     "name": "stdout",
     "output_type": "stream",
     "text": [
      "<Response [200]>\n"
     ]
    }
   ],
   "source": [
    "url = onlink_url\n",
    "\n",
    "headers = {'user-agent' : 'Mozilla/5.0 (Windows NT 10.0; Win64; x64) AppleWebKit/537.36 (KHTML, like Gecko) Chrome/105.0.0.0 Safari/537.36'}\n",
    "resp = requests.get(url, headers=headers)\n",
    "print(resp)"
   ]
  },
  {
   "cell_type": "code",
   "execution_count": 26,
   "id": "d2ffe72f",
   "metadata": {},
   "outputs": [],
   "source": [
    "soup = BeautifulSoup(resp.text)"
   ]
  },
  {
   "cell_type": "code",
   "execution_count": 30,
   "id": "4a7af9ad",
   "metadata": {},
   "outputs": [],
   "source": [
    "news_info = soup.find('div', class_='newsct')"
   ]
  },
  {
   "cell_type": "code",
   "execution_count": 51,
   "id": "198fc522",
   "metadata": {},
   "outputs": [
    {
     "data": {
      "text/plain": [
       "'김덕준 기자'"
      ]
     },
     "execution_count": 51,
     "metadata": {},
     "output_type": "execute_result"
    }
   ],
   "source": [
    "new_info.find('em', class_='media_end_head_journalist_name').text"
   ]
  },
  {
   "cell_type": "code",
   "execution_count": 40,
   "id": "58debcbc",
   "metadata": {},
   "outputs": [
    {
     "data": {
      "text/plain": [
       "'“근로자인 조부모도 손자녀 육아휴직 근거 마련해야”'"
      ]
     },
     "execution_count": 40,
     "metadata": {},
     "output_type": "execute_result"
    }
   ],
   "source": [
    "title = news_info.find('h2', 'media_end_head_headline').text\n",
    "title"
   ]
  },
  {
   "cell_type": "code",
   "execution_count": 41,
   "id": "5018f93f",
   "metadata": {},
   "outputs": [
    {
     "data": {
      "text/plain": [
       "'부산일보'"
      ]
     },
     "execution_count": 41,
     "metadata": {},
     "output_type": "execute_result"
    }
   ],
   "source": [
    "nickname = news_info.find('img')['title']\n",
    "nickname"
   ]
  },
  {
   "cell_type": "code",
   "execution_count": 43,
   "id": "05ffd2f9",
   "metadata": {},
   "outputs": [
    {
     "data": {
      "text/plain": [
       "'2021.11.25. 오후 7:04'"
      ]
     },
     "execution_count": 43,
     "metadata": {},
     "output_type": "execute_result"
    }
   ],
   "source": [
    "datetime = news_info.find('span', class_='media_end_head_info_datestamp_time _ARTICLE_DATE_TIME').text\n",
    "datetime"
   ]
  },
  {
   "cell_type": "code",
   "execution_count": 50,
   "id": "aaea36d1",
   "metadata": {},
   "outputs": [
    {
     "data": {
      "text/plain": [
       "'법제처, 불합리·불공정 법령 개선 위한국민 아이디어 공모제 결과 발표배우자의 가정폭력이 있으면 어머니가 일시지원복지시설에 거주할 수 있는데 이를 아버지도 일시지원복지시설에 거주할 수 있도록 한 내용이 불합리한 법령 공모전에 최우수상을 받았다. 사진은 최우수상 수상자 곽호청(오른쪽)씨와 이강섭 법제처장. 법제처 제공배우자의 가정폭력이 있으면 어머니가 일시지원복지시설에 거주할 수 있는데 이를 아버지도 일시지원복지시설에 거주할 수 있도록 한 내용이 불합리한 법령 공모전에 최우수상을 받았다. 또 근로자인 조부모도 손자녀를 돌보기 위해 육아휴직을 쓸 수 있도록 관련 법령을 개정해야 한다는 내용도 불합리한 법령에 뽑혔다.법제처는 25일 정부세종청사에서 불합리·불공정 법령을 개선하기 위한 ‘2021년 국민 아이디어 공모제’ 결과를 발표하고 시상식을 개최했다고 밝혔다. 이번 공모에는 총 500건이 접수됐으며 심사위원 평가와 광화문 1번가 국민심사를 거쳐 우수 과제 9건을 선정했다.먼저 최우수상은 가정폭력 피해가정의 어머니뿐만 아니라 아버지도 일시지원복지시설의 지원 대상에 포함하도록 ‘한부모가족지원법’을 개정해야 한다고 제안한 곽호창 씨에게 돌아갔다.현재는 ‘일시지원복지시설’의 지원 대상이 아동의 어머니로 한정돼 있는데, 아동의 아버지를 제외할 합리적인 이유가 없다는 의견이다. 여성가족부는 2022년에 법 개정을 추진할 계획이다.이와 함께 우수상은 장애인 등 이동이 불편한 사람들이 사용하는 화재 피난구조설비의 설치, 유지·관리 기준을 마련해야 한다고 제안한 조봉현 씨에게 돌아갔다.법률에서 5층 이상 공동주택 등의 경우 이동약자가 사용하는 소방설비의 설치, 유지·관리의 세부 내용을 대통령령에 정하도록 하고 있으므로 해당 규정을 보완해야 한다는 취지다. 소방청은 제안의견을 받아들여 2022년에 관련 법령 개정을 완료할 예정이다.두 번째 우수상은 행정청이 보조금 등 공공재정지급금을 잘못 지급한 경우에도 국민에게 책임이 있는 것처럼 취급하는 규정을 정비해야 한다는 조승미 씨에게 돌아갔다.국민의 과실 없이 행정청이 잘못 지급한 경우까지 공공재정지급금의 ‘부정청구 등’에 포함하고, 이자를 붙여 환수하도록 규정한 것은 불합리하다는 취지다. 권익위는 제안의견을 반영한 개정안을 입법예고 중이다.또 세번째 우수상은 근로자인 조부모가 손자녀 양육을 위해 육아휴직을 할 수 있는 근거를 마련해야 한다는 의견을 제안한 조철규 씨에게 돌아갔다.고령화, 가정해체 등에 따른 조손가정 증가를 고려해 조부모도 육아휴직 등을 지원받을 수 있는 근거가 필요하다는 의견이다. 고용노동부는 육아휴직 급여 재원과 노사 등의 사회적 합의를 고려해 중장기 추진을 검토하고 있다.'"
      ]
     },
     "execution_count": 50,
     "metadata": {},
     "output_type": "execute_result"
    }
   ],
   "source": [
    "contents = news_info.find('div', class_='newsct_article _article_body')\n",
    "content1 = contents.find(class_='go_trans _article_content')\n",
    "content = content1.text.replace('\\n','')\n",
    "content"
   ]
  }
 ],
 "metadata": {
  "kernelspec": {
   "display_name": "Python 3 (ipykernel)",
   "language": "python",
   "name": "python3"
  },
  "language_info": {
   "codemirror_mode": {
    "name": "ipython",
    "version": 3
   },
   "file_extension": ".py",
   "mimetype": "text/x-python",
   "name": "python",
   "nbconvert_exporter": "python",
   "pygments_lexer": "ipython3",
   "version": "3.10.4"
  }
 },
 "nbformat": 4,
 "nbformat_minor": 5
}
