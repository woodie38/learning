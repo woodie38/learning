{
 "cells": [
  {
   "cell_type": "code",
   "execution_count": 6,
   "id": "86ae74fb",
   "metadata": {},
   "outputs": [],
   "source": [
    "#pip install pyexcel pyexcel-xls pyexcel-xlsx"
   ]
  },
  {
   "cell_type": "code",
   "execution_count": 3,
   "id": "c5ba37a6",
   "metadata": {},
   "outputs": [
    {
     "ename": "UnknownParameters",
     "evalue": "Please check if there were typos in function parameters: {'file': 'c:/Users/socsoft/Downloads/internship_kwj/socsoft/sheetTosheet/TMPLAT_GTT007 (행정읍면동별 주제도) - 연습파일.xls', 'cfile': 'c:/Users/socsoft/Downloads/internship_kwj/socsoft/sheetTosheet/TMPLAT_GTT007 (행정읍면동별 주제도) - 연습파일.xlsx'}. Otherwise unrecognized parameters were given.",
     "output_type": "error",
     "traceback": [
      "\u001b[1;31m---------------------------------------------------------------------------\u001b[0m",
      "\u001b[1;31mUnknownParameters\u001b[0m                         Traceback (most recent call last)",
      "Input \u001b[1;32mIn [3]\u001b[0m, in \u001b[0;36m<cell line: 3>\u001b[1;34m()\u001b[0m\n\u001b[0;32m      1\u001b[0m \u001b[38;5;28;01mimport\u001b[39;00m \u001b[38;5;21;01mpyexcel\u001b[39;00m \u001b[38;5;28;01mas\u001b[39;00m \u001b[38;5;21;01mp\u001b[39;00m\n\u001b[1;32m----> 3\u001b[0m \u001b[43mp\u001b[49m\u001b[38;5;241;43m.\u001b[39;49m\u001b[43msave_book_as\u001b[49m\u001b[43m(\u001b[49m\u001b[43mfile\u001b[49m\u001b[43m \u001b[49m\u001b[38;5;241;43m=\u001b[39;49m\u001b[43m \u001b[49m\u001b[38;5;124;43mr\u001b[39;49m\u001b[38;5;124;43m'\u001b[39;49m\u001b[38;5;124;43mc:/Users/socsoft/Downloads/internship_kwj/socsoft/sheetTosheet/TMPLAT_GTT007 (행정읍면동별 주제도) - 연습파일.xls\u001b[39;49m\u001b[38;5;124;43m'\u001b[39;49m\u001b[43m,\u001b[49m\n\u001b[0;32m      4\u001b[0m \u001b[43m               \u001b[49m\u001b[43mcfile\u001b[49m\u001b[43m \u001b[49m\u001b[38;5;241;43m=\u001b[39;49m\u001b[43m \u001b[49m\u001b[38;5;124;43mr\u001b[39;49m\u001b[38;5;124;43m'\u001b[39;49m\u001b[38;5;124;43mc:/Users/socsoft/Downloads/internship_kwj/socsoft/sheetTosheet/TMPLAT_GTT007 (행정읍면동별 주제도) - 연습파일.xlsx\u001b[39;49m\u001b[38;5;124;43m'\u001b[39;49m\u001b[43m)\u001b[49m\n",
      "File \u001b[1;32m~\\anaconda3\\envs\\pypro\\lib\\site-packages\\pyexcel\\core.py:110\u001b[0m, in \u001b[0;36msave_book_as\u001b[1;34m(**keywords)\u001b[0m\n\u001b[0;32m    106\u001b[0m \u001b[38;5;124;03m\"\"\"\u001b[39;00m\n\u001b[0;32m    107\u001b[0m \u001b[38;5;124;03mSave a book from a data source to another one\u001b[39;00m\n\u001b[0;32m    108\u001b[0m \u001b[38;5;124;03m\"\"\"\u001b[39;00m\n\u001b[0;32m    109\u001b[0m dest_keywords, source_keywords \u001b[38;5;241m=\u001b[39m _split_keywords(\u001b[38;5;241m*\u001b[39m\u001b[38;5;241m*\u001b[39mkeywords)\n\u001b[1;32m--> 110\u001b[0m book \u001b[38;5;241m=\u001b[39m sources\u001b[38;5;241m.\u001b[39mget_book_stream(\u001b[38;5;241m*\u001b[39m\u001b[38;5;241m*\u001b[39msource_keywords)\n\u001b[0;32m    111\u001b[0m book \u001b[38;5;241m=\u001b[39m to_book(book)\n\u001b[0;32m    112\u001b[0m \u001b[38;5;28;01mreturn\u001b[39;00m sources\u001b[38;5;241m.\u001b[39msave_book(book, \u001b[38;5;241m*\u001b[39m\u001b[38;5;241m*\u001b[39mdest_keywords)\n",
      "File \u001b[1;32m~\\anaconda3\\envs\\pypro\\lib\\site-packages\\pyexcel\\internal\\core.py:36\u001b[0m, in \u001b[0;36mget_book_stream\u001b[1;34m(**keywords)\u001b[0m\n\u001b[0;32m     29\u001b[0m \u001b[38;5;28;01mdef\u001b[39;00m \u001b[38;5;21mget_book_stream\u001b[39m(\u001b[38;5;241m*\u001b[39m\u001b[38;5;241m*\u001b[39mkeywords):\n\u001b[0;32m     30\u001b[0m     \u001b[38;5;124;03m\"\"\"\u001b[39;00m\n\u001b[0;32m     31\u001b[0m \u001b[38;5;124;03m    Get an instance of BookStream from an excel source\u001b[39;00m\n\u001b[0;32m     32\u001b[0m \n\u001b[0;32m     33\u001b[0m \u001b[38;5;124;03m    Where the dictionary should have text as keys and two dimensional\u001b[39;00m\n\u001b[0;32m     34\u001b[0m \u001b[38;5;124;03m    array as values.\u001b[39;00m\n\u001b[0;32m     35\u001b[0m \u001b[38;5;124;03m    \"\"\"\u001b[39;00m\n\u001b[1;32m---> 36\u001b[0m     a_source \u001b[38;5;241m=\u001b[39m SOURCE\u001b[38;5;241m.\u001b[39mget_book_source(\u001b[38;5;241m*\u001b[39m\u001b[38;5;241m*\u001b[39mkeywords)\n\u001b[0;32m     37\u001b[0m     filename, path \u001b[38;5;241m=\u001b[39m a_source\u001b[38;5;241m.\u001b[39mget_source_info()\n\u001b[0;32m     38\u001b[0m     sheets \u001b[38;5;241m=\u001b[39m a_source\u001b[38;5;241m.\u001b[39mget_data()\n",
      "File \u001b[1;32m~\\anaconda3\\envs\\pypro\\lib\\site-packages\\pyexcel\\internal\\source_plugin.py:85\u001b[0m, in \u001b[0;36mSourcePluginManager.get_book_source\u001b[1;34m(self, **keywords)\u001b[0m\n\u001b[0;32m     83\u001b[0m \u001b[38;5;28;01mdef\u001b[39;00m \u001b[38;5;21mget_book_source\u001b[39m(\u001b[38;5;28mself\u001b[39m, \u001b[38;5;241m*\u001b[39m\u001b[38;5;241m*\u001b[39mkeywords):\n\u001b[0;32m     84\u001b[0m     \u001b[38;5;124;03m\"\"\"obtain a book read source plugin for signature functions\"\"\"\u001b[39;00m\n\u001b[1;32m---> 85\u001b[0m     \u001b[38;5;28;01mreturn\u001b[39;00m \u001b[38;5;28mself\u001b[39m\u001b[38;5;241m.\u001b[39mget_a_plugin(\n\u001b[0;32m     86\u001b[0m         target\u001b[38;5;241m=\u001b[39mconstants\u001b[38;5;241m.\u001b[39mBOOK, action\u001b[38;5;241m=\u001b[39mconstants\u001b[38;5;241m.\u001b[39mREAD_ACTION, \u001b[38;5;241m*\u001b[39m\u001b[38;5;241m*\u001b[39mkeywords\n\u001b[0;32m     87\u001b[0m     )\n",
      "File \u001b[1;32m~\\anaconda3\\envs\\pypro\\lib\\site-packages\\pyexcel\\internal\\source_plugin.py:69\u001b[0m, in \u001b[0;36mSourcePluginManager.get_a_plugin\u001b[1;34m(self, target, action, source_library, **keywords)\u001b[0m\n\u001b[0;32m     67\u001b[0m \u001b[38;5;28;01mif\u001b[39;00m \u001b[38;5;124m\"\u001b[39m\u001b[38;5;124mlibrary\u001b[39m\u001b[38;5;124m\"\u001b[39m \u001b[38;5;129;01min\u001b[39;00m keywords:\n\u001b[0;32m     68\u001b[0m     io_library \u001b[38;5;241m=\u001b[39m keywords\u001b[38;5;241m.\u001b[39mpop(\u001b[38;5;124m\"\u001b[39m\u001b[38;5;124mlibrary\u001b[39m\u001b[38;5;124m\"\u001b[39m)\n\u001b[1;32m---> 69\u001b[0m source_cls \u001b[38;5;241m=\u001b[39m \u001b[38;5;28mself\u001b[39m\u001b[38;5;241m.\u001b[39mload_me_now(\n\u001b[0;32m     70\u001b[0m     key, action\u001b[38;5;241m=\u001b[39maction, library\u001b[38;5;241m=\u001b[39msource_library, \u001b[38;5;241m*\u001b[39m\u001b[38;5;241m*\u001b[39mkeywords\n\u001b[0;32m     71\u001b[0m )\n\u001b[0;32m     72\u001b[0m \u001b[38;5;28;01mif\u001b[39;00m io_library \u001b[38;5;129;01mis\u001b[39;00m \u001b[38;5;129;01mnot\u001b[39;00m \u001b[38;5;28;01mNone\u001b[39;00m:\n\u001b[0;32m     73\u001b[0m     keywords[\u001b[38;5;124m\"\u001b[39m\u001b[38;5;124mlibrary\u001b[39m\u001b[38;5;124m\"\u001b[39m] \u001b[38;5;241m=\u001b[39m io_library\n",
      "File \u001b[1;32m~\\anaconda3\\envs\\pypro\\lib\\site-packages\\pyexcel\\internal\\source_plugin.py:52\u001b[0m, in \u001b[0;36mSourcePluginManager.load_me_now\u001b[1;34m(self, key, action, library, **keywords)\u001b[0m\n\u001b[0;32m     48\u001b[0m             \u001b[38;5;28;01mbreak\u001b[39;00m\n\u001b[0;32m     50\u001b[0m \u001b[38;5;28;01melse\u001b[39;00m:\n\u001b[0;32m     51\u001b[0m     \u001b[38;5;66;03m# nothing is found, no break\u001b[39;00m\n\u001b[1;32m---> 52\u001b[0m     _error_handler(action, \u001b[38;5;241m*\u001b[39m\u001b[38;5;241m*\u001b[39mkeywords)\n\u001b[0;32m     53\u001b[0m \u001b[38;5;28;01mreturn\u001b[39;00m plugin\n",
      "File \u001b[1;32m~\\anaconda3\\envs\\pypro\\lib\\site-packages\\pyexcel\\internal\\source_plugin.py:148\u001b[0m, in \u001b[0;36m_error_handler\u001b[1;34m(action, **keywords)\u001b[0m\n\u001b[0;32m    146\u001b[0m         msg \u001b[38;5;241m+\u001b[39m\u001b[38;5;241m=\u001b[39m \u001b[38;5;124m\"\u001b[39m\u001b[38;5;124mfunction parameters: \u001b[39m\u001b[38;5;132;01m%s\u001b[39;00m\u001b[38;5;124m. Otherwise \u001b[39m\u001b[38;5;124m\"\u001b[39m\n\u001b[0;32m    147\u001b[0m         msg \u001b[38;5;241m+\u001b[39m\u001b[38;5;241m=\u001b[39m \u001b[38;5;124m\"\u001b[39m\u001b[38;5;124munrecognized parameters were given.\u001b[39m\u001b[38;5;124m\"\u001b[39m\n\u001b[1;32m--> 148\u001b[0m         \u001b[38;5;28;01mraise\u001b[39;00m exceptions\u001b[38;5;241m.\u001b[39mUnknownParameters(msg \u001b[38;5;241m%\u001b[39m keywords)\n\u001b[0;32m    150\u001b[0m \u001b[38;5;28;01melse\u001b[39;00m:\n\u001b[0;32m    151\u001b[0m     \u001b[38;5;28;01mraise\u001b[39;00m exceptions\u001b[38;5;241m.\u001b[39mUnknownParameters(\u001b[38;5;124m\"\u001b[39m\u001b[38;5;124mNo parameters found!\u001b[39m\u001b[38;5;124m\"\u001b[39m)\n",
      "\u001b[1;31mUnknownParameters\u001b[0m: Please check if there were typos in function parameters: {'file': 'c:/Users/socsoft/Downloads/internship_kwj/socsoft/sheetTosheet/TMPLAT_GTT007 (행정읍면동별 주제도) - 연습파일.xls', 'cfile': 'c:/Users/socsoft/Downloads/internship_kwj/socsoft/sheetTosheet/TMPLAT_GTT007 (행정읍면동별 주제도) - 연습파일.xlsx'}. Otherwise unrecognized parameters were given."
     ]
    }
   ],
   "source": [
    "import pyexcel as p\n",
    "\n",
    "p.save_book_as(file = r'c:/Users/socsoft/Downloads/internship_kwj/socsoft/sheetTosheet/TMPLAT_GTT007 (행정읍면동별 주제도) - 연습파일.xls',\n",
    "               cfile = r'c:/Users/socsoft/Downloads/internship_kwj/socsoft/sheetTosheet/TMPLAT_GTT007 (행정읍면동별 주제도) - 연습파일.xlsx')"
   ]
  },
  {
   "cell_type": "code",
   "execution_count": null,
   "id": "cb2f9730",
   "metadata": {},
   "outputs": [],
   "source": []
  },
  {
   "cell_type": "code",
   "execution_count": 4,
   "id": "35349069",
   "metadata": {},
   "outputs": [
    {
     "ename": "com_error",
     "evalue": "(-2147352567, '예외가 발생했습니다.', (0, 'Microsoft Excel', \"'./TMPLAT_GTT007 (행정읍면동별 주제도) - 연습파일.xls'을(를) 찾을 수 없습니다. 파일의 이름이 변경되었거나 파일이 이동 또는 삭제되지 않았는지 확인하세요.\", 'xlmain11.chm', 0, -2146827284), None)",
     "output_type": "error",
     "traceback": [
      "\u001b[1;31m---------------------------------------------------------------------------\u001b[0m",
      "\u001b[1;31mcom_error\u001b[0m                                 Traceback (most recent call last)",
      "Input \u001b[1;32mIn [4]\u001b[0m, in \u001b[0;36m<cell line: 7>\u001b[1;34m()\u001b[0m\n\u001b[0;32m      5\u001b[0m xls_file \u001b[38;5;241m=\u001b[39m \u001b[38;5;124m'\u001b[39m\u001b[38;5;124m./TMPLAT_GTT007 (행정읍면동별 주제도) - 연습파일.xls\u001b[39m\u001b[38;5;124m'\u001b[39m\n\u001b[0;32m      6\u001b[0m excel_app \u001b[38;5;241m=\u001b[39m win32\u001b[38;5;241m.\u001b[39mgencache\u001b[38;5;241m.\u001b[39mEnsureDispatch(\u001b[38;5;124m'\u001b[39m\u001b[38;5;124mExcel.Application\u001b[39m\u001b[38;5;124m'\u001b[39m)\n\u001b[1;32m----> 7\u001b[0m wb \u001b[38;5;241m=\u001b[39m \u001b[43mexcel_app\u001b[49m\u001b[38;5;241;43m.\u001b[39;49m\u001b[43mWorkbooks\u001b[49m\u001b[38;5;241;43m.\u001b[39;49m\u001b[43mOpen\u001b[49m\u001b[43m(\u001b[49m\u001b[43mxls_file\u001b[49m\u001b[43m)\u001b[49m\n\u001b[0;32m      8\u001b[0m wb\u001b[38;5;241m.\u001b[39msave_As(xls_file \u001b[38;5;241m+\u001b[39m \u001b[38;5;124m'\u001b[39m\u001b[38;5;124mx\u001b[39m\u001b[38;5;124m'\u001b[39m, Fileformat \u001b[38;5;241m=\u001b[39m \u001b[38;5;241m51\u001b[39m)   \u001b[38;5;66;03m# 51은 .xlsx , 56은 xls\u001b[39;00m\n\u001b[0;32m      9\u001b[0m wb\u001b[38;5;241m.\u001b[39mclose()\n",
      "File \u001b[1;32m~\\AppData\\Local\\Temp\\gen_py\\3.10\\00020813-0000-0000-C000-000000000046x0x1x9\\Workbooks.py:75\u001b[0m, in \u001b[0;36mWorkbooks.Open\u001b[1;34m(self, Filename, UpdateLinks, ReadOnly, Format, Password, WriteResPassword, IgnoreReadOnlyRecommended, Origin, Delimiter, Editable, Notify, Converter, AddToMru, Local, CorruptLoad)\u001b[0m\n\u001b[0;32m     71\u001b[0m \u001b[38;5;28;01mdef\u001b[39;00m \u001b[38;5;21mOpen\u001b[39m(\u001b[38;5;28mself\u001b[39m, Filename\u001b[38;5;241m=\u001b[39mdefaultNamedNotOptArg, UpdateLinks\u001b[38;5;241m=\u001b[39mdefaultNamedOptArg, ReadOnly\u001b[38;5;241m=\u001b[39mdefaultNamedOptArg, Format\u001b[38;5;241m=\u001b[39mdefaultNamedOptArg\n\u001b[0;32m     72\u001b[0m \t\t, Password\u001b[38;5;241m=\u001b[39mdefaultNamedOptArg, WriteResPassword\u001b[38;5;241m=\u001b[39mdefaultNamedOptArg, IgnoreReadOnlyRecommended\u001b[38;5;241m=\u001b[39mdefaultNamedOptArg, Origin\u001b[38;5;241m=\u001b[39mdefaultNamedOptArg, Delimiter\u001b[38;5;241m=\u001b[39mdefaultNamedOptArg\n\u001b[0;32m     73\u001b[0m \t\t, Editable\u001b[38;5;241m=\u001b[39mdefaultNamedOptArg, Notify\u001b[38;5;241m=\u001b[39mdefaultNamedOptArg, Converter\u001b[38;5;241m=\u001b[39mdefaultNamedOptArg, AddToMru\u001b[38;5;241m=\u001b[39mdefaultNamedOptArg, Local\u001b[38;5;241m=\u001b[39mdefaultNamedOptArg\n\u001b[0;32m     74\u001b[0m \t\t, CorruptLoad\u001b[38;5;241m=\u001b[39mdefaultNamedOptArg):\n\u001b[1;32m---> 75\u001b[0m \tret \u001b[38;5;241m=\u001b[39m \u001b[38;5;28;43mself\u001b[39;49m\u001b[38;5;241;43m.\u001b[39;49m\u001b[43m_oleobj_\u001b[49m\u001b[38;5;241;43m.\u001b[39;49m\u001b[43mInvokeTypes\u001b[49m\u001b[43m(\u001b[49m\u001b[38;5;241;43m1923\u001b[39;49m\u001b[43m,\u001b[49m\u001b[43m \u001b[49m\u001b[43mLCID\u001b[49m\u001b[43m,\u001b[49m\u001b[43m \u001b[49m\u001b[38;5;241;43m1\u001b[39;49m\u001b[43m,\u001b[49m\u001b[43m \u001b[49m\u001b[43m(\u001b[49m\u001b[38;5;241;43m13\u001b[39;49m\u001b[43m,\u001b[49m\u001b[43m \u001b[49m\u001b[38;5;241;43m0\u001b[39;49m\u001b[43m)\u001b[49m\u001b[43m,\u001b[49m\u001b[43m \u001b[49m\u001b[43m(\u001b[49m\u001b[43m(\u001b[49m\u001b[38;5;241;43m8\u001b[39;49m\u001b[43m,\u001b[49m\u001b[43m \u001b[49m\u001b[38;5;241;43m1\u001b[39;49m\u001b[43m)\u001b[49m\u001b[43m,\u001b[49m\u001b[43m \u001b[49m\u001b[43m(\u001b[49m\u001b[38;5;241;43m12\u001b[39;49m\u001b[43m,\u001b[49m\u001b[43m \u001b[49m\u001b[38;5;241;43m17\u001b[39;49m\u001b[43m)\u001b[49m\u001b[43m,\u001b[49m\u001b[43m \u001b[49m\u001b[43m(\u001b[49m\u001b[38;5;241;43m12\u001b[39;49m\u001b[43m,\u001b[49m\u001b[43m \u001b[49m\u001b[38;5;241;43m17\u001b[39;49m\u001b[43m)\u001b[49m\u001b[43m,\u001b[49m\u001b[43m \u001b[49m\u001b[43m(\u001b[49m\u001b[38;5;241;43m12\u001b[39;49m\u001b[43m,\u001b[49m\u001b[43m \u001b[49m\u001b[38;5;241;43m17\u001b[39;49m\u001b[43m)\u001b[49m\u001b[43m,\u001b[49m\u001b[43m \u001b[49m\u001b[43m(\u001b[49m\u001b[38;5;241;43m12\u001b[39;49m\u001b[43m,\u001b[49m\u001b[43m \u001b[49m\u001b[38;5;241;43m17\u001b[39;49m\u001b[43m)\u001b[49m\u001b[43m,\u001b[49m\u001b[43m \u001b[49m\u001b[43m(\u001b[49m\u001b[38;5;241;43m12\u001b[39;49m\u001b[43m,\u001b[49m\u001b[43m \u001b[49m\u001b[38;5;241;43m17\u001b[39;49m\u001b[43m)\u001b[49m\u001b[43m,\u001b[49m\u001b[43m \u001b[49m\u001b[43m(\u001b[49m\u001b[38;5;241;43m12\u001b[39;49m\u001b[43m,\u001b[49m\u001b[43m \u001b[49m\u001b[38;5;241;43m17\u001b[39;49m\u001b[43m)\u001b[49m\u001b[43m,\u001b[49m\u001b[43m \u001b[49m\u001b[43m(\u001b[49m\u001b[38;5;241;43m12\u001b[39;49m\u001b[43m,\u001b[49m\u001b[43m \u001b[49m\u001b[38;5;241;43m17\u001b[39;49m\u001b[43m)\u001b[49m\u001b[43m,\u001b[49m\u001b[43m \u001b[49m\u001b[43m(\u001b[49m\u001b[38;5;241;43m12\u001b[39;49m\u001b[43m,\u001b[49m\u001b[43m \u001b[49m\u001b[38;5;241;43m17\u001b[39;49m\u001b[43m)\u001b[49m\u001b[43m,\u001b[49m\u001b[43m \u001b[49m\u001b[43m(\u001b[49m\u001b[38;5;241;43m12\u001b[39;49m\u001b[43m,\u001b[49m\u001b[43m \u001b[49m\u001b[38;5;241;43m17\u001b[39;49m\u001b[43m)\u001b[49m\u001b[43m,\u001b[49m\u001b[43m \u001b[49m\u001b[43m(\u001b[49m\u001b[38;5;241;43m12\u001b[39;49m\u001b[43m,\u001b[49m\u001b[43m \u001b[49m\u001b[38;5;241;43m17\u001b[39;49m\u001b[43m)\u001b[49m\u001b[43m,\u001b[49m\u001b[43m \u001b[49m\u001b[43m(\u001b[49m\u001b[38;5;241;43m12\u001b[39;49m\u001b[43m,\u001b[49m\u001b[43m \u001b[49m\u001b[38;5;241;43m17\u001b[39;49m\u001b[43m)\u001b[49m\u001b[43m,\u001b[49m\u001b[43m \u001b[49m\u001b[43m(\u001b[49m\u001b[38;5;241;43m12\u001b[39;49m\u001b[43m,\u001b[49m\u001b[43m \u001b[49m\u001b[38;5;241;43m17\u001b[39;49m\u001b[43m)\u001b[49m\u001b[43m,\u001b[49m\u001b[43m \u001b[49m\u001b[43m(\u001b[49m\u001b[38;5;241;43m12\u001b[39;49m\u001b[43m,\u001b[49m\u001b[43m \u001b[49m\u001b[38;5;241;43m17\u001b[39;49m\u001b[43m)\u001b[49m\u001b[43m,\u001b[49m\u001b[43m \u001b[49m\u001b[43m(\u001b[49m\u001b[38;5;241;43m12\u001b[39;49m\u001b[43m,\u001b[49m\u001b[43m \u001b[49m\u001b[38;5;241;43m17\u001b[39;49m\u001b[43m)\u001b[49m\u001b[43m)\u001b[49m\u001b[43m,\u001b[49m\u001b[43mFilename\u001b[49m\n\u001b[0;32m     76\u001b[0m \u001b[43m\t\t\u001b[49m\u001b[43m,\u001b[49m\u001b[43m \u001b[49m\u001b[43mUpdateLinks\u001b[49m\u001b[43m,\u001b[49m\u001b[43m \u001b[49m\u001b[43mReadOnly\u001b[49m\u001b[43m,\u001b[49m\u001b[43m \u001b[49m\u001b[43mFormat\u001b[49m\u001b[43m,\u001b[49m\u001b[43m \u001b[49m\u001b[43mPassword\u001b[49m\u001b[43m,\u001b[49m\u001b[43m \u001b[49m\u001b[43mWriteResPassword\u001b[49m\n\u001b[0;32m     77\u001b[0m \u001b[43m\t\t\u001b[49m\u001b[43m,\u001b[49m\u001b[43m \u001b[49m\u001b[43mIgnoreReadOnlyRecommended\u001b[49m\u001b[43m,\u001b[49m\u001b[43m \u001b[49m\u001b[43mOrigin\u001b[49m\u001b[43m,\u001b[49m\u001b[43m \u001b[49m\u001b[43mDelimiter\u001b[49m\u001b[43m,\u001b[49m\u001b[43m \u001b[49m\u001b[43mEditable\u001b[49m\u001b[43m,\u001b[49m\u001b[43m \u001b[49m\u001b[43mNotify\u001b[49m\n\u001b[0;32m     78\u001b[0m \u001b[43m\t\t\u001b[49m\u001b[43m,\u001b[49m\u001b[43m \u001b[49m\u001b[43mConverter\u001b[49m\u001b[43m,\u001b[49m\u001b[43m \u001b[49m\u001b[43mAddToMru\u001b[49m\u001b[43m,\u001b[49m\u001b[43m \u001b[49m\u001b[43mLocal\u001b[49m\u001b[43m,\u001b[49m\u001b[43m \u001b[49m\u001b[43mCorruptLoad\u001b[49m\u001b[43m)\u001b[49m\n\u001b[0;32m     79\u001b[0m \t\u001b[38;5;28;01mif\u001b[39;00m ret \u001b[38;5;129;01mis\u001b[39;00m \u001b[38;5;129;01mnot\u001b[39;00m \u001b[38;5;28;01mNone\u001b[39;00m:\n\u001b[0;32m     80\u001b[0m \t\t\u001b[38;5;66;03m# See if this IUnknown is really an IDispatch\u001b[39;00m\n\u001b[0;32m     81\u001b[0m \t\t\u001b[38;5;28;01mtry\u001b[39;00m:\n",
      "\u001b[1;31mcom_error\u001b[0m: (-2147352567, '예외가 발생했습니다.', (0, 'Microsoft Excel', \"'./TMPLAT_GTT007 (행정읍면동별 주제도) - 연습파일.xls'을(를) 찾을 수 없습니다. 파일의 이름이 변경되었거나 파일이 이동 또는 삭제되지 않았는지 확인하세요.\", 'xlmain11.chm', 0, -2146827284), None)"
     ]
    }
   ],
   "source": [
    "# xls -> xlsx로 변환\n",
    "import win32com.client as win32\n",
    "import xlrd\n",
    "\n",
    "xls_file = './TMPLAT_GTT007 (행정읍면동별 주제도) - 연습파일.xls'\n",
    "excel_app = win32.gencache.EnsureDispatch('Excel.Application')\n",
    "wb = excel_app.Workbooks.Open(xls_file)\n",
    "wb.save_As(xls_file + 'x', Fileformat = 51)   # 51은 .xlsx , 56은 xls\n",
    "wb.close()\n",
    "excel_app.Application.Quit()"
   ]
  }
 ],
 "metadata": {
  "kernelspec": {
   "display_name": "Python 3 (ipykernel)",
   "language": "python",
   "name": "python3"
  },
  "language_info": {
   "codemirror_mode": {
    "name": "ipython",
    "version": 3
   },
   "file_extension": ".py",
   "mimetype": "text/x-python",
   "name": "python",
   "nbconvert_exporter": "python",
   "pygments_lexer": "ipython3",
   "version": "3.10.4"
  }
 },
 "nbformat": 4,
 "nbformat_minor": 5
}
