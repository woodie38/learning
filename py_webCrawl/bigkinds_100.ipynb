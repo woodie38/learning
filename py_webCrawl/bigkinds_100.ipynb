{
 "cells": [
  {
   "cell_type": "code",
   "execution_count": 1,
   "id": "459c2696",
   "metadata": {},
   "outputs": [],
   "source": [
    "import pandas as pd \n",
    "import time\n",
    "from selenium import webdriver\n",
    "from selenium.webdriver.common.by import By\n",
    "from selenium.webdriver.chrome.service import Service\n",
    "from selenium.webdriver.common.keys import Keys\n",
    "from selenium.webdriver.support.ui import Select\n",
    "from bs4 import BeautifulSoup"
   ]
  },
  {
   "cell_type": "markdown",
   "id": "f530c959",
   "metadata": {},
   "source": [
    "검색어, 저장 할 파일명"
   ]
  },
  {
   "cell_type": "code",
   "execution_count": 2,
   "id": "a5d575cb",
   "metadata": {},
   "outputs": [],
   "source": [
    "keyword = '강제동원조사법'"
   ]
  },
  {
   "cell_type": "code",
   "execution_count": 3,
   "id": "47c3353a",
   "metadata": {},
   "outputs": [
    {
     "name": "stdout",
     "output_type": "stream",
     "text": [
      "10\n"
     ]
    }
   ],
   "source": [
    "chrome_options = webdriver.ChromeOptions()\n",
    "driver = webdriver.Chrome(service=Service('chromedriver.exe'), options=chrome_options)\n",
    "\n",
    "driver.get(\"https://www.bigkinds.or.kr/v2/news/index.do\")\n",
    "time.sleep(1)\n",
    "\n",
    "# 검색창에 '검색어' 검색\n",
    "element = driver.find_element(By.ID, \"total-search-key\")\n",
    "element.send_keys(keyword)\n",
    "time.sleep(1)\n",
    "\n",
    "# '기간' 클릭\n",
    "driver.find_element(By.XPATH, '//*[@id=\"collapse-step-1\"]').click()\n",
    "driver.find_element(By.XPATH,'//*[@id=\"collapse-step-1\"]').click()\n",
    "time.sleep(1)\n",
    "driver.find_element(By.XPATH,'//*[@id=\"collapse-step-1-body\"]/div[3]/div/div[1]/div[1]/a').click()\n",
    "time.sleep(1)\n",
    "\n",
    "# 날짜 입력\n",
    "driver.find_element(By.XPATH, '//*[@id=\"search-begin-date\"]').send_keys(Keys.CONTROL + \"a\");\n",
    "driver.find_element(By.XPATH, '//*[@id=\"search-begin-date\"]').send_keys(Keys.DELETE);\n",
    "driver.find_element(By.XPATH, '//*[@id=\"search-begin-date\"]').send_keys('2011-11-01')\n",
    "\n",
    "# 적용버튼 클릭\n",
    "driver.find_element(By.XPATH, '//*[@id=\"search-foot-div\"]/div[2]/button[2]').click()\n",
    "time.sleep(3)\n",
    "\n",
    "# 100건씩 보기\n",
    "Select(driver.find_element(By.ID, 'select2')).select_by_value('100')\n",
    "time.sleep(3)\n",
    "\n",
    "# 총 개수 확인\n",
    "html = driver.page_source\n",
    "soup = BeautifulSoup(html, 'html.parser')\n",
    "n = soup.find('span', 'total-news-cnt').text\n",
    "n = int(n)\n",
    "print(n)"
   ]
  },
  {
   "cell_type": "code",
   "execution_count": 4,
   "id": "92b41b33",
   "metadata": {},
   "outputs": [],
   "source": [
    "# 본문내용 담을 리스트 생성\n",
    "conts_li = []\n",
    "\n",
    "# 본문내용 담기\n",
    "for i in range(n):\n",
    "    try:\n",
    "        # 기사제목 클릭\n",
    "        driver.find_element(By.XPATH,'//*[@id=\"news-results\"]/div[{}]/div/div[2]/a'.format(i+1)).click()\n",
    "        time.sleep(1)\n",
    "        cont = driver.find_element(By.XPATH,'//*[@id=\"news-detail-modal\"]/div/div/div[1]/div/div[2]')\n",
    "        contents = cont.text\n",
    "        contents = contents.replace('\\n','').replace('\\'','')\n",
    "        conts_li.append(contents)\n",
    "\n",
    "        # 창 끄기\n",
    "        driver.find_element(By.XPATH,'//*[@id=\"news-detail-modal\"]/div/div/button').click()\n",
    "        time.sleep(1)\n",
    "    except:\n",
    "        conts_li.append('None')"
   ]
  },
  {
   "cell_type": "markdown",
   "id": "33f60349",
   "metadata": {},
   "source": [
    "## 기존 본문내용 잘렸던 파일 불러오기\n",
    "* 기존 csv파일에 새로 만든 csv파일 붙여넣기 안됨 주의!!"
   ]
  },
  {
   "cell_type": "code",
   "execution_count": null,
   "id": "2d6b9f71",
   "metadata": {},
   "outputs": [],
   "source": [
    "# 엑셀파일에 붙여넣기\n",
    "df = pd.read_csv('{}.csv'.format(keyword))\n",
    "df.head()"
   ]
  },
  {
   "cell_type": "code",
   "execution_count": null,
   "id": "7f7c772a",
   "metadata": {},
   "outputs": [],
   "source": [
    "# 엑셀파일 개수랑 맞는지 확인!!!!\n",
    "print(len(df))\n",
    "print(len(conts_li))"
   ]
  },
  {
   "cell_type": "code",
   "execution_count": 7,
   "id": "cbbea25a",
   "metadata": {},
   "outputs": [],
   "source": [
    "# 본문 내용 넣고 csv 파일로 저장\n",
    "df['본문'] = conts_li\n",
    "df.to_csv('./{}.csv'.format(keyword), index=False, encoding='utf-8-sig')"
   ]
  }
 ],
 "metadata": {
  "kernelspec": {
   "display_name": "Python 3 (ipykernel)",
   "language": "python",
   "name": "python3"
  },
  "language_info": {
   "codemirror_mode": {
    "name": "ipython",
    "version": 3
   },
   "file_extension": ".py",
   "mimetype": "text/x-python",
   "name": "python",
   "nbconvert_exporter": "python",
   "pygments_lexer": "ipython3",
   "version": "3.10.4"
  }
 },
 "nbformat": 4,
 "nbformat_minor": 5
}
