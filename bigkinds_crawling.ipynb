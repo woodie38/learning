{
 "cells": [
  {
   "cell_type": "code",
   "execution_count": 9,
   "id": "a28be0d6",
   "metadata": {},
   "outputs": [],
   "source": [
    "import pandas as pd \n",
    "from selenium import webdriver\n",
    "import time\n",
    "from selenium.webdriver.common.by import By\n",
    "from selenium.webdriver.common.keys import Keys\n",
    "import openpyxl"
   ]
  },
  {
   "cell_type": "code",
   "execution_count": 12,
   "id": "454ba3f5",
   "metadata": {},
   "outputs": [],
   "source": [
    "# 데이터 파일\n",
    "df = pd.read_excel('파일명')\n",
    "d"
   ]
  },
  {
   "cell_type": "code",
   "execution_count": 13,
   "id": "6da53f62",
   "metadata": {},
   "outputs": [],
   "source": [
    "# 공백제거\n",
    "df[''] = df[''].str.strip()\n",
    "\n",
    "# 중복제거\n",
    "df = df.drop_duplicates(keep='first')\n",
    "\n",
    "# 인덱스초기화\n",
    "keyword = df['']\n",
    "keyword = keyword.reset_index(drop=True)\n",
    "keyword"
   ]
  },
  {
   "cell_type": "code",
   "execution_count": null,
   "id": "2c1a59ed",
   "metadata": {},
   "outputs": [],
   "source": [
    "keys = keyword.values\n",
    "keys"
   ]
  },
  {
   "cell_type": "code",
   "execution_count": null,
   "id": "cc9afdfd",
   "metadata": {},
   "outputs": [],
   "source": [
    "for n in range(1,2):\n",
    "    try:\n",
    "        driver = webdriver.Chrome(\"chromedriver.exe\")\n",
    "\n",
    "        driver.get(\"https://www.bigkinds.or.kr/v2/news/index.do\")\n",
    "        time.sleep(1)\n",
    "\n",
    "        #로그인\n",
    "\n",
    "        driver.find_element_by_xpath('//*[@id=\"header\"]/div[1]/div/button').click()\n",
    "        time.sleep(1)\n",
    "        driver.find_element_by_xpath('//*[@id=\"header\"]/div[1]/div/div[1]/div[1]/button[2]').click()\n",
    "        time.sleep(1)\n",
    "\n",
    "        driver.find_element(By.ID, \"login-user-id\").send_keys('ID')\n",
    "        driver.find_element(By.ID, \"login-user-password\").send_keys('PASSWORD')\n",
    "        time.sleep(1)\n",
    "        driver.find_element_by_xpath('//*[@id=\"login-btn\"]').click()\n",
    "        driver.find_element_by_xpath('//*[@id=\"header\"]/div[1]/div/div[1]/div[1]/button[1]').click()\n",
    "        time.sleep(1)\n",
    "        \n",
    "        # 검색창에 '검색어' 검색\n",
    "        element = driver.find_element(By.ID, \"total-search-key\")\n",
    "        element.send_keys(keys[n])\n",
    "        time.sleep(1)\n",
    "\n",
    "        # '기간' 클릭\n",
    "        driver.find_element_by_xpath('//*[@id=\"collapse-step-1\"]').click()\n",
    "        driver.find_element_by_xpath('//*[@id=\"collapse-step-1\"]').click()\n",
    "        time.sleep(1)\n",
    "        driver.find_element_by_xpath('//*[@id=\"collapse-step-1-body\"]/div[3]/div/div[1]/div[1]/a').click()\n",
    "        time.sleep(1)\n",
    "\n",
    "        # 날짜 입력\n",
    "        driver.find_element_by_xpath('//*[@id=\"search-begin-date\"]').send_keys(Keys.CONTROL + \"a\");\n",
    "        driver.find_element_by_xpath('//*[@id=\"search-begin-date\"]').send_keys(Keys.DELETE);\n",
    "        driver.find_element_by_xpath('//*[@id=\"search-begin-date\"]').send_keys('2011-11-01')\n",
    "\n",
    "        # 적용버튼 클릭\n",
    "        driver.find_element_by_xpath('//*[@id=\"search-foot-div\"]/div[2]/button[2]').click()\n",
    "        time.sleep(3)\n",
    "\n",
    "        # 분석 시각화 클릭\n",
    "        driver.find_element_by_xpath('//*[@id=\"collapse-step-3\"]').click()\n",
    "        time.sleep(2)\n",
    "\n",
    "        # 엑셀 다운 클릭\n",
    "        driver.find_element_by_xpath('//*[@id=\"analytics-data-download\"]/div[3]/button/i').click()\n",
    "        time.sleep(4)\n",
    "        \n",
    "        # 엑셀 편집\n",
    "        time.sleep(4)\n",
    "        try:\n",
    "            cont = pd.read_excel('../NewsResult_20111101-20221104 ({}).xlsx'.format(n+1))\n",
    "            contents = cont[['일자','제목','키워드','본문','URL']]\n",
    "            contents.to_csv('./bigkinds/{}.csv'.format(keys[n]), encoding='utf-8-sig', index=False)\n",
    "        except:\n",
    "            cont.to_csv('./bigkinds/{}_nonefile.csv'.format(keys[n]), encoding='utf-8-sig', index=False)\n",
    "    except:\n",
    "        print(keys[n])"
   ]
  },
  {
   "cell_type": "markdown",
   "id": "6ccd8235",
   "metadata": {},
   "source": [
    "---"
   ]
  },
  {
   "cell_type": "markdown",
   "id": "c941c31a",
   "metadata": {},
   "source": [
    "### 수정필요한 사항\n",
    "- 빅카인즈 검색결과에서 20000건이 초과 시 확인 팝업창이 뜨는 경우 대처 필요\n",
    "- 프로세스가 멈췄을 때 순서가 계속 밀리는 현상 대처 필요\n",
    "- 직접 손으로 했을 때 1시간에 30개정도, 크롤링으로 했을 때 1시간에 100개정도.. 속도를 더 높일 방법 필요"
   ]
  }
 ],
 "metadata": {
  "kernelspec": {
   "display_name": "Python 3 (ipykernel)",
   "language": "python",
   "name": "python3"
  },
  "language_info": {
   "codemirror_mode": {
    "name": "ipython",
    "version": 3
   },
   "file_extension": ".py",
   "mimetype": "text/x-python",
   "name": "python",
   "nbconvert_exporter": "python",
   "pygments_lexer": "ipython3",
   "version": "3.10.4"
  }
 },
 "nbformat": 4,
 "nbformat_minor": 5
}
